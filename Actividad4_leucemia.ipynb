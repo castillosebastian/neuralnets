{
 "cells": [
  {
   "attachments": {},
   "cell_type": "markdown",
   "id": "36770985-f171-4897-8da7-6fdda5f3ed05",
   "metadata": {},
   "source": [
    "## Importamos librerías"
   ]
  },
  {
   "cell_type": "code",
   "execution_count": 18,
   "id": "1dd078ca-8a70-44fb-a1a5-b4c8c0a026af",
   "metadata": {},
   "outputs": [],
   "source": [
    "import math\n",
    "import random\n",
    "\n",
    "import matplotlib.pyplot as plt\n",
    "import numpy as np\n",
    "import pandas as pd\n",
    "\n",
    "from sklearn.preprocessing import StandardScaler\n",
    "from sklearn.neural_network import MLPClassifier\n",
    "\n",
    "from tqdm import tqdm\n",
    "\n",
    "from deap import base  # Estructura que permite agrupar todos los componentes de nuestro algoritmo en una misma bolsa\n",
    "from deap import creator  # Permite crear los componentes de nuestro algoritmo\n",
    "from deap import tools  # Contiene funciones precargadas\n",
    "\n",
    "from joblib import Parallel, delayed"
   ]
  },
  {
   "attachments": {},
   "cell_type": "markdown",
   "id": "c45474d1-fdd8-4f23-a516-28dc9bd6499d",
   "metadata": {},
   "source": [
    "# PARTICIONO LOS DATOS"
   ]
  },
  {
   "attachments": {},
   "cell_type": "markdown",
   "id": "4732ad18-78a3-48cc-9398-8d28e913953d",
   "metadata": {},
   "source": [
    "# Leemos los datasets"
   ]
  },
  {
   "cell_type": "code",
   "execution_count": 19,
   "id": "f5182035-78f5-43b2-b817-a21c2c4b804e",
   "metadata": {},
   "outputs": [
    {
     "data": {
      "text/html": [
       "<div>\n",
       "<style scoped>\n",
       "    .dataframe tbody tr th:only-of-type {\n",
       "        vertical-align: middle;\n",
       "    }\n",
       "\n",
       "    .dataframe tbody tr th {\n",
       "        vertical-align: top;\n",
       "    }\n",
       "\n",
       "    .dataframe thead th {\n",
       "        text-align: right;\n",
       "    }\n",
       "</style>\n",
       "<table border=\"1\" class=\"dataframe\">\n",
       "  <thead>\n",
       "    <tr style=\"text-align: right;\">\n",
       "      <th></th>\n",
       "      <th>0</th>\n",
       "      <th>1</th>\n",
       "      <th>2</th>\n",
       "      <th>3</th>\n",
       "      <th>4</th>\n",
       "      <th>5</th>\n",
       "      <th>6</th>\n",
       "      <th>7</th>\n",
       "      <th>8</th>\n",
       "      <th>9</th>\n",
       "      <th>...</th>\n",
       "      <th>7120</th>\n",
       "      <th>7121</th>\n",
       "      <th>7122</th>\n",
       "      <th>7123</th>\n",
       "      <th>7124</th>\n",
       "      <th>7125</th>\n",
       "      <th>7126</th>\n",
       "      <th>7127</th>\n",
       "      <th>7128</th>\n",
       "      <th>7129</th>\n",
       "    </tr>\n",
       "  </thead>\n",
       "  <tbody>\n",
       "    <tr>\n",
       "      <th>0</th>\n",
       "      <td>-72.0</td>\n",
       "      <td>-144.0</td>\n",
       "      <td>238.0</td>\n",
       "      <td>55.0</td>\n",
       "      <td>-399.0</td>\n",
       "      <td>-551.0</td>\n",
       "      <td>131.0</td>\n",
       "      <td>-179.0</td>\n",
       "      <td>126.0</td>\n",
       "      <td>-20.0</td>\n",
       "      <td>...</td>\n",
       "      <td>819.0</td>\n",
       "      <td>-178.0</td>\n",
       "      <td>151.0</td>\n",
       "      <td>-18.0</td>\n",
       "      <td>1140.0</td>\n",
       "      <td>482.0</td>\n",
       "      <td>10.0</td>\n",
       "      <td>369.0</td>\n",
       "      <td>-42.0</td>\n",
       "      <td>1</td>\n",
       "    </tr>\n",
       "    <tr>\n",
       "      <th>1</th>\n",
       "      <td>-135.0</td>\n",
       "      <td>-186.0</td>\n",
       "      <td>-70.0</td>\n",
       "      <td>337.0</td>\n",
       "      <td>-407.0</td>\n",
       "      <td>-566.0</td>\n",
       "      <td>-141.0</td>\n",
       "      <td>-315.0</td>\n",
       "      <td>206.0</td>\n",
       "      <td>321.0</td>\n",
       "      <td>...</td>\n",
       "      <td>634.0</td>\n",
       "      <td>-58.0</td>\n",
       "      <td>375.0</td>\n",
       "      <td>-23.0</td>\n",
       "      <td>2315.0</td>\n",
       "      <td>250.0</td>\n",
       "      <td>-12.0</td>\n",
       "      <td>790.0</td>\n",
       "      <td>-10.0</td>\n",
       "      <td>2</td>\n",
       "    </tr>\n",
       "    <tr>\n",
       "      <th>2</th>\n",
       "      <td>-318.0</td>\n",
       "      <td>-192.0</td>\n",
       "      <td>-95.0</td>\n",
       "      <td>312.0</td>\n",
       "      <td>-139.0</td>\n",
       "      <td>-344.0</td>\n",
       "      <td>324.0</td>\n",
       "      <td>-237.0</td>\n",
       "      <td>105.0</td>\n",
       "      <td>167.0</td>\n",
       "      <td>...</td>\n",
       "      <td>737.0</td>\n",
       "      <td>63.0</td>\n",
       "      <td>472.0</td>\n",
       "      <td>33.0</td>\n",
       "      <td>737.0</td>\n",
       "      <td>227.0</td>\n",
       "      <td>-9.0</td>\n",
       "      <td>371.0</td>\n",
       "      <td>-31.0</td>\n",
       "      <td>2</td>\n",
       "    </tr>\n",
       "    <tr>\n",
       "      <th>3</th>\n",
       "      <td>-135.0</td>\n",
       "      <td>-114.0</td>\n",
       "      <td>265.0</td>\n",
       "      <td>12.0</td>\n",
       "      <td>-419.0</td>\n",
       "      <td>-585.0</td>\n",
       "      <td>158.0</td>\n",
       "      <td>-253.0</td>\n",
       "      <td>49.0</td>\n",
       "      <td>31.0</td>\n",
       "      <td>...</td>\n",
       "      <td>835.0</td>\n",
       "      <td>218.0</td>\n",
       "      <td>174.0</td>\n",
       "      <td>-110.0</td>\n",
       "      <td>627.0</td>\n",
       "      <td>170.0</td>\n",
       "      <td>-50.0</td>\n",
       "      <td>126.0</td>\n",
       "      <td>-91.0</td>\n",
       "      <td>1</td>\n",
       "    </tr>\n",
       "    <tr>\n",
       "      <th>4</th>\n",
       "      <td>-88.0</td>\n",
       "      <td>-105.0</td>\n",
       "      <td>42.0</td>\n",
       "      <td>219.0</td>\n",
       "      <td>-178.0</td>\n",
       "      <td>-246.0</td>\n",
       "      <td>328.0</td>\n",
       "      <td>-148.0</td>\n",
       "      <td>177.0</td>\n",
       "      <td>183.0</td>\n",
       "      <td>...</td>\n",
       "      <td>986.0</td>\n",
       "      <td>26.0</td>\n",
       "      <td>101.0</td>\n",
       "      <td>21.0</td>\n",
       "      <td>570.0</td>\n",
       "      <td>359.0</td>\n",
       "      <td>9.0</td>\n",
       "      <td>171.0</td>\n",
       "      <td>7.0</td>\n",
       "      <td>1</td>\n",
       "    </tr>\n",
       "  </tbody>\n",
       "</table>\n",
       "<p>5 rows × 7130 columns</p>\n",
       "</div>"
      ],
      "text/plain": [
       "    0      1      2      3      4      5      6      7      8      9     ...   \n",
       "0  -72.0 -144.0  238.0   55.0 -399.0 -551.0  131.0 -179.0  126.0  -20.0  ...  \\\n",
       "1 -135.0 -186.0  -70.0  337.0 -407.0 -566.0 -141.0 -315.0  206.0  321.0  ...   \n",
       "2 -318.0 -192.0  -95.0  312.0 -139.0 -344.0  324.0 -237.0  105.0  167.0  ...   \n",
       "3 -135.0 -114.0  265.0   12.0 -419.0 -585.0  158.0 -253.0   49.0   31.0  ...   \n",
       "4  -88.0 -105.0   42.0  219.0 -178.0 -246.0  328.0 -148.0  177.0  183.0  ...   \n",
       "\n",
       "    7120   7121   7122   7123    7124   7125  7126   7127  7128  7129  \n",
       "0  819.0 -178.0  151.0  -18.0  1140.0  482.0  10.0  369.0 -42.0     1  \n",
       "1  634.0  -58.0  375.0  -23.0  2315.0  250.0 -12.0  790.0 -10.0     2  \n",
       "2  737.0   63.0  472.0   33.0   737.0  227.0  -9.0  371.0 -31.0     2  \n",
       "3  835.0  218.0  174.0 -110.0   627.0  170.0 -50.0  126.0 -91.0     1  \n",
       "4  986.0   26.0  101.0   21.0   570.0  359.0   9.0  171.0   7.0     1  \n",
       "\n",
       "[5 rows x 7130 columns]"
      ]
     },
     "execution_count": 19,
     "metadata": {},
     "output_type": "execute_result"
    }
   ],
   "source": [
    "TRAIN = pd.read_csv('data/leuk_train.csv', header=None)\n",
    "TEST = pd.read_csv('data/leuk_test.csv', header=None)\n",
    "\n",
    "TRAIN.head(5)"
   ]
  },
  {
   "attachments": {},
   "cell_type": "markdown",
   "id": "40791c59-5d5f-4fa5-aa85-9fb6a6d5677e",
   "metadata": {},
   "source": [
    "# Normalizamos los datos"
   ]
  },
  {
   "cell_type": "code",
   "execution_count": 20,
   "id": "ac1b167a-fa67-4a64-9c1a-2be96256c4ef",
   "metadata": {},
   "outputs": [],
   "source": [
    "scaler = StandardScaler()\n",
    "TRAIN = TRAIN.to_numpy()\n",
    "TEST = TEST.to_numpy()\n",
    "\n",
    "X_TRAIN = TRAIN[:,:-1]\n",
    "#y_train = (TRAIN[:,-1] + 1) /2\n",
    "y_train = TRAIN[:,-1]\n",
    "y_train = np.where(np.array(y_train) == 2, 1, 0).astype('int64')\n",
    "\n",
    "\n",
    "X_TEST = TEST[:,:-1]\n",
    "y_test = TEST[:,-1]\n",
    "y_test = np.where(np.array(y_test) == 2, 1, 0).astype('int64')\n",
    "\n",
    "scaler.fit(X_TRAIN)\n",
    "\n",
    "Xtrain = scaler.transform(X_TRAIN)\n",
    "Xtest = scaler.transform(X_TEST)"
   ]
  },
  {
   "cell_type": "code",
   "execution_count": 21,
   "id": "697e01a5",
   "metadata": {},
   "outputs": [
    {
     "name": "stdout",
     "output_type": "stream",
     "text": [
      "[0 1 1 0 0 0 1 0 0 1 1 1 1 1 1 0 0 0 0 0 0 1 0 1 0 1 1 1 0 0 0 0 0 0 0 0 0\n",
      " 0 0 0 0 1 1 1 1 1]\n",
      "[0 0 0 0 0 0 0 0 0 0 0 1 1 1 1 1 0 0 1 1 0 1 1 1 1 1 1 1 0 0 0 0 0 0]\n"
     ]
    }
   ],
   "source": [
    "print(y_train)\n",
    "print(y_test)"
   ]
  },
  {
   "attachments": {},
   "cell_type": "markdown",
   "id": "85b39ae1-f26c-468f-871f-f631876710c2",
   "metadata": {},
   "source": [
    "## Funciones auxiliares"
   ]
  },
  {
   "cell_type": "code",
   "execution_count": 22,
   "id": "b178f92e-820c-483b-80f4-54c5e3e1e6f6",
   "metadata": {},
   "outputs": [],
   "source": [
    "#=================================\n",
    "def bin(p=0.9):\n",
    "    '''\n",
    "    Esta función genera un bit al azar.\n",
    "    '''\n",
    "    if random.random() < p:\n",
    "        return 1\n",
    "    else:\n",
    "        return 0\n",
    "#=================================\n",
    "\n",
    "\n",
    "#=================================\n",
    "def fitness(features, Xtrain, Xtest, y_train, y_test):\n",
    "    '''\n",
    "    Función de aptitud empleada por nuestro algoritmo.\n",
    "    '''\n",
    "    if not isinstance(features, np.ndarray):\n",
    "        features = np.array(features)\n",
    "\n",
    "    if not isinstance(features[0], bool):\n",
    "        features = features.astype(bool)\n",
    "    \n",
    "    X_train = Xtrain[:,features]\n",
    "    X_test = Xtest[:,features]\n",
    "    \n",
    "    mlp = MLPClassifier(hidden_layer_sizes=(5,3),\n",
    "                        activation='tanh',\n",
    "                        solver='adam',\n",
    "                        alpha=0.0001,\n",
    "                        learning_rate_init=0.001,\n",
    "                        shuffle=True,\n",
    "                        momentum=0.9,\n",
    "                        validation_fraction=0.2,\n",
    "                        n_iter_no_change=10,\n",
    "                        random_state=42,\n",
    "                        max_iter=3000).fit(X_train, y_train)\n",
    "\n",
    "    yp = mlp.predict(X_test)\n",
    "\n",
    "    acc = (y_test == yp).sum()/len(y_test)\n",
    "\n",
    "    n_genes = 1 - (features.sum() / len(features))\n",
    "\n",
    "    alpha = 0.5\n",
    "    f = (alpha*acc + (1-alpha)*n_genes)\n",
    "    \n",
    "    return f, acc, n_genes\n",
    "#=================================\n",
    "\n",
    "    \n",
    "#=================================\n",
    "def mutation(ind, p):\n",
    "    '''\n",
    "    Esta función recorre el cromosoma y evalúa, para cada gen,\n",
    "    si debe aplicar el operador de mutación.\n",
    "    '''\n",
    "    return [abs(i-1) if random.random() < p else i for i in ind]\n",
    "#================================="
   ]
  },
  {
   "attachments": {},
   "cell_type": "markdown",
   "id": "b0b717bd-dfd7-4443-aa25-d2c3973479aa",
   "metadata": {},
   "source": [
    "## Inicializamos parámetros del experimento"
   ]
  },
  {
   "cell_type": "code",
   "execution_count": 23,
   "id": "f1d51f68-b17b-4e8d-939a-9e83f3245817",
   "metadata": {},
   "outputs": [],
   "source": [
    "IND_SIZE = Xtrain.shape[1]  # Cantidad de genes en el cromosoma\n",
    "\n",
    "POP_SIZE = 100  # Cantidad de individuos en la población\n",
    "PM = 20./IND_SIZE  # Probabilidad de mutación [aproximadamente 1 gen por cromosoma]\n",
    "#                   Experimento 4: con mayor probabilidad de mutación.\n",
    "# PM = 20./IND_SIZE __experimento 2 mejoró el fitness y acc en la segunda generación pero luego se estancó\n",
    "PX = 0.75  # Probabilidad de cruza\n",
    "# PX = 0.85  # Probabilidad de cruza\n",
    "GMAX = 10  # Cantidad máxima de generaciones que se ejecutará el algoritmo"
   ]
  },
  {
   "cell_type": "code",
   "execution_count": 24,
   "id": "0cc91526",
   "metadata": {},
   "outputs": [
    {
     "name": "stdout",
     "output_type": "stream",
     "text": [
      "7129\n",
      "100\n",
      "0.0028054425585636133\n",
      "0.75\n",
      "10\n"
     ]
    }
   ],
   "source": [
    "print(IND_SIZE)\n",
    "print(POP_SIZE)\n",
    "print(PM)\n",
    "print(PX)\n",
    "print(GMAX)"
   ]
  },
  {
   "attachments": {},
   "cell_type": "markdown",
   "id": "fe0f6609-b27d-4746-a0bb-6b1be92ed286",
   "metadata": {},
   "source": [
    "## Creamos los componentes del algoritmo\n",
    "\n",
    "**Documentación**: https://deap.readthedocs.io/en/master/api/creator.html"
   ]
  },
  {
   "cell_type": "code",
   "execution_count": 25,
   "id": "44fb68e5-c4b4-4ac8-89c7-e8cc5a78f8e1",
   "metadata": {},
   "outputs": [
    {
     "name": "stderr",
     "output_type": "stream",
     "text": [
      "/home/sebacastillo/.neuralnets/lib/python3.9/site-packages/deap/creator.py:138: RuntimeWarning: A class named 'Fitness' has already been created and it will be overwritten. Consider deleting previous creation of that class or rename it.\n",
      "  warnings.warn(\"A class named '{0}' has already been created and it \"\n",
      "/home/sebacastillo/.neuralnets/lib/python3.9/site-packages/deap/creator.py:138: RuntimeWarning: A class named 'Individual' has already been created and it will be overwritten. Consider deleting previous creation of that class or rename it.\n",
      "  warnings.warn(\"A class named '{0}' has already been created and it \"\n"
     ]
    }
   ],
   "source": [
    "# CREAMOS LA FUNCION DE FITNESS\n",
    "# Esta función tiene \"1 OBJETIVO\" a \"MAXIMIZAR\"\n",
    "creator.create(\"Fitness\",  # Nombre con el que se registra el componente\n",
    "               base.Fitness,  # Clase de la que hereda\n",
    "               weights=(1.0,)) \n",
    "\n",
    "#---------------------\n",
    "\n",
    "# CREAMOS EL CONSTRUCTOR DE INDIVIDUOS\n",
    "creator.create(\"Individual\", # Nombre con el que se registra el componente\n",
    "               list,  # Clase de la que hereda [Tipo de contenedor en este caso]\n",
    "               fitness=creator.Fitness,\n",
    "               acc=0,\n",
    "               ngenes=0)  # Asignamos un método para evaluar el fitness del individuo"
   ]
  },
  {
   "attachments": {},
   "cell_type": "markdown",
   "id": "62fbdaa2-6ddc-4424-a0d9-4132069ff231",
   "metadata": {},
   "source": [
    "## REGISTRAMOS COMPONENTES"
   ]
  },
  {
   "cell_type": "code",
   "execution_count": 26,
   "id": "093e8901-ebf8-4bf0-b286-ab04571f5a55",
   "metadata": {},
   "outputs": [],
   "source": [
    "toolbox = base.Toolbox()\n",
    "\n",
    "#---------------------\n",
    "\n",
    "# DEFINIMOS COMO CONSTRUIR UN GEN\n",
    "# el algoritmo retenie la historia de fitnes de genes activos, contribuyendo !!!IMPORTANTE\n",
    "# a la selección de las variables que contribuyen a mejorar el fitness\n",
    "toolbox.register(\"attribute\",  # Nombre con el que se registra el componente\n",
    "                 bin,\n",
    "                 p=0.1)\n",
    "                        # Probabilidad de un \"1\":   exp1:0.1 =ELITE -- Fitness: 0.9513 -- NGENES: 694 -- Acc: 1.0\n",
    "                        #                           exp2:0.2 =ELITE -- Fitness: 0.8885 -- NGENES: 1380 -- Acc: 0.9706\n",
    "                        #                           exp3:0.05=ELITE -- Fitness: 0.9595 -- NGENES: 368 -- Acc: 0.9706\n",
    "\n",
    "#---------------------\n",
    "\n",
    "# DEFINIMOS COMO CONSTRUIR UN INDIVIDUO/CROMOSOMA\n",
    "toolbox.register(\"individual\",  # Nombre con el que se registra el componente\n",
    "                 tools.initRepeat,  # Método usado para construir el cromosoma\n",
    "                 creator.Individual,  # ...\n",
    "                 toolbox.attribute,  # Función para construir cada gen\n",
    "                 n=IND_SIZE)  # Número de genes del cromosoma/individuo (se repetirá la función construir gen)\n",
    "\n",
    "#---------------------\n",
    "\n",
    "# DEFINIMOS COMO CONSTRUIR LA POBLACION\n",
    "toolbox.register(\"population\",  # Nombre con el que se registra el componente\n",
    "                 tools.initRepeat,  # Método usado para construir el cromosoma\n",
    "                 list,\n",
    "                 toolbox.individual)\n",
    "\n",
    "#---------------------\n",
    "\n",
    "# DEFINIMOS COMO REALIZAR LA CRUZA\n",
    "toolbox.register(\"mate\",  # Nombre con el que se registra el componente\n",
    "                 tools.cxTwoPoint)  # \n",
    "\n",
    "#---------------------\n",
    "\n",
    "# DEFINIMOS COMO REALIZAR LA MUTACION\n",
    "toolbox.register(\"mutate\",  # Nombre con el que se registra el componente\n",
    "                 mutation,  # Método de mutación (definido como función más arriba)\n",
    "                 p=PM)  # Parámetro que usa la mutación\n",
    "\n",
    "#toolbox.register(\"mutate\", tools.mutFlipBit, indpb=0.05)\n",
    "#toolbox.register(\"mutate\", tools.mutGaussian, mu=0, sigma=1, indpb=0.2)\n",
    "\n",
    "#---------------------\n",
    "\n",
    "# DEFINIMOS COMO REALIZAR LA SELECCION DE INDIVIDUOS\n",
    "toolbox.register(\"select\",  # Nombre con el que se registra el componente\n",
    "                 tools.selTournament,  # Método usado para selección [selRoulette | selTournament | ...]\n",
    "                 tournsize=5)  # Parámetro que usa el torneo"
   ]
  },
  {
   "attachments": {},
   "cell_type": "markdown",
   "id": "e1def515",
   "metadata": {},
   "source": [
    "- Exp1: GENERATION: 9\n",
    "ELITE -- Fitness: 0.9513 -- NGENES: 694 -- Acc: 1.0\n",
    "FITNES:  {'avg': 0.8697142986806168, 'std': 0.027586638769633427, 'min': 0.8145540584027131, 'max': 0.9513255716089213}\n",
    "ACC:  {'avg': 0.8394117647058824, 'std': 0.05461725901854616, 'min': 0.7352941176470589, 'max': 1.0}\n",
    "GENES:  {'avg': 712.78, 'std': 25.056168901091002, 'min': 653, 'max': 763}\n",
    "- Exp2: GENERATION: 9\n",
    "ELITE -- Fitness: 0.8885 -- NGENES: 1380 -- Acc: 0.9706\n",
    "FITNES:  {'avg': 0.8272676227174836, 'std': 0.024920596931551037, 'min': 0.7646873169242449, 'max': 0.8885063493766141}\n",
    "ACC:  {'avg': 0.8552941176470585, 'std': 0.048805808265156576, 'min': 0.7352941176470589, 'max': 0.9705882352941176}\n",
    "GENES:  {'avg': 1431.21, 'std': 37.71294074982751, 'min': 1355, 'max': 1536}.    \n",
    "- Exp3: GENERATION: 9\n",
    "ELITE -- Fitness: 0.9595 -- NGENES: 368 -- Acc: 0.9706\n",
    "FITNES:  {'avg': 0.8816389147888077, 'std': 0.027021241726038436, 'min': 0.8276921934435157, 'max': 0.9594840461082736}\n",
    "ACC:  {'avg': 0.8129411764705883, 'std': 0.05447452660136576, 'min': 0.7058823529411765, 'max': 0.9705882352941176}\n",
    "GENES:  {'avg': 354.05, 'std': 15.80909548329695, 'min': 312, 'max': 389}\n",
    "- Exp4: GENERATION: 1\n",
    "ELITE -- Fitness: 0.952 -- NGENES: 685 -- Acc: 1.0\n",
    "FITNES:  {'avg': 0.8723936200935699, 'std': 0.028993468885661018, 'min': 0.799918312113736, 'max': 0.951956796184598}\n",
    "ACC:  {'avg': 0.8447058823529412, 'std': 0.057496802980175996, 'min': 0.7058823529411765, 'max': 1.0}\n",
    "GENES:  {'avg': 712.32, 'std': 29.10081785792283, 'min': 635, 'max': 777}"
   ]
  },
  {
   "attachments": {},
   "cell_type": "markdown",
   "id": "2cec6c90-35ca-4c0e-bd51-1342ed75fd99",
   "metadata": {},
   "source": [
    "## Definimos las estadísticas a calcular"
   ]
  },
  {
   "cell_type": "code",
   "execution_count": 27,
   "id": "1258a42b-47b6-4757-92e6-d83b49f08e66",
   "metadata": {},
   "outputs": [],
   "source": [
    "# EXTRAEMOS EL FITNESS DE TODOS LOS INDIVIDUOS\n",
    "stats_fit = tools.Statistics(key=lambda ind: ind.fitness.values[0])\n",
    "\n",
    "# EXTRAEMOS EL ACC DE TODOS LOS INDIVIDUOS\n",
    "stats_acc = tools.Statistics(key=lambda ind: ind.acc)\n",
    "\n",
    "# EXTRAEMOS LA FRACCION DE GENES ACTIVOS DE TODOS LOS INDIVIDUOS\n",
    "stats_frac_active_genes = tools.Statistics(key=lambda ind: ind.ngenes)\n",
    "\n",
    "# EXTRAEMOS EL NUMERO DE GENES ACTIVOS DE TODOS LOS INDIVIDUOS\n",
    "stats_active_genes = tools.Statistics(key=lambda ind: np.sum(ind))\n",
    "\n",
    "mstats = tools.MultiStatistics(fitness=stats_fit,\n",
    "                               acc=stats_acc,\n",
    "                               frac_ngenes=stats_frac_active_genes,\n",
    "                               ngenes=stats_active_genes)\n",
    "\n",
    "mstats.register(\"avg\", np.mean)\n",
    "mstats.register(\"std\", np.std)\n",
    "mstats.register(\"min\", np.min)\n",
    "mstats.register(\"max\", np.max)\n",
    "\n",
    "# INICIALIZAMOS UN LOGGER\n",
    "logbook = tools.Logbook()"
   ]
  },
  {
   "attachments": {},
   "cell_type": "markdown",
   "id": "aedc21a0-2f3c-4901-ae47-49a0c5551875",
   "metadata": {},
   "source": [
    "# Corremos el modelo con todas las features"
   ]
  },
  {
   "cell_type": "code",
   "execution_count": 28,
   "id": "cfcee139-df38-4855-a401-4124546166aa",
   "metadata": {},
   "outputs": [
    {
     "name": "stdout",
     "output_type": "stream",
     "text": [
      "FITNESS: 0.4265 -- NGENES: 7129 -- Acc: 0.8529\n",
      "\n"
     ]
    }
   ],
   "source": [
    "f = fitness(np.ones(Xtrain.shape[1]), Xtrain, Xtest, y_train, y_test)\n",
    "\n",
    "print(f'FITNESS: {f[0]:.4} -- NGENES: {int(Xtrain.shape[1])} -- Acc: {f[1]:.4}\\n')"
   ]
  },
  {
   "cell_type": "code",
   "execution_count": 29,
   "id": "5b34a023-fdd4-441b-95e1-aef005c2ea91",
   "metadata": {
    "scrolled": true
   },
   "outputs": [],
   "source": [
    "#================================================\n",
    "# INICIALIZAMOS LA POBLACIÓN\n",
    "#================================================\n",
    "pop = toolbox.population(n=POP_SIZE)  # Inicializamos una población\n",
    "#================================================\n",
    "\n",
    "\n",
    "#================================================\n",
    "# EVALUAMOS EL FITNESS DE LA POBLACION\n",
    "#======================================\n",
    "#fitnesses = list(map(toolbox.evaluate, pop))\n",
    "fitnesses = Parallel(n_jobs=4, backend='multiprocessing')(delayed(fitness)(ind, Xtrain, Xtest, y_train, y_test) for ind in pop)\n",
    "#================================================\n",
    "\n",
    "\n",
    "#================================================\n",
    "# ASIGNAMOS A CADA INDIVIDUO SU FITNESS\n",
    "#========================================\n",
    "for ind,fit in zip(pop, fitnesses):\n",
    "    ind.fitness.values = (fit[0],)  # Guardamos el fitness para cada individuo (en el individuo)\n",
    "    ind.acc = fit[1]\n",
    "    ind.ngenes = fit[2]\n",
    "#================================================\n",
    "\n",
    "records = mstats.compile(pop)\n",
    "logbook.record(gen=0, **records)"
   ]
  },
  {
   "cell_type": "code",
   "execution_count": 30,
   "id": "31952a0b-791f-42e2-8cf8-689aa95d267c",
   "metadata": {},
   "outputs": [
    {
     "name": "stdout",
     "output_type": "stream",
     "text": [
      "===============================================================================\n",
      "GENERATION: 1\n",
      "ELITE -- Fitness: 0.952 -- NGENES: 685 -- Acc: 1.0\n",
      "FITNES:  {'avg': 0.8723936200935699, 'std': 0.028993468885661018, 'min': 0.799918312113736, 'max': 0.951956796184598}\n",
      "ACC:  {'avg': 0.8447058823529412, 'std': 0.057496802980175996, 'min': 0.7058823529411765, 'max': 1.0}\n",
      "GENES:  {'avg': 712.32, 'std': 29.10081785792283, 'min': 635, 'max': 777}\n",
      "===============================================================================\n",
      "GENERATION: 2\n",
      "ELITE -- Fitness: 0.952 -- NGENES: 685 -- Acc: 1.0\n",
      "FITNES:  {'avg': 0.866342466149035, 'std': 0.028717858643125684, 'min': 0.7768187931646218, 'max': 0.951956796184598}\n",
      "ACC:  {'avg': 0.8326470588235297, 'std': 0.05698524667929714, 'min': 0.6470588235294118, 'max': 1.0}\n",
      "GENES:  {'avg': 712.63, 'std': 28.897977437876165, 'min': 643, 'max': 771}\n",
      "===============================================================================\n",
      "GENERATION: 3\n",
      "ELITE -- Fitness: 0.952 -- NGENES: 685 -- Acc: 1.0\n",
      "FITNES:  {'avg': 0.8706071720313879, 'std': 0.029339775191857997, 'min': 0.7768187931646218, 'max': 0.951956796184598}\n",
      "ACC:  {'avg': 0.8411764705882354, 'std': 0.05926306376355849, 'min': 0.6470588235294118, 'max': 1.0}\n",
      "GENES:  {'avg': 712.63, 'std': 29.47258217394601, 'min': 643, 'max': 786}\n",
      "===============================================================================\n",
      "GENERATION: 4\n",
      "ELITE -- Fitness: 0.952 -- NGENES: 685 -- Acc: 1.0\n",
      "FITNES:  {'avg': 0.8701709050852772, 'std': 0.029897288483636247, 'min': 0.8004794006254488, 'max': 0.951956796184598}\n",
      "ACC:  {'avg': 0.840294117647059, 'std': 0.059880937230462714, 'min': 0.7058823529411765, 'max': 1.0}\n",
      "GENES:  {'avg': 712.56, 'std': 27.61315628464084, 'min': 633, 'max': 782}\n",
      "===============================================================================\n",
      "GENERATION: 5\n",
      "ELITE -- Fitness: 0.952 -- NGENES: 685 -- Acc: 1.0\n",
      "FITNES:  {'avg': 0.873994434497042, 'std': 0.028300165539066866, 'min': 0.8051083808470787, 'max': 0.951956796184598}\n",
      "ACC:  {'avg': 0.8479411764705883, 'std': 0.056429979271249375, 'min': 0.7058823529411765, 'max': 1.0}\n",
      "GENES:  {'avg': 712.56, 'std': 26.374351176853622, 'min': 656, 'max': 782}\n",
      "===============================================================================\n",
      "GENERATION: 6\n",
      "ELITE -- Fitness: 0.952 -- NGENES: 685 -- Acc: 1.0\n",
      "FITNES:  {'avg': 0.8689944344970418, 'std': 0.02600360258271619, 'min': 0.8145540584027131, 'max': 0.951956796184598}\n",
      "ACC:  {'avg': 0.8379411764705883, 'std': 0.05219987537934719, 'min': 0.7352941176470589, 'max': 1.0}\n",
      "GENES:  {'avg': 712.56, 'std': 26.875014418600784, 'min': 643, 'max': 781}\n",
      "===============================================================================\n",
      "GENERATION: 7\n",
      "ELITE -- Fitness: 0.952 -- NGENES: 685 -- Acc: 1.0\n",
      "FITNES:  {'avg': 0.8691309729109769, 'std': 0.02710616425127054, 'min': 0.7882984165752147, 'max': 0.951956796184598}\n",
      "ACC:  {'avg': 0.8382352941176472, 'std': 0.05399282279613476, 'min': 0.6764705882352942, 'max': 1.0}\n",
      "GENES:  {'avg': 712.71, 'std': 25.687855107034533, 'min': 652, 'max': 766}\n",
      "===============================================================================\n",
      "GENERATION: 8\n",
      "ELITE -- Fitness: 0.952 -- NGENES: 685 -- Acc: 1.0\n",
      "FITNES:  {'avg': 0.8666309729109769, 'std': 0.030633974552676007, 'min': 0.8009002170092332, 'max': 0.951956796184598}\n",
      "ACC:  {'avg': 0.8332352941176473, 'std': 0.061280313450642485, 'min': 0.7058823529411765, 'max': 1.0}\n",
      "GENES:  {'avg': 712.71, 'std': 26.716397586501067, 'min': 636, 'max': 773}\n",
      "===============================================================================\n",
      "GENERATION: 9\n",
      "ELITE -- Fitness: 0.952 -- NGENES: 685 -- Acc: 1.0\n",
      "FITNES:  {'avg': 0.8673662670286241, 'std': 0.030568118964200187, 'min': 0.8009002170092332, 'max': 0.951956796184598}\n",
      "ACC:  {'avg': 0.8347058823529412, 'std': 0.061523337907386295, 'min': 0.7058823529411765, 'max': 1.0}\n",
      "GENES:  {'avg': 712.71, 'std': 28.784473245136866, 'min': 620, 'max': 790}\n"
     ]
    }
   ],
   "source": [
    "#################################################################################\n",
    "# COMENZAMOS LA EVOLUCION\n",
    "################################\n",
    "\n",
    "for g in range(1,GMAX):#tqdm(range(GMAX)):\n",
    "\n",
    "    #================================================\n",
    "    # SELECCIONAMOS INDIVIDUO ELITE\n",
    "    #================================\n",
    "    idx_elite = np.argmax(fitnesses, axis=0)[0]  # Si maximizamos, hay que usar \".argmax()\". El indiv. con mejor fitness\n",
    "    elite = toolbox.clone(pop[idx_elite])\n",
    "    del elite.fitness.values, elite.acc, elite.ngenes\n",
    "    #================================================\n",
    "\n",
    "    \n",
    "    #================================================\n",
    "    # HACEMOS UNA COPIA DE LA POBLACION ACTUAL\n",
    "    #==========================================\n",
    "    #offspring = toolbox.select(pop, POP_SIZE)  # Seleccionamos individuos para alcanzar\n",
    "                                               # el tamaño de la población\n",
    "    \n",
    "    offspring = list(map(toolbox.clone, pop))  # Clonamos para tener nuevos individuos\n",
    "                                                     # (contenedores independientes)\n",
    "    #================================================\n",
    "\n",
    "\n",
    "    #================================================\n",
    "    # REALIZAMOS LA CRUZA DE LOS PADRES\n",
    "    #====================================\n",
    "    for child1, child2 in zip(offspring[::2], offspring[1::2]):\n",
    "        if random.random() < PX:\n",
    "            toolbox.mate(child1, child2)\n",
    "            del child1.fitness.values, child1.acc, child1.ngenes\n",
    "            del child2.fitness.values, child2.acc, child2.ngenes\n",
    "    #================================================\n",
    "\n",
    "\n",
    "    #================================================\n",
    "    # MUTAMOS LOS HIJOS\n",
    "    #=================================\n",
    "    for mutant in offspring:\n",
    "        toolbox.mutate(mutant)\n",
    "        del mutant.fitness.values  #, mutant.acc, mutant.ngenes\n",
    "    #================================================\n",
    "    \n",
    "    \n",
    "    #================================================\n",
    "    # EVALUAMOS EL FITNESS\n",
    "    # Y SE LO ASIGNAMOS A CADA INDIVIDUO\n",
    "    #======================================\n",
    "    offspring[0] = elite\n",
    "    \n",
    "    fitnesses = Parallel(n_jobs=4, backend='multiprocessing')(delayed(fitness)(ind, Xtrain, Xtest, y_train, y_test) for ind in offspring)\n",
    "\n",
    "    for ind, fit in zip(offspring, fitnesses):\n",
    "        ind.fitness.values = (fit[0],)  # Guardamos el fitness para cada individuo (en el individuo)\n",
    "        ind.acc = fit[1]\n",
    "        ind.ngenes = fit[2]\n",
    "    #================================================\n",
    "\n",
    "    \n",
    "    #================================================\n",
    "    # CONSTRUIMOS LA NUEVA POBLACION\n",
    "    #================================\n",
    "    pop = toolbox.clone(offspring)\n",
    "    #================================================\n",
    "\n",
    "    \n",
    "    #================================================\n",
    "    # CALCULAMOS ESTADÏSTICAS\n",
    "    #============================\n",
    "    records = mstats.compile(pop)\n",
    "    logbook.record(gen=g, **records)\n",
    "\n",
    "    if (g%1 == 0):\n",
    "        print('='*79)\n",
    "        print(f'GENERATION: {g}')\n",
    "        print(f'ELITE -- Fitness: {elite.fitness.values[0]:.4} -- NGENES: {np.sum(elite)} -- Acc: {elite.acc:.4}')\n",
    "        print('FITNES: ', records['fitness'])\n",
    "        print('ACC: ', records['acc'])\n",
    "        print('GENES: ', records['ngenes'])\n",
    "    #================================================"
   ]
  },
  {
   "attachments": {},
   "cell_type": "markdown",
   "id": "5637fdcb-3b3d-448f-84a3-adddb25d5691",
   "metadata": {},
   "source": [
    "## Graficamos la evolución del fitness"
   ]
  },
  {
   "cell_type": "code",
   "execution_count": 31,
   "id": "d47dc5fa-475c-4c79-8b6b-99d0387ac648",
   "metadata": {},
   "outputs": [
    {
     "data": {
      "image/png": "[encoded data removed]",
      "text/plain": [
       "<Figure size 2000x600 with 1 Axes>"
      ]
     },
     "metadata": {},
     "output_type": "display_data"
    }
   ],
   "source": [
    "f_avg = logbook.chapters['fitness'].select('avg')  # Extraemos fitness promedio a lo largo de las épocas\n",
    "f_max = logbook.chapters['fitness'].select('max')  # Extraemos fitness máximo a lo largo de las épocas\n",
    "f_min = logbook.chapters['fitness'].select('min')  # Extraemos fitness mínimo a lo largo de las épocas\n",
    "\n",
    "N = 30 if GMAX > 200 else GMAX \n",
    "fig, ax = plt.subplots(1, 1, figsize=(20,6)) \n",
    "ax.plot(range(N), f_avg[:N], '-or')\n",
    "ax.plot(range(N), f_max[:N], '-og')\n",
    "ax.plot(range(N), f_min[:N], '-ob')\n",
    "ax.set_xlabel('Generaciones', fontsize=16)\n",
    "ax.set_ylabel('Fitness', fontsize=16)\n",
    "ax.grid(True)"
   ]
  },
  {
   "attachments": {},
   "cell_type": "markdown",
   "id": "a7a78aa9-200a-43f1-983c-32da2156a574",
   "metadata": {},
   "source": [
    "## Graficamos la evolución del accuracy"
   ]
  },
  {
   "cell_type": "code",
   "execution_count": 32,
   "id": "2fca4397-58eb-44c9-97e2-6eaea01c8213",
   "metadata": {},
   "outputs": [
    {
     "data": {
      "image/png": "[encoded data removed]",
      "text/plain": [
       "<Figure size 2000x600 with 1 Axes>"
      ]
     },
     "metadata": {},
     "output_type": "display_data"
    }
   ],
   "source": [
    "f_avg = logbook.chapters['acc'].select('avg')  # Extraemos fitness promedio a lo largo de las épocas\n",
    "f_max = logbook.chapters['acc'].select('max')  # Extraemos fitness máximo a lo largo de las épocas\n",
    "f_min = logbook.chapters['acc'].select('min')  # Extraemos fitness mínimo (elite) a lo largo de las épocas\n",
    "\n",
    "N = 30 if GMAX > 200 else GMAX \n",
    "fig, ax = plt.subplots(1, 1, figsize=(20,6)) \n",
    "ax.plot(range(N), f_avg[:N], '-or')\n",
    "ax.plot(range(N), f_max[:N], '-og')\n",
    "ax.plot(range(N), f_min[:N], '-ob')\n",
    "ax.set_xlabel('Generaciones', fontsize=16)\n",
    "ax.set_ylabel('Accuracy', fontsize=16)\n",
    "ax.grid(True)"
   ]
  },
  {
   "attachments": {},
   "cell_type": "markdown",
   "id": "cbedca2e-4da5-4f11-8f6d-990653eefd3f",
   "metadata": {},
   "source": [
    "## Graficamos la evolución del número de genes"
   ]
  },
  {
   "cell_type": "code",
   "execution_count": 33,
   "id": "a5cf27ea-c07d-4663-95d7-354dcfa98a40",
   "metadata": {},
   "outputs": [
    {
     "data": {
      "image/png": "[encoded data removed]",
      "text/plain": [
       "<Figure size 2000x600 with 1 Axes>"
      ]
     },
     "metadata": {},
     "output_type": "display_data"
    }
   ],
   "source": [
    "ngenes_avg = logbook.chapters['ngenes'].select('avg')  # Extraemos fitness promedio a lo largo de las épocas\n",
    "ngenes_max = logbook.chapters['ngenes'].select('max')  # Extraemos fitness máximo a lo largo de las épocas\n",
    "ngenes_min = logbook.chapters['ngenes'].select('min')  # Extraemos fitness mínimo (elite) a lo largo de las épocas\n",
    "\n",
    "N = 100 if GMAX > 2000 else GMAX \n",
    "fig, ax = plt.subplots(1, 1, figsize=(20,6)) \n",
    "ax.plot(range(N), ngenes_avg[:N], '-or')\n",
    "ax.plot(range(N), ngenes_max[:N], '-og')\n",
    "ax.plot(range(N), ngenes_min[:N], '-ob')\n",
    "ax.set_xlabel('Generaciones', fontsize=16)\n",
    "ax.set_ylabel('Número de genes', fontsize=16)\n",
    "ax.grid(True)"
   ]
  }
 ],
 "metadata": {
  "kernelspec": {
   "display_name": "Python 3 (ipykernel)",
   "language": "python",
   "name": "python3"
  },
  "language_info": {
   "codemirror_mode": {
    "name": "ipython",
    "version": 3
   },
   "file_extension": ".py",
   "mimetype": "text/x-python",
   "name": "python",
   "nbconvert_exporter": "python",
   "pygments_lexer": "ipython3",
   "version": "3.9.13"
  }
 },
 "nbformat": 4,
 "nbformat_minor": 5
}
