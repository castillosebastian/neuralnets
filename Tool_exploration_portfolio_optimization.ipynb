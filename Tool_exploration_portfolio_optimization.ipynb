{
 "cells": [
  {
   "attachments": {},
   "cell_type": "markdown",
   "metadata": {},
   "source": [
    "Para realizar la optimización de un portafolio en Python, necesitamos datos históricos de precios de las acciones. Podemos obtener estos datos de varias fuentes, como Yahoo Finance, utilizando la biblioteca `pandas_datareader`. Luego, podemos usar la biblioteca `scipy` para realizar la optimización.\n",
    "\n",
    "Aquí hay un ejemplo simple de cómo podríamos hacer esto:\n"
   ]
  },
  {
   "cell_type": "code",
   "execution_count": null,
   "metadata": {},
   "outputs": [],
   "source": [
    "import numpy as np\n",
    "import pandas as pd\n",
    "from pandas_datareader import data as web\n",
    "from scipy.optimize import minimize\n",
    "\n",
    "# Obtener datos de precios\n",
    "def get_data(tickers, start_date, end_date):\n",
    "    stock_data = pd.DataFrame()\n",
    "    for t in tickers:\n",
    "        stock_data[t] = web.DataReader(t, 'yahoo', start_date, end_date)['Adj Close']\n",
    "    return stock_data\n",
    "\n",
    "# Calcular rendimientos diarios\n",
    "def compute_daily_returns(stock_data):\n",
    "    return np.log(stock_data / stock_data.shift(1))\n",
    "\n",
    "# Función objetivo para minimizar\n",
    "def objective(weights, returns, risk_tolerance):\n",
    "    portfolio_return = np.sum(returns.mean() * weights) * 252\n",
    "    portfolio_volatility = np.sqrt(np.dot(weights.T, np.dot(returns.cov() * 252, weights)))\n",
    "    return -portfolio_return / (risk_tolerance * portfolio_volatility)\n",
    "\n",
    "# Restricciones y límites\n",
    "constraints = ({'type': 'eq', 'fun': lambda x: np.sum(x) - 1})\n",
    "bounds = tuple((0, 1) for x in range(3))\n",
    "\n",
    "# Tickers, fechas y tolerancia al riesgo\n",
    "tickers = ['TSLA', 'MSFT', 'NVDA']\n",
    "start_date = '2020-01-01'\n",
    "end_date = '2022-12-31'\n",
    "risk_tolerance = 0.05  # Alta tolerancia al riesgo\n",
    "\n",
    "# Obtener datos y calcular rendimientos\n",
    "stock_data = get_data(tickers, start_date, end_date)\n",
    "returns = compute_daily_returns(stock_data)\n",
    "\n",
    "# Optimización\n",
    "initial_guess = [1/3, 1/3, 1/3]  # Comenzar con una distribución uniforme\n",
    "optimal_portfolio = minimize(objective, initial_guess, args=(returns, risk_tolerance), method='SLSQP', bounds=bounds, constraints=constraints)\n",
    "\n",
    "print(\"Pesos óptimos del portafolio:\", optimal_portfolio.x)\n"
   ]
  },
  {
   "attachments": {},
   "cell_type": "markdown",
   "metadata": {},
   "source": [
    "Este código obtiene los precios de cierre ajustados de las acciones de Tesla, Microsoft y Nvidia desde el 1 de enero de 2020 hasta el 31 de diciembre de 2022. Luego calcula los rendimientos diarios de estas acciones y utiliza la optimización para encontrar la combinación de pesos que maximiza el rendimiento del portafolio para una alta tolerancia al riesgo.\n",
    "\n",
    "Por favor, ten en cuenta que este es un ejemplo simplificado. En la práctica, la optimización de portafolios puede ser mucho más compleja e involucrar muchas más consideraciones, como las comisiones de transacción, las restricciones de inversión, las proyecciones de rendimiento futuro, entre otros. Además, este código puede no funcionar tal cual, ya que depende de la disponibilidad de los datos de Yahoo Finance y de las bibliotecas de Python mencionadas."
   ]
  }
 ],
 "metadata": {
  "kernelspec": {
   "display_name": ".neuralnets",
   "language": "python",
   "name": "python3"
  },
  "language_info": {
   "codemirror_mode": {
    "name": "ipython",
    "version": 3
   },
   "file_extension": ".py",
   "mimetype": "text/x-python",
   "name": "python",
   "nbconvert_exporter": "python",
   "pygments_lexer": "ipython3",
   "version": "3.9.13"
  },
  "orig_nbformat": 4
 },
 "nbformat": 4,
 "nbformat_minor": 2
}
