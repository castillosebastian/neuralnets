{
 "cells": [
  {
   "attachments": {},
   "cell_type": "markdown",
   "id": "21d94a70",
   "metadata": {
    "id": "14bdfc16-bd96-4d61-bd25-dfe041304734"
   },
   "source": [
    "# CARGA DE LIBRERIAS"
   ]
  },
  {
   "cell_type": "code",
   "execution_count": 1,
   "id": "3c317c7b",
   "metadata": {
    "executionInfo": {
     "elapsed": 8001,
     "status": "ok",
     "timestamp": 1683415911507,
     "user": {
      "displayName": "Matias Gerard",
      "userId": "14742050363958170468"
     },
     "user_tz": 180
    },
    "id": "8e3f748c-3008-42c6-9052-f20045f074b0"
   },
   "outputs": [],
   "source": [
    "import numpy as np\n",
    "import matplotlib.pyplot as plt\n",
    "import pandas as pd\n",
    "from copy import deepcopy\n",
    "\n",
    "import torch\n",
    "from torch import nn  # Modelos neuronales y funciones de Loss\n",
    "\n",
    "from torch import optim # (3er paso BACKPROPAGATION) Optimizadores ---> Gradiente descendiente, Adam, AdaDelta, etc\n",
    "from torch.utils.data import Dataset, DataLoader\n",
    "\n",
    "device = torch.device(\"cuda:0\" if torch.cuda.is_available() else \"cpu\")  # Elige el dispositivo. Utilizará GPU si está disponible"
   ]
  },
  {
   "attachments": {},
   "cell_type": "markdown",
   "id": "bc0fffc0-778c-4c8f-a5c5-ac8f7751c784",
   "metadata": {},
   "source": [
    "# VISAULIZACION DE LOS DATOS"
   ]
  },
  {
   "cell_type": "code",
   "execution_count": 2,
   "id": "3db7d77a-2c62-43d6-bdf2-ccfc0b947a2f",
   "metadata": {},
   "outputs": [],
   "source": [
    "data = pd.read_csv('irisbin.csv', header=None).to_numpy()"
   ]
  },
  {
   "cell_type": "code",
   "execution_count": 3,
   "id": "f99cc663-cee4-41ce-9553-5060bc64b40c",
   "metadata": {},
   "outputs": [
    {
     "data": {
      "text/plain": [
       "array([[ 4.5,  2.3,  1.3, ..., -1. , -1. ,  1. ],\n",
       "       [ 5.1,  3.3,  1.7, ..., -1. , -1. ,  1. ],\n",
       "       [ 7.2,  3. ,  5.8, ...,  1. , -1. , -1. ],\n",
       "       ...,\n",
       "       [ 5.5,  2.3,  4. , ..., -1. ,  1. , -1. ],\n",
       "       [ 5.6,  2.8,  4.9, ...,  1. , -1. , -1. ],\n",
       "       [ 6.1,  2.6,  5.6, ...,  1. , -1. , -1. ]])"
      ]
     },
     "execution_count": 3,
     "metadata": {},
     "output_type": "execute_result"
    }
   ],
   "source": [
    "data  # La clase está repartida en 3 columnas (codificación one-hot)"
   ]
  },
  {
   "cell_type": "code",
   "execution_count": 4,
   "id": "eb9cd2bb-6bdf-4293-b166-e764f4e177d1",
   "metadata": {},
   "outputs": [
    {
     "data": {
      "text/plain": [
       "array([2, 2, 0, 2, 1, 0, 0, 2, 2, 0, 0, 1, 1, 0, 2, 2, 2, 2, 2, 0, 2, 2,\n",
       "       0, 2, 1, 1, 1, 0, 1, 0, 0, 1, 2, 1, 1, 1, 1, 1, 2, 1, 1, 1, 2, 1,\n",
       "       2, 0, 0, 2, 0, 1, 2, 2, 1, 1, 0, 2, 1, 2, 0, 1, 0, 1, 1, 0, 0, 2,\n",
       "       2, 0, 2, 0, 1, 2, 2, 1, 2, 2, 2, 0, 2, 2, 0, 1, 2, 0, 2, 1, 2, 2,\n",
       "       1, 2, 2, 0, 2, 1, 0, 0, 0, 2, 1, 0, 2, 2, 1, 2, 1, 0, 0, 2, 1, 0,\n",
       "       2, 2, 2, 2, 0, 2, 0, 0, 2, 2, 2, 1, 2, 2, 0, 0, 2, 0, 2, 2, 1, 1,\n",
       "       2, 0, 0, 2, 0, 0, 1, 0, 2, 1, 1, 2, 1, 1, 2, 1, 0, 0])"
      ]
     },
     "execution_count": 4,
     "metadata": {},
     "output_type": "execute_result"
    }
   ],
   "source": [
    "data[:,-3:].argmax(axis=1)  # Extraigo la posición del \"1\" para cada patrón ---> Clase"
   ]
  },
  {
   "cell_type": "code",
   "execution_count": 5,
   "id": "09eae171-e162-48be-a05c-cb79493d1fa1",
   "metadata": {},
   "outputs": [],
   "source": [
    "new_data = data[:,:-2]\n",
    "new_data[:,-1] = data[:,-3:].argmax(axis=1)"
   ]
  },
  {
   "cell_type": "code",
   "execution_count": 6,
   "id": "8bb51687-ae80-4591-be42-b7663683bb41",
   "metadata": {},
   "outputs": [
    {
     "data": {
      "text/plain": [
       "array([[4.5, 2.3, 1.3, 0.3, 2. ],\n",
       "       [5.1, 3.3, 1.7, 0.5, 2. ],\n",
       "       [7.2, 3. , 5.8, 1.6, 0. ],\n",
       "       [5.5, 4.2, 1.4, 0.2, 2. ],\n",
       "       [6.7, 3.1, 4.7, 1.5, 1. ],\n",
       "       [6.4, 3.1, 5.5, 1.8, 0. ],\n",
       "       [6.1, 3. , 4.9, 1.8, 0. ],\n",
       "       [5.2, 3.4, 1.4, 0.2, 2. ],\n",
       "       [5. , 3.3, 1.4, 0.2, 2. ],\n",
       "       [6.7, 3.3, 5.7, 2.1, 0. ],\n",
       "       [7.7, 2.6, 6.9, 2.3, 0. ],\n",
       "       [5.6, 3. , 4.5, 1.5, 1. ],\n",
       "       [6.2, 2.9, 4.3, 1.3, 1. ],\n",
       "       [6.7, 3.3, 5.7, 2.1, 0. ],\n",
       "       [5.5, 4.2, 1.4, 0.2, 2. ],\n",
       "       [5.2, 3.4, 1.4, 0.2, 2. ],\n",
       "       [5.4, 3.9, 1.7, 0.4, 2. ],\n",
       "       [5. , 3.3, 1.4, 0.2, 2. ],\n",
       "       [4.3, 3. , 1.1, 0.1, 2. ],\n",
       "       [5.9, 3. , 5.1, 1.8, 0. ],\n",
       "       [5.2, 3.4, 1.4, 0.2, 2. ],\n",
       "       [4.6, 3.1, 1.5, 0.2, 2. ],\n",
       "       [6.3, 2.5, 5. , 1.9, 0. ],\n",
       "       [5.1, 3.3, 1.7, 0.5, 2. ],\n",
       "       [6.2, 2.9, 4.3, 1.3, 1. ],\n",
       "       [6.7, 3.1, 4.7, 1.5, 1. ],\n",
       "       [6.1, 3. , 4.6, 1.4, 1. ],\n",
       "       [6.7, 3.3, 5.7, 2.1, 0. ],\n",
       "       [6.7, 3.1, 4.4, 1.4, 1. ],\n",
       "       [7.1, 3. , 5.9, 2.1, 0. ],\n",
       "       [6.7, 3.3, 5.7, 2.1, 0. ],\n",
       "       [6.1, 3. , 4.6, 1.4, 1. ],\n",
       "       [5.2, 3.4, 1.4, 0.2, 2. ],\n",
       "       [5.8, 2.7, 3.9, 1.2, 1. ],\n",
       "       [5.5, 2.3, 4. , 1.3, 1. ],\n",
       "       [6.1, 2.9, 4.7, 1.4, 1. ],\n",
       "       [5. , 2. , 3.5, 1. , 1. ],\n",
       "       [5.4, 3. , 4.5, 1.5, 1. ],\n",
       "       [5.8, 4. , 1.2, 0.2, 2. ],\n",
       "       [5.5, 2.3, 4. , 1.3, 1. ],\n",
       "       [6.7, 3.1, 4.7, 1.5, 1. ],\n",
       "       [5.4, 3. , 4.5, 1.5, 1. ],\n",
       "       [4.6, 3.4, 1.4, 0.3, 2. ],\n",
       "       [5.5, 2.3, 4. , 1.3, 1. ],\n",
       "       [4.9, 3. , 1.4, 0.2, 2. ],\n",
       "       [5.6, 2.8, 4.9, 2. , 0. ],\n",
       "       [6.4, 2.8, 5.6, 2.2, 0. ],\n",
       "       [4.6, 3.4, 1.4, 0.3, 2. ],\n",
       "       [6.9, 3.1, 5.4, 2.1, 0. ],\n",
       "       [6.2, 2.9, 4.3, 1.3, 1. ],\n",
       "       [5.5, 3.5, 1.3, 0.2, 2. ],\n",
       "       [5. , 3.3, 1.4, 0.2, 2. ],\n",
       "       [5.6, 3. , 4.5, 1.5, 1. ],\n",
       "       [6. , 2.7, 5.1, 1.6, 1. ],\n",
       "       [6.5, 3.2, 5.1, 2. , 0. ],\n",
       "       [4.6, 3.1, 1.5, 0.2, 2. ],\n",
       "       [6.7, 3.1, 4.7, 1.5, 1. ],\n",
       "       [5.3, 3.7, 1.5, 0.2, 2. ],\n",
       "       [6.7, 3.1, 5.6, 2.4, 0. ],\n",
       "       [5.5, 2.3, 4. , 1.3, 1. ],\n",
       "       [6.3, 2.9, 5.6, 1.8, 0. ],\n",
       "       [5.5, 2.3, 4. , 1.3, 1. ],\n",
       "       [5.6, 3. , 4.5, 1.5, 1. ],\n",
       "       [6.1, 2.6, 5.6, 1.4, 0. ],\n",
       "       [7.2, 3.6, 6.1, 2.5, 0. ],\n",
       "       [5.1, 3.8, 1.5, 0.3, 2. ],\n",
       "       [5.3, 3.7, 1.5, 0.2, 2. ],\n",
       "       [6.1, 2.6, 5.6, 1.4, 0. ],\n",
       "       [5.8, 4. , 1.2, 0.2, 2. ],\n",
       "       [6.1, 2.6, 5.6, 1.4, 0. ],\n",
       "       [6.1, 3. , 4.6, 1.4, 1. ],\n",
       "       [5.3, 3.7, 1.5, 0.2, 2. ],\n",
       "       [4.9, 3. , 1.4, 0.2, 2. ],\n",
       "       [5.4, 3. , 4.5, 1.5, 1. ],\n",
       "       [5.4, 3.9, 1.7, 0.4, 2. ],\n",
       "       [5.2, 3.4, 1.4, 0.2, 2. ],\n",
       "       [5.4, 3.9, 1.7, 0.4, 2. ],\n",
       "       [6.7, 3.3, 5.7, 2.5, 0. ],\n",
       "       [5.2, 3.4, 1.4, 0.2, 2. ],\n",
       "       [5.2, 3.4, 1.4, 0.2, 2. ],\n",
       "       [7.2, 3. , 5.8, 1.6, 0. ],\n",
       "       [5.5, 2.3, 4. , 1.3, 1. ],\n",
       "       [5.7, 4.4, 1.5, 0.4, 2. ],\n",
       "       [6.3, 3.4, 5.6, 2.4, 0. ],\n",
       "       [4.5, 2.3, 1.3, 0.3, 2. ],\n",
       "       [5.6, 3. , 4.5, 1.5, 1. ],\n",
       "       [5.1, 3.3, 1.7, 0.5, 2. ],\n",
       "       [5.4, 3.9, 1.7, 0.4, 2. ],\n",
       "       [6.2, 2.9, 4.3, 1.3, 1. ],\n",
       "       [4.6, 3.4, 1.4, 0.3, 2. ],\n",
       "       [4.6, 3.1, 1.5, 0.2, 2. ],\n",
       "       [5.8, 2.7, 5.1, 1.9, 0. ],\n",
       "       [5.8, 4. , 1.2, 0.2, 2. ],\n",
       "       [6.1, 2.9, 4.7, 1.4, 1. ],\n",
       "       [6. , 2.2, 5. , 1.5, 0. ],\n",
       "       [5.8, 2.7, 5.1, 1.9, 0. ],\n",
       "       [7.7, 3.8, 6.7, 2.2, 0. ],\n",
       "       [5. , 3.5, 1.3, 0.3, 2. ],\n",
       "       [6.7, 3.1, 4.4, 1.4, 1. ],\n",
       "       [6.1, 2.6, 5.6, 1.4, 0. ],\n",
       "       [5. , 3.5, 1.3, 0.3, 2. ],\n",
       "       [4.5, 2.3, 1.3, 0.3, 2. ],\n",
       "       [6.2, 2.9, 4.3, 1.3, 1. ],\n",
       "       [4.6, 3.4, 1.4, 0.3, 2. ],\n",
       "       [6.7, 3.1, 4.4, 1.4, 1. ],\n",
       "       [6.4, 2.8, 5.6, 2.2, 0. ],\n",
       "       [6.1, 3. , 4.9, 1.8, 0. ],\n",
       "       [4.6, 3.4, 1.4, 0.3, 2. ],\n",
       "       [6.2, 2.9, 4.3, 1.3, 1. ],\n",
       "       [5.6, 2.8, 4.9, 2. , 0. ],\n",
       "       [4.6, 3.1, 1.5, 0.2, 2. ],\n",
       "       [5.8, 4. , 1.2, 0.2, 2. ],\n",
       "       [5. , 3.5, 1.3, 0.3, 2. ],\n",
       "       [5.2, 4.1, 1.5, 0.1, 2. ],\n",
       "       [7.2, 3. , 5.8, 1.6, 0. ],\n",
       "       [5.8, 4. , 1.2, 0.2, 2. ],\n",
       "       [5.8, 2.8, 5.1, 2.4, 0. ],\n",
       "       [6.4, 3.1, 5.5, 1.8, 0. ],\n",
       "       [4.7, 3.2, 1.3, 0.2, 2. ],\n",
       "       [5.2, 3.4, 1.4, 0.2, 2. ],\n",
       "       [5.1, 3.3, 1.7, 0.5, 2. ],\n",
       "       [6.1, 2.9, 4.7, 1.4, 1. ],\n",
       "       [5.1, 3.8, 1.9, 0.4, 2. ],\n",
       "       [4.7, 3.2, 1.3, 0.2, 2. ],\n",
       "       [7.7, 3.8, 6.7, 2.2, 0. ],\n",
       "       [7.7, 3.8, 6.7, 2.2, 0. ],\n",
       "       [5. , 3.3, 1.4, 0.2, 2. ],\n",
       "       [6.4, 3.2, 5.3, 2.3, 0. ],\n",
       "       [5.5, 4.2, 1.4, 0.2, 2. ],\n",
       "       [5.3, 3.7, 1.5, 0.2, 2. ],\n",
       "       [6.2, 2.9, 4.3, 1.3, 1. ],\n",
       "       [6.2, 2.9, 4.3, 1.3, 1. ],\n",
       "       [5.1, 3.3, 1.7, 0.5, 2. ],\n",
       "       [7.7, 2.6, 6.9, 2.3, 0. ],\n",
       "       [6.9, 3.1, 5.4, 2.1, 0. ],\n",
       "       [4.5, 2.3, 1.3, 0.3, 2. ],\n",
       "       [6.2, 3.4, 5.4, 2.3, 0. ],\n",
       "       [5.6, 2.8, 4.9, 2. , 0. ],\n",
       "       [5.5, 2.3, 4. , 1.3, 1. ],\n",
       "       [6.1, 2.6, 5.6, 1.4, 0. ],\n",
       "       [4.9, 3. , 1.4, 0.2, 2. ],\n",
       "       [5.4, 3. , 4.5, 1.5, 1. ],\n",
       "       [5.5, 2.3, 4. , 1.3, 1. ],\n",
       "       [5.1, 3.3, 1.7, 0.5, 2. ],\n",
       "       [6. , 3.4, 4.5, 1.6, 1. ],\n",
       "       [5.4, 3. , 4.5, 1.5, 1. ],\n",
       "       [5.5, 3.5, 1.3, 0.2, 2. ],\n",
       "       [5.5, 2.3, 4. , 1.3, 1. ],\n",
       "       [5.6, 2.8, 4.9, 2. , 0. ],\n",
       "       [6.1, 2.6, 5.6, 1.4, 0. ]])"
      ]
     },
     "execution_count": 6,
     "metadata": {},
     "output_type": "execute_result"
    }
   ],
   "source": [
    "new_data  # Genero el nuevo dataset"
   ]
  },
  {
   "attachments": {},
   "cell_type": "markdown",
   "id": "cba2b2bd-032c-4795-b1b6-ee4fb54e7e77",
   "metadata": {},
   "source": [
    "### GENERO UNA PROYECCION POR PCA PARA VISUALIZAR LOS DATOS EN 2D"
   ]
  },
  {
   "cell_type": "code",
   "execution_count": 7,
   "id": "479d5f4f-fe49-4d03-bff3-810f8d70c1c0",
   "metadata": {},
   "outputs": [],
   "source": [
    "from sklearn.decomposition import PCA\n",
    "pca = PCA(n_components=2)\n",
    "X_pca = pca.fit(new_data[:,:-1],new_data[:,-1]).transform(new_data[:,:-1])"
   ]
  },
  {
   "cell_type": "code",
   "execution_count": 8,
   "id": "d3d2e119-10b8-4b06-a3c6-d315c8b325b1",
   "metadata": {},
   "outputs": [
    {
     "data": {
      "image/png": "[encoded data removed]",
      "text/plain": [
       "<Figure size 600x600 with 1 Axes>"
      ]
     },
     "metadata": {},
     "output_type": "display_data"
    }
   ],
   "source": [
    "fig,ax = plt.subplots(1, 1, figsize=(6,6))\n",
    "ax.scatter(X_pca[:, 0],\n",
    "           X_pca[:, 1],\n",
    "           s=30,\n",
    "           c=[f'C{int(i)}' for i in new_data[:,-1]],\n",
    "           alpha=0.96,\n",
    "           lw=1)\n",
    "plt.grid(True)\n",
    "plt.xlabel('PC 1', fontsize=14)\n",
    "plt.ylabel('PC 2', fontsize=14)\n",
    "plt.grid(True);"
   ]
  },
  {
   "attachments": {},
   "cell_type": "markdown",
   "id": "90efd865-5515-4c0c-9568-bc7d5a7df8d3",
   "metadata": {},
   "source": [
    "# PARTICIONO LOS DATOS"
   ]
  },
  {
   "cell_type": "code",
   "execution_count": 9,
   "id": "e42e39da-d8a3-4023-9502-321361ceeb5e",
   "metadata": {},
   "outputs": [],
   "source": [
    "from sklearn.model_selection import train_test_split\n",
    "\n",
    "X, X_tst = train_test_split(new_data, test_size=0.2, random_state=42, shuffle=True)\n",
    "X_trn, X_val = train_test_split(X, test_size=0.3, random_state=42, shuffle=True)\n",
    "\n",
    "np.savetxt('data_trn.csv', X_trn, fmt='%1.4f,%1.4f,%1.4f,%1.4f,%i', delimiter=',')\n",
    "np.savetxt('data_val.csv', X_val, fmt='%1.4f,%1.4f,%1.4f,%1.4f,%i', delimiter=',')\n",
    "np.savetxt('data_tst.csv', X_tst, fmt='%1.4f,%1.4f,%1.4f,%1.4f,%i', delimiter=',')"
   ]
  },
  {
   "attachments": {},
   "cell_type": "markdown",
   "id": "5809f934",
   "metadata": {
    "id": "9d0ba14b-e9d8-47c6-8ca2-716a5648aad4"
   },
   "source": [
    "# CONSTRUCCION DEL DATASET"
   ]
  },
  {
   "cell_type": "code",
   "execution_count": 10,
   "id": "bf09b5a4",
   "metadata": {
    "colab": {
     "base_uri": "https://localhost:8080/"
    },
    "executionInfo": {
     "elapsed": 1462,
     "status": "ok",
     "timestamp": 1683415912944,
     "user": {
      "displayName": "Matias Gerard",
      "userId": "14742050363958170468"
     },
     "user_tz": 180
    },
    "id": "82855b1b-0d03-46c0-b577-b30284903515",
    "outputId": "fb92a3f8-3ed5-4496-af0e-a5d2a548a7bb"
   },
   "outputs": [],
   "source": [
    "class DATASET(Dataset):  # <----------------\n",
    "    '''\n",
    "    Esta clase maneja la lectura de los datos y provee un mecanismo\n",
    "    para alimentar los modelos con los patrones.\n",
    "    '''\n",
    "    \n",
    "    #===================================================\n",
    "    def __init__(self, filename):\n",
    "        \n",
    "        #------------------------------------\n",
    "        # LECTURA DE LOS DATOS\n",
    "        data = pd.read_csv(filename, header=0) # Levanta los datos en formato numpy\n",
    "        \n",
    "        #------------------------------------\n",
    "        # TRANSFORMO A DATOS DE NUMPY\n",
    "        data = data.to_numpy()\n",
    "        \n",
    "        #------------------------------------\n",
    "        # ALEATORIZO LOS PATRONES (filas)\n",
    "        idxs = np.arange(len(data))  # Genero un vector de índices\n",
    "        np.random.shuffle(idxs)\n",
    "        data = data[idxs,:]\n",
    "        \n",
    "        #------------------------------------\n",
    "        # SEPARO LOS DATOS\n",
    "        self.x = data[:,:-1].astype(np.float32)\n",
    "        self.y = data[:,-1].astype(np.longlong)  # La clase está en la última columna\n",
    "        \n",
    "    \n",
    "    #===================================================\n",
    "    def __len__(self):\n",
    "        '''\n",
    "        Devuelve el número de patrones en el dataset.\n",
    "        '''\n",
    "        return len(self.x)\n",
    "    \n",
    "    \n",
    "    #===================================================\n",
    "    def __getitem__(self, idx):\n",
    "        '''\n",
    "        Devuelve el/los patrones indicados.\n",
    "        '''\n",
    "        return self.x[idx,:], self.y[idx]"
   ]
  },
  {
   "attachments": {},
   "cell_type": "markdown",
   "id": "db847911",
   "metadata": {
    "id": "8e258bf4-a9a2-4e37-b967-be80cfb97bd1"
   },
   "source": [
    "# CONSTRUCCION DEL MODELO"
   ]
  },
  {
   "attachments": {},
   "cell_type": "markdown",
   "id": "a5e5c0cf",
   "metadata": {
    "id": "005168df-89e6-4127-ad13-c16b23b84826"
   },
   "source": [
    "## PERCEPTRON SIMPLE"
   ]
  },
  {
   "cell_type": "code",
   "execution_count": 11,
   "id": "2919e76e",
   "metadata": {
    "executionInfo": {
     "elapsed": 15,
     "status": "ok",
     "timestamp": 1683415913759,
     "user": {
      "displayName": "Matias Gerard",
      "userId": "14742050363958170468"
     },
     "user_tz": 180
    },
    "id": "9a5fe2a2-ed88-44a0-aa31-76924a899133"
   },
   "outputs": [],
   "source": [
    "class MODELO(nn.Module):  # <----------------------------\n",
    "\n",
    "    #====================================\n",
    "    def __init__(self, n_features, n_inputs, n_hiddens, n_outputs):\n",
    "        '''\n",
    "        Esta función inicializa/construye el perceptrón.\n",
    "        n_features: features de cada patrón (2 para OR y XOR)\n",
    "        n_inputs: cantidad de neuronas en la capa de entrada\n",
    "        n_hiddens: cantidad de neuronas en la capa oculta\n",
    "        n_outputs: cantidad de salidas esperadas.\n",
    "        '''\n",
    "        \n",
    "        super().__init__()\n",
    "        \n",
    "        self.n_features = n_features\n",
    "        self.n_inputs = n_inputs\n",
    "        self.n_hiddens = n_hiddens\n",
    "        self.n_outputs = n_outputs\n",
    "        \n",
    "        self.layer1 = nn.Linear(self.n_features, self.n_inputs, bias=True)\n",
    "        self.layer2 = nn.Linear(self.n_inputs, self.n_hiddens, bias=True)\n",
    "        self.layer3 = nn.Linear(self.n_hiddens, self.n_outputs, bias=True)\n",
    "        \n",
    "        self.tanh = nn.Tanh()\n",
    "        \n",
    "    #====================================\n",
    "    def forward(self, x):\n",
    "        '''\n",
    "        Esta función realiza la pasada hacia adelante.\n",
    "        '''\n",
    "        \n",
    "        # Calculo salida lineal de la capa 1\n",
    "        y = self.layer1(x)  # self.n_features --> self.n_inputs\n",
    "        \n",
    "        # Aplico función no lineal\n",
    "        y = self.tanh(y)\n",
    "        \n",
    "        # Calculo salida lineal de la capa 2\n",
    "        y = self.layer2(y)  # self.n_inputs --> self.n_hiddens\n",
    "        \n",
    "        # Aplico función no lineal\n",
    "        y = self.tanh(y)\n",
    "        \n",
    "        # Calculo salida lineal de la capa 3\n",
    "        y = self.layer3(y)  # self.n_hiddens --> self.n_outputs\n",
    "\n",
    "        return y"
   ]
  },
  {
   "cell_type": "code",
   "execution_count": 12,
   "id": "85fd5427-4373-4772-94fc-b8b760442627",
   "metadata": {
    "executionInfo": {
     "elapsed": 15,
     "status": "ok",
     "timestamp": 1683415913759,
     "user": {
      "displayName": "Matias Gerard",
      "userId": "14742050363958170468"
     },
     "user_tz": 180
    },
    "id": "9a5fe2a2-ed88-44a0-aa31-76924a899133"
   },
   "outputs": [],
   "source": [
    "class MODELO2(nn.Module):  # <----------------------------\n",
    "\n",
    "    #====================================\n",
    "    def __init__(self, n_features, n_inputs, n_outputs):\n",
    "        '''\n",
    "        Esta función inicializa/construye el perceptrón.\n",
    "        n_features: features de cada patrón (2 para OR y XOR)\n",
    "        n_inputs: cantidad de neuronas en la capa de entrada\n",
    "        n_hiddens: cantidad de neuronas en la capa oculta\n",
    "        n_outputs: cantidad de salidas esperadas.\n",
    "        '''\n",
    "        \n",
    "        super().__init__()\n",
    "        \n",
    "        self.n_features = n_features\n",
    "        self.n_inputs = n_inputs\n",
    "        self.n_outputs = n_outputs\n",
    "        \n",
    "        self.layer1 = nn.Linear(self.n_features, self.n_inputs, bias=True)\n",
    "        self.layer2 = nn.Linear(self.n_inputs, self.n_outputs, bias=True)\n",
    "        \n",
    "        self.tanh = nn.Tanh()\n",
    "        #self.sigmoid = nn.Sigmoid()\n",
    "        #self.relu = nn.ReLU()\n",
    "\n",
    "    #====================================\n",
    "    def forward(self, x):\n",
    "        '''\n",
    "        Esta función realiza la pasada hacia adelante.\n",
    "        '''\n",
    "        \n",
    "        # Calculo salida lineal de la capa 1\n",
    "        y = self.layer1(x)  # self.n_features --> self.n_inputs\n",
    "        \n",
    "        # Aplico función no lineal\n",
    "        y = self.tanh(y)\n",
    "        \n",
    "        # Calculo salida lineal de la capa 2\n",
    "        y = self.layer2(y)  # self.n_inputs --> self.n_hiddens\n",
    "        \n",
    "        return y"
   ]
  },
  {
   "attachments": {},
   "cell_type": "markdown",
   "id": "b54199c5",
   "metadata": {
    "id": "8485ea4c-eb90-4631-aaa7-f0644433b0c4"
   },
   "source": [
    "# LOOPS"
   ]
  },
  {
   "attachments": {},
   "cell_type": "markdown",
   "id": "06a7b498",
   "metadata": {
    "id": "0d3f8e61-1a63-4b42-a417-60205e3368a4"
   },
   "source": [
    "## ENTRENAMIENTO"
   ]
  },
  {
   "cell_type": "code",
   "execution_count": 13,
   "id": "5bd7f5b7",
   "metadata": {
    "executionInfo": {
     "elapsed": 561,
     "status": "ok",
     "timestamp": 1683415914307,
     "user": {
      "displayName": "Matias Gerard",
      "userId": "14742050363958170468"
     },
     "user_tz": 180
    },
    "id": "afa767ee-273e-4e79-b944-0e54b1e48830"
   },
   "outputs": [],
   "source": [
    "def train_step(model, data, loss_function, optimizer, device):\n",
    "    \n",
    "    model.train()  # Calcula gradientes\n",
    "    \n",
    "    N_batches = len(data)  # Número de batches = N_patrones/N_patrones_x_batch\n",
    "    \n",
    "    error = 0\n",
    "    \n",
    "    #==============================================================\n",
    "    for idx,(X,y) in enumerate(data):\n",
    "\n",
    "        #-----------------------------------------------------\n",
    "        # Convierto los datos en tensores diferenciables\n",
    "        #-----------------------------------------------------\n",
    "        X = X.to(device)\n",
    "        y = y.to(device)\n",
    "\n",
    "        optimizer.zero_grad()  # Se limpia el caché del optimizador\n",
    "        \n",
    "        #----------------\n",
    "        # Forward pass\n",
    "        #----------------\n",
    "        y_pred = model(X)\n",
    "        \n",
    "        #----------------\n",
    "        # Compute Loss\n",
    "        #----------------\n",
    "        if (data.batch_size == 1):\n",
    "            loss = loss_function(y_pred.squeeze(), y.squeeze())\n",
    "        else:\n",
    "            loss = loss_function(y_pred.squeeze(), y)\n",
    "        \n",
    "        error += loss.item()\n",
    "        \n",
    "        #----------------\n",
    "        # Backward pass\n",
    "        #----------------\n",
    "        loss.backward()  # Calcula los gradientes en cada capa\n",
    "        optimizer.step()  # Corrige los pesos\n",
    "    #==============================================================\n",
    "    \n",
    "    error /= N_batches\n",
    "    \n",
    "    return error, model"
   ]
  },
  {
   "attachments": {},
   "cell_type": "markdown",
   "id": "098c5645",
   "metadata": {
    "id": "77c55181-cbbb-459d-bdf7-38458fcecd56"
   },
   "source": [
    "## VALIDACION / TEST"
   ]
  },
  {
   "cell_type": "code",
   "execution_count": 14,
   "id": "ef2e994e",
   "metadata": {
    "executionInfo": {
     "elapsed": 7,
     "status": "ok",
     "timestamp": 1683415914308,
     "user": {
      "displayName": "Matias Gerard",
      "userId": "14742050363958170468"
     },
     "user_tz": 180
    },
    "id": "cb54b03c-0418-4a6f-8739-718dca662380"
   },
   "outputs": [],
   "source": [
    "def predict_step(model, data, loss_function, device):\n",
    "    \n",
    "    model.eval()  # Turn off Dropouts Layers, BatchNorm Layers etc\n",
    "    \n",
    "    N_batches = len(data)  # Número de batches = N_patrones/N_patrones_x_batch\n",
    "    \n",
    "    error = 0\n",
    "    \n",
    "    Y = torch.tensor([])\n",
    "    Yp = torch.tensor([])\n",
    "    \n",
    "    #==============================================================\n",
    "    with torch.no_grad():  # Turn off gradients computation\n",
    "        \n",
    "        for idx,(X,y) in enumerate(data):\n",
    "\n",
    "            Y = torch.hstack( (Y, y.flatten()) )\n",
    "\n",
    "            #-----------------------------------------------------\n",
    "            # Convierto los datos en tensores diferenciables\n",
    "            #-----------------------------------------------------\n",
    "            X = X.to(device)\n",
    "            y = y.to(device)\n",
    "\n",
    "            #----------------\n",
    "            # Forward pass\n",
    "            #----------------\n",
    "            y_pred = model(X)\n",
    "            \n",
    "            Yp = torch.hstack( (Yp, y_pred.cpu().argmax(dim=1)) )\n",
    "\n",
    "            #----------------\n",
    "            # Compute Loss\n",
    "            #----------------\n",
    "            if (data.batch_size == 1):\n",
    "                loss = loss_function(y_pred.squeeze(), y.squeeze())\n",
    "            else:\n",
    "                loss = loss_function(y_pred.squeeze(), y)\n",
    "\n",
    "            error += loss.item()\n",
    "    #==============================================================\n",
    "    \n",
    "    error /= N_batches\n",
    "    \n",
    "    #------------------\n",
    "    \n",
    "    return error, Y, Yp"
   ]
  },
  {
   "attachments": {},
   "cell_type": "markdown",
   "id": "a156fe20",
   "metadata": {
    "id": "cc05240d-d9a7-447a-a825-6463128a5b5c"
   },
   "source": [
    "# EXPERIMENTO"
   ]
  },
  {
   "cell_type": "code",
   "execution_count": 15,
   "id": "47bf0cf6",
   "metadata": {
    "executionInfo": {
     "elapsed": 381,
     "status": "ok",
     "timestamp": 1683415990118,
     "user": {
      "displayName": "Matias Gerard",
      "userId": "14742050363958170468"
     },
     "user_tz": 180
    },
    "id": "9c8178b0-fdd6-4a49-a44b-ab0e0691e8a3"
   },
   "outputs": [],
   "source": [
    "#==========================================\n",
    "# Inicializamos parámetros del experimento\n",
    "#==========================================\n",
    "learning_rate = 1E-3\n",
    "\n",
    "\n",
    "acc = 0.  # Inicializo el accuracy inicial\n",
    "epoca = 0  # Inicializo contador de épocas\n",
    "\n",
    "MIN_ACC = 1.0  # Defino mínimo accuracy deseado\n",
    "\n",
    "MIN_ERROR = 1E6   # Inicializo la variable para\n",
    "                  # registrar el mínimo error cometido.\n",
    "    \n",
    "MAX_EPOCAS = 1000  # Defino el número máximo de épocas\n",
    "                  # de entrenamiento.\n",
    "\n",
    "MAX_COUNTER = 100  # Defino el máximo número de épocas\n",
    "                  # sin mejorar el error de validación\n",
    "                  # para detener el entrenamiento.\n",
    "\n",
    "BATCH_SIZE = 8  # Número de patrones en cada batch\n",
    "\n",
    "\n",
    "#===========================================================\n",
    "# Construimos los datasets para entrenamiento y validación\n",
    "#===========================================================\n",
    "filename_train = 'data_trn.csv'\n",
    "filename_validation = 'data_val.csv'\n",
    "filename_test = 'data_tst.csv'\n",
    "\n",
    "trn = DATASET(filename_train)\n",
    "val = DATASET(filename_validation)\n",
    "tst = DATASET(filename_test)\n",
    "\n",
    "\n",
    "#=============================================================\n",
    "# Construimos los dataloaders para entrenamiento y validación\n",
    "#=============================================================\n",
    "train_data = DataLoader(trn, batch_size=BATCH_SIZE, shuffle=True)\n",
    "validation_data = DataLoader(val, batch_size=BATCH_SIZE, shuffle=False)\n",
    "\n",
    "\n",
    "#=============================================\n",
    "# Inicializamos el modelo\n",
    "#=============================================\n",
    "modelo = MODELO2(n_features=4, n_inputs=1, n_outputs=3)  # --------------> SIN CAPA OCULTA\n",
    "#modelo = MODELO(n_features=4, n_inputs=2, n_hiddens=3, n_outputs=3)  # ---> CON CAPA OCULTA\n",
    "modelo.to(device)\n",
    "\n",
    "#=============================================\n",
    "# Definimos la función de LOSS a utilizar\n",
    "#=============================================\n",
    "loss_function = nn.CrossEntropyLoss(reduction='mean').to(device)\n",
    "\n",
    "#=============================================\n",
    "# Definimos el optimizador a utilizar\n",
    "# >>> 3er paso del backpropagation\n",
    "#=============================================\n",
    "optimizer = optim.SGD(modelo.parameters(), lr=learning_rate, momentum=0.9)\n",
    "#optimizer = optim.Adam(modelo.parameters(), lr=learning_rate)"
   ]
  },
  {
   "attachments": {},
   "cell_type": "markdown",
   "id": "afb9a27b",
   "metadata": {
    "id": "4799c811-9ee7-4d0a-8ae9-f376129f4930"
   },
   "source": [
    "## ENTRENAMIENTO DEL MODELO"
   ]
  },
  {
   "cell_type": "code",
   "execution_count": 16,
   "id": "dc6a37b0",
   "metadata": {
    "colab": {
     "background_save": true,
     "base_uri": "https://localhost:8080/"
    },
    "id": "21313ae0-3004-4a9c-8e43-0964a335d975"
   },
   "outputs": [
    {
     "name": "stdout",
     "output_type": "stream",
     "text": [
      "Epoca: 50 -- Error: 1.094\t--\tTasa acierto [train]: 0.5143\n",
      "\n",
      "Epoca: 100 -- Error: 1.09\t--\tTasa acierto [train]: 0.5143\n",
      "\n",
      "Epoca: 150 -- Error: 1.088\t--\tTasa acierto [train]: 0.5143\n",
      "\n",
      "Epoca: 200 -- Error: 1.09\t--\tTasa acierto [train]: 0.5143\n",
      "\n",
      "===============================================================================\n",
      "FINAL -- Epoca: 105 -- Error: 1.086\t--\tTasa acierto [train]: 0.5143\n",
      "===============================================================================\n"
     ]
    }
   ],
   "source": [
    "TRN_error = []  # Inicializo estructura para almacenar\n",
    "                # los errores en el tiempo\n",
    "VAL_error = []  # Inicializo estructura para almacenar\n",
    "                # los errores en el tiempo\n",
    "accuracy = []  # Inicializo estructura para almacenar\n",
    "               # el accuracy en el tiempo\n",
    "\n",
    "STOP = False\n",
    "counter = 0\n",
    "\n",
    "best_model = None\n",
    "best_model_weights = None\n",
    "best_epoca = 0\n",
    "best_acc = 0\n",
    "\n",
    "\n",
    "#===============================================================\n",
    "while (epoca < MAX_EPOCAS) and (not STOP):\n",
    "\n",
    "    epoca += 1\n",
    "    \n",
    "    #----------------------\n",
    "    # ENTRENAMIENTO\n",
    "    #----------------------\n",
    "    trn_error,modelo = train_step(modelo, train_data, loss_function, optimizer, device)\n",
    "    \n",
    "    #----------------------\n",
    "    # VALIDACION\n",
    "    #----------------------\n",
    "    val_error,Y,Yp = predict_step(modelo, validation_data, loss_function, device)\n",
    "    \n",
    "    acc = torch.sum(Yp == Y)/ len(Y)\n",
    "    \n",
    "    #----------------------\n",
    "    # ALMACENO MEDIDAS\n",
    "    #----------------------\n",
    "    TRN_error.append(trn_error)\n",
    "    VAL_error.append(val_error)\n",
    "    accuracy.append(acc)\n",
    "    \n",
    "    #-----------------------------------------------\n",
    "    # CRITERIO DE CORTE Y ALMACENAMIENTO DEL MODELO\n",
    "    #-----------------------------------------------\n",
    "    if (val_error < MIN_ERROR):\n",
    "        best_epoca = epoca\n",
    "        MIN_ERROR = val_error\n",
    "        best_acc = acc\n",
    "        counter = 0\n",
    "        \n",
    "        #·······················\n",
    "        # Almaceno el modelo\n",
    "        #·······················\n",
    "        best_model = deepcopy(modelo)  # Genero una copia independiente\n",
    "        best_model_weights = best_model.state_dict()\n",
    "        \n",
    "    else:\n",
    "        counter += 1\n",
    "        if counter > MAX_COUNTER:\n",
    "            STOP = True\n",
    "    \n",
    "    #--------------------------------------------\n",
    "    # MUESTRO REPORTE POR PANTALLA (POR EPOCA)\n",
    "    #--------------------------------------------\n",
    "    if (epoca % 50) == 0:\n",
    "        print(f'Epoca: {epoca} -- Error: {val_error:.4}\\t--\\tTasa acierto [train]: {acc:.4}\\n')\n",
    "#===============================================================\n",
    "\n",
    "#--------------------------------------------\n",
    "# MUESTRO REPORTE POR PANTALLA (FINAL)\n",
    "#--------------------------------------------\n",
    "print('='*79)\n",
    "print(f'FINAL -- Epoca: {best_epoca} -- Error: {MIN_ERROR:.4}\\t--\\tTasa acierto [train]: {best_acc:.4}')\n",
    "print('='*79)\n",
    "\n",
    "#-----------------------------\n",
    "# GUARDO MEJOR MODELO A DISCO\n",
    "#-----------------------------\n",
    "torch.save(best_model,\n",
    "           'best_model.pt',\n",
    "           _use_new_zipfile_serialization=True)\n",
    "        \n",
    "#----------------------------------------------\n",
    "# GUARDAMOS LOS PESOS DEL MEJOR MODELO A DISCO\n",
    "#----------------------------------------------\n",
    "torch.save(best_model.state_dict(),\n",
    "           'best_model_state_dict.pt',\n",
    "           _use_new_zipfile_serialization=True)"
   ]
  },
  {
   "attachments": {},
   "cell_type": "markdown",
   "id": "766f8391",
   "metadata": {
    "id": "ec22aa64-3830-4e57-a508-60b1d3d463e8"
   },
   "source": [
    "## GRAFICAMOS LAS SALIDAS"
   ]
  },
  {
   "cell_type": "code",
   "execution_count": 17,
   "id": "d0914390",
   "metadata": {
    "executionInfo": {
     "elapsed": 8,
     "status": "aborted",
     "timestamp": 1683415981406,
     "user": {
      "displayName": "Matias Gerard",
      "userId": "14742050363958170468"
     },
     "user_tz": 180
    },
    "id": "5f97e0b4-52a6-4e93-83c9-3bfefe583654"
   },
   "outputs": [
    {
     "data": {
      "image/png": "[encoded data removed]",
      "text/plain": [
       "<Figure size 2000x600 with 2 Axes>"
      ]
     },
     "metadata": {},
     "output_type": "display_data"
    }
   ],
   "source": [
    "fig, ax = plt.subplots(1, 2, figsize=(20,6))\n",
    "\n",
    "epocas = np.arange(epoca)\n",
    "\n",
    "# ERROR\n",
    "ax[0].plot(epocas, TRN_error, '-r', lw=1, label='Train')\n",
    "ax[0].plot(epocas, VAL_error, '-b', lw=1, label='Validation')\n",
    "ax[0].grid(True)\n",
    "ax[0].set_xlim(0,MAX_EPOCAS)\n",
    "ax[0].set_xlabel('Epocas', fontsize=12)\n",
    "ax[0].set_ylabel('CE', fontsize=12)\n",
    "\n",
    "# ACC\n",
    "ax[1].plot(epocas, accuracy, '-g', lw=1)\n",
    "ax[1].grid(True)\n",
    "ax[1].set_xlim(0,MAX_EPOCAS)\n",
    "ax[1].set_xlabel('Epocas', fontsize=12)\n",
    "ax[1].set_ylabel('Acc', fontsize=12);"
   ]
  },
  {
   "attachments": {},
   "cell_type": "markdown",
   "id": "78ce3940",
   "metadata": {
    "id": "0d25b98b-59e1-4a45-9318-36fd7e622baf"
   },
   "source": [
    "---"
   ]
  },
  {
   "attachments": {},
   "cell_type": "markdown",
   "id": "ca9c620f",
   "metadata": {
    "id": "6527b157-f89d-4fd7-a7d1-e3a8fbc2d16f"
   },
   "source": [
    "## LECTURA DE DATOS DE EVALUACION"
   ]
  },
  {
   "cell_type": "code",
   "execution_count": null,
   "id": "fd231142",
   "metadata": {
    "executionInfo": {
     "elapsed": 9,
     "status": "aborted",
     "timestamp": 1683415981407,
     "user": {
      "displayName": "Matias Gerard",
      "userId": "14742050363958170468"
     },
     "user_tz": 180
    },
    "id": "90041501-1f0b-4fc5-80b2-d9dfc6e8cad2"
   },
   "outputs": [],
   "source": [
    "#=====================================\n",
    "# LEVANTAMOS DE DISCO EL MEJOR MODELO\n",
    "#=====================================\n",
    "\n",
    "del modelo  # Eliminamos de memoria\n",
    "            # para asegurarnos de usar\n",
    "            # el modelo guardado en disco\n",
    "\n",
    "#--------------------------------------\n",
    "# Modelo completo (archivo binario)\n",
    "#--------------------------------------\n",
    "modelo = torch.load('best_model.pt')\n",
    "modelo.to(device)\n",
    "\n",
    "#-----------------------\n",
    "# A partir de los pesos\n",
    "#-----------------------\n",
    "#best_model = torch.load('best_model_state_dict.pt')\n",
    "#modelo = PERCEPTRON(n_features=2, lr=learning_rate)\n",
    "#modelo.load_state_dict(best_model)\n",
    "#modelo.to(device)"
   ]
  },
  {
   "cell_type": "code",
   "execution_count": null,
   "id": "4933b270",
   "metadata": {
    "executionInfo": {
     "elapsed": 9,
     "status": "aborted",
     "timestamp": 1683415981408,
     "user": {
      "displayName": "Matias Gerard",
      "userId": "14742050363958170468"
     },
     "user_tz": 180
    },
    "id": "b182dec5-bebf-46b6-9d68-4c6487d31e12"
   },
   "outputs": [],
   "source": [
    "#=====================================\n",
    "# CONSTRUIMOS EL DATASET PARA TEST\n",
    "#=====================================\n",
    "test_data = DataLoader(tst, batch_size=BATCH_SIZE, shuffle=False)\n",
    "\n",
    "#=====================================\n",
    "# EVALUAMOS EL MODELO ENTRENADO\n",
    "#=====================================\n",
    "tst_error,Y,Yp = predict_step(modelo, test_data, loss_function, device)\n",
    "\n",
    "acc = torch.sum(Yp == Y)/ len(Y)\n",
    "\n",
    "print(f'\\nTasa acierto [test]: {acc:.4}\\n')"
   ]
  },
  {
   "cell_type": "code",
   "execution_count": null,
   "id": "999c0345-2815-4442-88a6-6ba129941cd7",
   "metadata": {},
   "outputs": [],
   "source": []
  }
 ],
 "metadata": {
  "accelerator": "GPU",
  "colab": {
   "name": "",
   "version": ""
  },
  "gpuClass": "standard",
  "kernelspec": {
   "display_name": "Python 3 (ipykernel)",
   "language": "python",
   "name": "python3"
  },
  "language_info": {
   "codemirror_mode": {
    "name": "ipython",
    "version": 3
   },
   "file_extension": ".py",
   "mimetype": "text/x-python",
   "name": "python",
   "nbconvert_exporter": "python",
   "pygments_lexer": "ipython3",
   "version": "3.9.13"
  }
 },
 "nbformat": 4,
 "nbformat_minor": 5
}
