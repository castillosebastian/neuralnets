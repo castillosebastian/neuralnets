{
 "cells": [
  {
   "attachments": {},
   "cell_type": "markdown",
   "id": "21d94a70",
   "metadata": {
    "id": "14bdfc16-bd96-4d61-bd25-dfe041304734"
   },
   "source": [
    "# CARGA DE LIBRERIAS"
   ]
  },
  {
   "cell_type": "code",
   "execution_count": 30,
   "id": "3c317c7b",
   "metadata": {
    "executionInfo": {
     "elapsed": 8001,
     "status": "ok",
     "timestamp": 1683415911507,
     "user": {
      "displayName": "Matias Gerard",
      "userId": "14742050363958170468"
     },
     "user_tz": 180
    },
    "id": "8e3f748c-3008-42c6-9052-f20045f074b0"
   },
   "outputs": [],
   "source": [
    "import numpy as np\n",
    "import matplotlib.pyplot as plt\n",
    "import pandas as pd\n",
    "from copy import deepcopy\n",
    "\n",
    "import torch\n",
    "from torch import nn  # Modelos neuronales y funciones de Loss\n",
    "\n",
    "from torch import optim # (3er paso BACKPROPAGATION) Optimizadores ---> Gradiente descendiente, Adam, AdaDelta, etc\n",
    "from torch.utils.data import Dataset, DataLoader\n",
    "\n",
    "import sys\n",
    "\n",
    "device = torch.device(\"cuda:0\" if torch.cuda.is_available() else \"cpu\")  # Elige el dispositivo. Utilizará GPU si está disponible\n",
    "\n",
    "sys.path.append('/home/sebacastillo/neuralnets/')\n",
    "from src.utils import get_project_root\n",
    "root = get_project_root()"
   ]
  },
  {
   "cell_type": "code",
   "execution_count": 31,
   "id": "66c73c5a",
   "metadata": {},
   "outputs": [],
   "source": [
    "dir = str(root) + '/course_bib/Ejercicio2_resuelto/'"
   ]
  },
  {
   "cell_type": "code",
   "execution_count": 32,
   "id": "3db7d77a-2c62-43d6-bdf2-ccfc0b947a2f",
   "metadata": {},
   "outputs": [],
   "source": [
    "data = pd.read_csv( dir + 'irisbin.csv', header=None).to_numpy()"
   ]
  },
  {
   "attachments": {},
   "cell_type": "markdown",
   "id": "e743f7ae",
   "metadata": {},
   "source": [
    "# RBF NN"
   ]
  },
  {
   "cell_type": "code",
   "execution_count": 33,
   "id": "21528587",
   "metadata": {},
   "outputs": [],
   "source": [
    "class RBFNet(nn.Module):\n",
    "    def __init__(self, input_dim, hidden_dim, output_dim, num_centers, sigma):\n",
    "        super(RBFNet, self).__init__()\n",
    "        \n",
    "        self.hidden_dim = hidden_dim\n",
    "        self.output_dim = output_dim\n",
    "        self.num_centers = num_centers\n",
    "        \n",
    "        self.centers = nn.Parameter(torch.randn(num_centers, input_dim))\n",
    "        self.beta = nn.Parameter(torch.ones(num_centers, 1) / num_centers)\n",
    "        self.sigma = sigma\n",
    "        \n",
    "        self.fc = nn.Linear(num_centers, output_dim)\n",
    "    \n",
    "    def radial_basis(self, x):\n",
    "        C = self.centers.view(self.num_centers, -1)\n",
    "        x = x.unsqueeze(1).expand(-1, self.num_centers, -1)\n",
    "        return torch.exp(-torch.sum((x - C) ** 2, dim=2) / (2 * self.sigma ** 2))\n",
    "    \n",
    "    def forward(self, x):\n",
    "        batch_size = x.size(0)\n",
    "        x = x.view(batch_size, -1)\n",
    "        H = self.radial_basis(x)\n",
    "        out = self.fc(H)\n",
    "        return out"
   ]
  },
  {
   "cell_type": "code",
   "execution_count": 34,
   "id": "d8d56521",
   "metadata": {},
   "outputs": [],
   "source": [
    "class DATASET(Dataset):  # <----------------\n",
    "    '''\n",
    "    Esta clase maneja la lectura de los datos y provee un mecanismo\n",
    "    para alimentar los modelos con los patrones.\n",
    "    '''\n",
    "    \n",
    "    #===================================================\n",
    "    def __init__(self, filename):\n",
    "        \n",
    "        #------------------------------------\n",
    "        # LECTURA DE LOS DATOS\n",
    "        data = pd.read_csv(filename, header=0) # Levanta los datos en formato numpy\n",
    "        \n",
    "        #------------------------------------\n",
    "        # TRANSFORMO A DATOS DE NUMPY\n",
    "        data = data.to_numpy()\n",
    "        \n",
    "        #------------------------------------\n",
    "        # ALEATORIZO LOS PATRONES (filas)\n",
    "        idxs = np.arange(len(data))  # Genero un vector de índices\n",
    "        np.random.shuffle(idxs)\n",
    "        data = data[idxs,:]\n",
    "        \n",
    "        #------------------------------------\n",
    "        # SEPARO LOS DATOS\n",
    "        self.x = data[:,:-1].astype(np.float32)\n",
    "        self.y = data[:,-1].astype(np.longlong)  # La clase está en la última columna\n",
    "        \n",
    "    \n",
    "    #===================================================\n",
    "    def __len__(self):\n",
    "        '''\n",
    "        Devuelve el número de patrones en el dataset.\n",
    "        '''\n",
    "        return len(self.x)\n",
    "    \n",
    "    \n",
    "    #===================================================\n",
    "    def __getitem__(self, idx):\n",
    "        '''\n",
    "        Devuelve el/los patrones indicados.\n",
    "        '''\n",
    "        return self.x[idx,:], self.y[idx]"
   ]
  },
  {
   "cell_type": "code",
   "execution_count": 35,
   "id": "85e4ebc4",
   "metadata": {},
   "outputs": [],
   "source": [
    "BATCH_SIZE=32\n",
    "filename_train = dir + 'data_trn.csv'\n",
    "filename_test = dir + 'data_tst.csv'\n",
    "\n",
    "trn = DATASET(filename_train)\n",
    "tst = DATASET(filename_test)\n",
    "\n",
    "train_loader = DataLoader(trn, batch_size=BATCH_SIZE, shuffle=True)\n",
    "test_loader = DataLoader(tst, batch_size=BATCH_SIZE, shuffle=False)"
   ]
  },
  {
   "cell_type": "code",
   "execution_count": 36,
   "id": "f7955085",
   "metadata": {},
   "outputs": [
    {
     "name": "stdout",
     "output_type": "stream",
     "text": [
      "Epoch: 1 \tTraining Loss: 1.093893 \tTest Loss: 1.101463 \tTest Accuracy: 0.275862\n",
      "Epoch: 21 \tTraining Loss: 1.082967 \tTest Loss: 1.117461 \tTest Accuracy: 0.379310\n",
      "Epoch: 41 \tTraining Loss: 1.052465 \tTest Loss: 1.066401 \tTest Accuracy: 0.379310\n",
      "Epoch: 61 \tTraining Loss: 0.642933 \tTest Loss: 0.695805 \tTest Accuracy: 0.655172\n",
      "Epoch: 81 \tTraining Loss: 0.489803 \tTest Loss: 0.534382 \tTest Accuracy: 0.655172\n",
      "Epoch: 101 \tTraining Loss: 0.456384 \tTest Loss: 0.498294 \tTest Accuracy: 0.655172\n",
      "Epoch: 121 \tTraining Loss: 0.346369 \tTest Loss: 0.345677 \tTest Accuracy: 1.000000\n"
     ]
    }
   ],
   "source": [
    "# dataloaders\n",
    "input_dim = 4\n",
    "hidden_dim = 10\n",
    "output_dim = 3\n",
    "num_centers = 10\n",
    "sigma = 1.0\n",
    "model = RBFNet(input_dim, hidden_dim, output_dim, num_centers, sigma)\n",
    "\n",
    "# loss function and an optimizer\n",
    "criterion = nn.CrossEntropyLoss()\n",
    "optimizer = optim.Adam(model.parameters(), lr=0.01)\n",
    "\n",
    "# epochs\n",
    "epochs = 140\n",
    "\n",
    "# Evaluation objects\n",
    "train_losses = []\n",
    "test_losses = []\n",
    "test_accuracies = []\n",
    "\n",
    "# Training loop\n",
    "for epoch in range(epochs):\n",
    "    train_loss = 0.0\n",
    "    test_loss = 0.0\n",
    "    correct = 0.0\n",
    "    model.train() \n",
    "    for inputs, labels in train_loader:\n",
    "        \n",
    "        optimizer.zero_grad()\n",
    "        \n",
    "        outputs = model(inputs)\n",
    "        loss = criterion(outputs, labels)\n",
    "        \n",
    "        loss.backward() \n",
    "        optimizer.step() \n",
    "        train_loss += loss.item() * inputs.size(0)\n",
    "        \n",
    "    \n",
    "    model.eval()\n",
    "    with torch.no_grad():\n",
    "        for inputs, labels in test_loader:\n",
    "            outputs = model(inputs)\n",
    "            loss = criterion(outputs, labels)\n",
    "            test_loss += loss.item() * inputs.size(0)\n",
    "            # calculate accuracy\n",
    "            _, pred = torch.max(outputs, dim=1)\n",
    "            correct += pred.eq(labels).sum().item()    \n",
    "   \n",
    "    train_loss = train_loss / len(train_loader.dataset)\n",
    "    test_loss = test_loss / len(test_loader.dataset)\n",
    "    accuracy = correct / len(test_loader.dataset)\n",
    "\n",
    "    # append losses and accuracy\n",
    "    train_losses.append(train_loss)\n",
    "    test_losses.append(test_loss)\n",
    "    test_accuracies.append(accuracy)\n",
    "\n",
    "    if (epoch % 20) == 0:\n",
    "        print(f'Epoch: {epoch+1} \\tTraining Loss: {train_loss:.6f} \\tTest Loss: {test_loss:.6f} \\tTest Accuracy: {accuracy:.6f}')\n"
   ]
  },
  {
   "cell_type": "code",
   "execution_count": 37,
   "id": "7dc69290",
   "metadata": {},
   "outputs": [
    {
     "data": {
      "image/png": "[encoded data removed]",
      "text/plain": [
       "<Figure size 1200x400 with 2 Axes>"
      ]
     },
     "metadata": {},
     "output_type": "display_data"
    }
   ],
   "source": [
    "# plotting\n",
    "plt.figure(figsize=(12, 4))\n",
    "plt.subplot(1, 2, 1)\n",
    "plt.plot(train_losses, label='Training')\n",
    "plt.plot(test_losses, label='Test')\n",
    "plt.legend()\n",
    "plt.title('Error')\n",
    "\n",
    "plt.subplot(1, 2, 2)\n",
    "plt.plot(test_accuracies, label='Test acc')\n",
    "plt.legend()\n",
    "plt.title('Acuracy')\n",
    "\n",
    "plt.show()"
   ]
  }
 ],
 "metadata": {
  "accelerator": "GPU",
  "colab": {
   "name": "",
   "version": ""
  },
  "gpuClass": "standard",
  "kernelspec": {
   "display_name": "Python 3 (ipykernel)",
   "language": "python",
   "name": "python3"
  },
  "language_info": {
   "codemirror_mode": {
    "name": "ipython",
    "version": 3
   },
   "file_extension": ".py",
   "mimetype": "text/x-python",
   "name": "python",
   "nbconvert_exporter": "python",
   "pygments_lexer": "ipython3",
   "version": "3.9.13"
  }
 },
 "nbformat": 4,
 "nbformat_minor": 5
}
