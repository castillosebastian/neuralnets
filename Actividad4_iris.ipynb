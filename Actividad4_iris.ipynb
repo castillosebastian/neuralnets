{
 "cells": [
  {
   "attachments": {},
   "cell_type": "markdown",
   "id": "36770985-f171-4897-8da7-6fdda5f3ed05",
   "metadata": {},
   "source": [
    "## Importamos librerías"
   ]
  },
  {
   "cell_type": "code",
   "execution_count": 87,
   "id": "1dd078ca-8a70-44fb-a1a5-b4c8c0a026af",
   "metadata": {},
   "outputs": [],
   "source": [
    "import math\n",
    "import random\n",
    "\n",
    "import matplotlib.pyplot as plt\n",
    "import numpy as np\n",
    "import pandas as pd\n",
    "\n",
    "from sklearn.preprocessing import StandardScaler\n",
    "from sklearn.neural_network import MLPClassifier\n",
    "\n",
    "from tqdm import tqdm\n",
    "\n",
    "from deap import base  # Estructura que permite agrupar todos los componentes de nuestro algoritmo en una misma bolsa\n",
    "from deap import creator  # Permite crear los componentes de nuestro algoritmo\n",
    "from deap import tools  # Contiene funciones precargadas\n",
    "\n",
    "from joblib import Parallel, delayed"
   ]
  },
  {
   "cell_type": "code",
   "execution_count": 88,
   "id": "64a304a3",
   "metadata": {},
   "outputs": [
    {
     "name": "stdout",
     "output_type": "stream",
     "text": [
      "Using 2.0.0+cu117\n"
     ]
    }
   ],
   "source": [
    "import numpy as np\n",
    "import os\n",
    "import math\n",
    "import time\n",
    "import pandas as pd\n",
    "import json\n",
    "# NN\n",
    "import torch\n",
    "import torch.nn as nn\n",
    "import torch.nn.functional as F\n",
    "#from torch.utils.data import random_split\n",
    "from torch.utils.data import DataLoader, Dataset\n",
    "from torch import optim\n",
    "from copy import deepcopy\n",
    "from sklearn.model_selection import train_test_split\n",
    "## Ploting\n",
    "import matplotlib.pyplot as plt\n",
    "%matplotlib inline \n",
    "from IPython.display import set_matplotlib_formats\n",
    "from matplotlib.colors import to_rgba\n",
    "## Progress bar\n",
    "from tqdm.notebook import tqdm\n",
    "# Path\n",
    "import sys\n",
    "sys.path.append('/home/sebacastillo/neuralnets/')\n",
    "from src.utils import get_project_root\n",
    "root = get_project_root()\n",
    "## Check torch version\n",
    "print(f'Using {torch.__version__}')"
   ]
  },
  {
   "attachments": {},
   "cell_type": "markdown",
   "id": "c45474d1-fdd8-4f23-a516-28dc9bd6499d",
   "metadata": {},
   "source": [
    "# PARTICIONO LOS DATOS"
   ]
  },
  {
   "attachments": {},
   "cell_type": "markdown",
   "id": "4732ad18-78a3-48cc-9398-8d28e913953d",
   "metadata": {},
   "source": [
    "# Leemos los datasets"
   ]
  },
  {
   "cell_type": "code",
   "execution_count": 89,
   "id": "0511da1b",
   "metadata": {},
   "outputs": [],
   "source": [
    "def load_split_save_data(input_filename, output_name='EXP', split_type='train_test', train_ratio=0.75, validate_ratio=None, test_ratio=None):\n",
    "\n",
    "    data = pd.read_csv(input_filename, header=None)\n",
    "\n",
    "    # Check if 'exp' folder exists, create it if it doesn't\n",
    "    if not os.path.exists('exp'):\n",
    "        os.makedirs('exp')\n",
    "    \n",
    "    # Create a subfolder with the output_name\n",
    "    output_path = os.path.join('exp', output_name)\n",
    "    if not os.path.exists(output_path):\n",
    "        os.makedirs(output_path)\n",
    "        \n",
    "    if split_type == 'train_validate_test':\n",
    "        if not validate_ratio or not test_ratio:\n",
    "            raise ValueError(\"Please provide validate_ratio and test_ratio for 'train_validate_test' split type.\")\n",
    "        \n",
    "        train_data, temp_data = train_test_split(data, train_size=train_ratio, random_state=42)\n",
    "        validate_data, test_data = train_test_split(temp_data, train_size=validate_ratio / (validate_ratio + test_ratio), random_state=42)\n",
    "        \n",
    "        # Save the train, validate, and test data as CSV files in the output folder\n",
    "        train_data.to_csv(os.path.join(output_path, f'{output_name}_train_data.csv'), index=False)\n",
    "        validate_data.to_csv(os.path.join(output_path, f'{output_name}_validate_data.csv'), index=False)\n",
    "        test_data.to_csv(os.path.join(output_path, f'{output_name}_test_data.csv'), index=False)\n",
    "\n",
    "\n",
    "        return train_data, validate_data, test_data    \n",
    "\n",
    "    elif split_type == 'train_test':\n",
    "        train_data, test_data = train_test_split(data, train_size=train_ratio, random_state=42)\n",
    "        \n",
    "        # Save the train and test data as CSV files in the output folder\n",
    "        train_data.to_csv(os.path.join(output_path, f'{output_name}_train_data.csv'), index=False)\n",
    "        test_data.to_csv(os.path.join(output_path, f'{output_name}_test_data.csv'), index=False)\n",
    "\n",
    "\n",
    "        return train_data, test_data\n",
    "    \n",
    "    else:\n",
    "        raise ValueError(\"Invalid split_type. Use either 'train_validate_test' or 'train_test'.\")\n"
   ]
  },
  {
   "cell_type": "code",
   "execution_count": 90,
   "id": "cfc38a9a",
   "metadata": {},
   "outputs": [],
   "source": [
    "TRAIN, TEST = load_split_save_data('data/irisbin.csv' , output_name= \"AlgoGen\")"
   ]
  },
  {
   "cell_type": "code",
   "execution_count": 91,
   "id": "f5182035-78f5-43b2-b817-a21c2c4b804e",
   "metadata": {},
   "outputs": [
    {
     "data": {
      "text/html": [
       "<div>\n",
       "<style scoped>\n",
       "    .dataframe tbody tr th:only-of-type {\n",
       "        vertical-align: middle;\n",
       "    }\n",
       "\n",
       "    .dataframe tbody tr th {\n",
       "        vertical-align: top;\n",
       "    }\n",
       "\n",
       "    .dataframe thead th {\n",
       "        text-align: right;\n",
       "    }\n",
       "</style>\n",
       "<table border=\"1\" class=\"dataframe\">\n",
       "  <thead>\n",
       "    <tr style=\"text-align: right;\">\n",
       "      <th></th>\n",
       "      <th>0</th>\n",
       "      <th>1</th>\n",
       "      <th>2</th>\n",
       "      <th>3</th>\n",
       "      <th>4</th>\n",
       "      <th>5</th>\n",
       "      <th>6</th>\n",
       "    </tr>\n",
       "  </thead>\n",
       "  <tbody>\n",
       "    <tr>\n",
       "      <th>4</th>\n",
       "      <td>6.7</td>\n",
       "      <td>3.1</td>\n",
       "      <td>4.7</td>\n",
       "      <td>1.5</td>\n",
       "      <td>-1</td>\n",
       "      <td>1</td>\n",
       "      <td>-1</td>\n",
       "    </tr>\n",
       "    <tr>\n",
       "      <th>32</th>\n",
       "      <td>5.2</td>\n",
       "      <td>3.4</td>\n",
       "      <td>1.4</td>\n",
       "      <td>0.2</td>\n",
       "      <td>-1</td>\n",
       "      <td>-1</td>\n",
       "      <td>1</td>\n",
       "    </tr>\n",
       "    <tr>\n",
       "      <th>142</th>\n",
       "      <td>5.5</td>\n",
       "      <td>2.3</td>\n",
       "      <td>4.0</td>\n",
       "      <td>1.3</td>\n",
       "      <td>-1</td>\n",
       "      <td>1</td>\n",
       "      <td>-1</td>\n",
       "    </tr>\n",
       "    <tr>\n",
       "      <th>85</th>\n",
       "      <td>5.6</td>\n",
       "      <td>3.0</td>\n",
       "      <td>4.5</td>\n",
       "      <td>1.5</td>\n",
       "      <td>-1</td>\n",
       "      <td>1</td>\n",
       "      <td>-1</td>\n",
       "    </tr>\n",
       "    <tr>\n",
       "      <th>86</th>\n",
       "      <td>5.1</td>\n",
       "      <td>3.3</td>\n",
       "      <td>1.7</td>\n",
       "      <td>0.5</td>\n",
       "      <td>-1</td>\n",
       "      <td>-1</td>\n",
       "      <td>1</td>\n",
       "    </tr>\n",
       "  </tbody>\n",
       "</table>\n",
       "</div>"
      ],
      "text/plain": [
       "       0    1    2    3  4  5  6\n",
       "4    6.7  3.1  4.7  1.5 -1  1 -1\n",
       "32   5.2  3.4  1.4  0.2 -1 -1  1\n",
       "142  5.5  2.3  4.0  1.3 -1  1 -1\n",
       "85   5.6  3.0  4.5  1.5 -1  1 -1\n",
       "86   5.1  3.3  1.7  0.5 -1 -1  1"
      ]
     },
     "execution_count": 91,
     "metadata": {},
     "output_type": "execute_result"
    }
   ],
   "source": [
    "TRAIN.head()"
   ]
  },
  {
   "cell_type": "code",
   "execution_count": 92,
   "id": "0fbc4aff",
   "metadata": {},
   "outputs": [],
   "source": [
    "\n",
    "def transform_dataframe(df):\n",
    "    # Ensure the dataframe has at least 3 columns\n",
    "    if len(df.columns) < 3:\n",
    "        raise ValueError(\"Dataframe must have at least 3 columns\")\n",
    "\n",
    "    # Create the new target variable, starting with all zeros\n",
    "    df['Target'] = 0\n",
    "\n",
    "    # Loop over the last three columns in reverse order\n",
    "    for i, column in enumerate(df.columns[-3:][::-1], start=0):\n",
    "        df.loc[df[column] == 1, 'Target'] = i\n",
    "\n",
    "    # Drop the last three columns\n",
    "    df = df.drop(df.columns[-4:-1], axis=1)\n",
    "    return df"
   ]
  },
  {
   "cell_type": "code",
   "execution_count": 93,
   "id": "9650a7ee",
   "metadata": {},
   "outputs": [
    {
     "data": {
      "text/html": [
       "<div>\n",
       "<style scoped>\n",
       "    .dataframe tbody tr th:only-of-type {\n",
       "        vertical-align: middle;\n",
       "    }\n",
       "\n",
       "    .dataframe tbody tr th {\n",
       "        vertical-align: top;\n",
       "    }\n",
       "\n",
       "    .dataframe thead th {\n",
       "        text-align: right;\n",
       "    }\n",
       "</style>\n",
       "<table border=\"1\" class=\"dataframe\">\n",
       "  <thead>\n",
       "    <tr style=\"text-align: right;\">\n",
       "      <th></th>\n",
       "      <th>0</th>\n",
       "      <th>1</th>\n",
       "      <th>2</th>\n",
       "      <th>3</th>\n",
       "      <th>Target</th>\n",
       "    </tr>\n",
       "  </thead>\n",
       "  <tbody>\n",
       "    <tr>\n",
       "      <th>73</th>\n",
       "      <td>5.4</td>\n",
       "      <td>3.0</td>\n",
       "      <td>4.5</td>\n",
       "      <td>1.5</td>\n",
       "      <td>2</td>\n",
       "    </tr>\n",
       "    <tr>\n",
       "      <th>18</th>\n",
       "      <td>4.3</td>\n",
       "      <td>3.0</td>\n",
       "      <td>1.1</td>\n",
       "      <td>0.1</td>\n",
       "      <td>1</td>\n",
       "    </tr>\n",
       "    <tr>\n",
       "      <th>118</th>\n",
       "      <td>4.7</td>\n",
       "      <td>3.2</td>\n",
       "      <td>1.3</td>\n",
       "      <td>0.2</td>\n",
       "      <td>1</td>\n",
       "    </tr>\n",
       "    <tr>\n",
       "      <th>78</th>\n",
       "      <td>5.2</td>\n",
       "      <td>3.4</td>\n",
       "      <td>1.4</td>\n",
       "      <td>0.2</td>\n",
       "      <td>1</td>\n",
       "    </tr>\n",
       "    <tr>\n",
       "      <th>76</th>\n",
       "      <td>5.4</td>\n",
       "      <td>3.9</td>\n",
       "      <td>1.7</td>\n",
       "      <td>0.4</td>\n",
       "      <td>1</td>\n",
       "    </tr>\n",
       "  </tbody>\n",
       "</table>\n",
       "</div>"
      ],
      "text/plain": [
       "       0    1    2    3  Target\n",
       "73   5.4  3.0  4.5  1.5       2\n",
       "18   4.3  3.0  1.1  0.1       1\n",
       "118  4.7  3.2  1.3  0.2       1\n",
       "78   5.2  3.4  1.4  0.2       1\n",
       "76   5.4  3.9  1.7  0.4       1"
      ]
     },
     "execution_count": 93,
     "metadata": {},
     "output_type": "execute_result"
    }
   ],
   "source": [
    "TRAIN = transform_dataframe(TRAIN)\n",
    "TRAIN.head()\n",
    "TEST  = transform_dataframe(TEST)\n",
    "TEST.head()"
   ]
  },
  {
   "cell_type": "code",
   "execution_count": 94,
   "id": "ffbb47ca",
   "metadata": {},
   "outputs": [
    {
     "data": {
      "text/plain": [
       "Target\n",
       "1    46\n",
       "0    35\n",
       "2    31\n",
       "Name: count, dtype: int64"
      ]
     },
     "execution_count": 94,
     "metadata": {},
     "output_type": "execute_result"
    }
   ],
   "source": [
    "TRAIN.Target.value_counts()"
   ]
  },
  {
   "attachments": {},
   "cell_type": "markdown",
   "id": "40791c59-5d5f-4fa5-aa85-9fb6a6d5677e",
   "metadata": {},
   "source": [
    "# Normalizamos los datos"
   ]
  },
  {
   "cell_type": "code",
   "execution_count": 95,
   "id": "aaf4a87b",
   "metadata": {},
   "outputs": [],
   "source": [
    "scaler = StandardScaler()\n",
    "TRAIN = TRAIN.to_numpy()\n",
    "TEST = TEST.to_numpy()"
   ]
  },
  {
   "cell_type": "code",
   "execution_count": 96,
   "id": "ac1b167a-fa67-4a64-9c1a-2be96256c4ef",
   "metadata": {},
   "outputs": [],
   "source": [
    "X_TRAIN = TRAIN[:,:-1]\n",
    "#y_train = (TRAIN[:,-1] + 1) /2\n",
    "y_train = TRAIN[:,-1]\n",
    "#y_train = np.where(np.array(y_train) < 1, 0, 1).astype('int64')\n",
    "\n",
    "\n",
    "X_TEST = TEST[:,:-1]\n",
    "y_test = TEST[:,-1]\n",
    "#y_test = np.where(np.array(y_test) == 2, 1, 0).astype('int64')\n",
    "\n",
    "scaler.fit(X_TRAIN)\n",
    "\n",
    "Xtrain = scaler.transform(X_TRAIN)\n",
    "Xtest = scaler.transform(X_TEST)"
   ]
  },
  {
   "cell_type": "code",
   "execution_count": 97,
   "id": "95204c8a",
   "metadata": {},
   "outputs": [
    {
     "data": {
      "text/plain": [
       "array([[ 1.19948987, -0.0091386 ,  0.62171968,  0.52865488],\n",
       "       [-0.72335648,  0.60497529, -1.15270189, -1.18947348],\n",
       "       [-0.33878721, -1.64677564,  0.24532722,  0.26432744],\n",
       "       [-0.21059746, -0.21384323,  0.51417898,  0.52865488],\n",
       "       [-0.85154624,  0.40027066, -0.99139083, -0.79298232],\n",
       "       [-0.46697697,  1.62849844, -0.99139083, -0.92514604],\n",
       "       [ 2.48138743, -1.03266175,  1.80466738,  1.58596464],\n",
       "       [-0.33878721, -1.64677564,  0.24532722,  0.26432744],\n",
       "       [ 2.48138743, -1.03266175,  1.80466738,  1.58596464],\n",
       "       [-0.21059746, -0.62325249,  0.72926038,  1.18947348],\n",
       "       [-0.72335648,  0.60497529, -1.15270189, -1.18947348],\n",
       "       [-0.21059746, -0.62325249,  0.72926038,  1.18947348],\n",
       "       [ 2.48138743,  1.42379381,  1.69712668,  1.45380092],\n",
       "       [ 0.8149206 , -0.62325249,  1.10565283,  1.45380092],\n",
       "       [-0.59516673,  1.21908918, -1.09893154, -1.18947348],\n",
       "       [-1.62068478, -1.64677564, -1.20647224, -1.05730976],\n",
       "       [-0.85154624,  1.42379381, -0.88385013, -0.92514604],\n",
       "       [ 0.43035133, -1.03266175,  1.10565283,  0.39649116],\n",
       "       [ 1.19948987, -0.0091386 ,  0.46040863,  0.39649116],\n",
       "       [ 1.19948987, -0.0091386 ,  0.62171968,  0.52865488],\n",
       "       [-1.10792575, -0.21384323, -1.15270189, -1.18947348],\n",
       "       [ 0.68673084, -0.41854786,  1.10565283,  0.92514604],\n",
       "       [-1.36430527,  0.19556603, -1.20647224, -1.18947348],\n",
       "       [ 0.55854108, -0.41854786,  0.40663827,  0.26432744],\n",
       "       [ 1.19948987, -0.0091386 ,  0.62171968,  0.52865488],\n",
       "       [-0.85154624,  0.40027066, -0.99139083, -0.79298232],\n",
       "       [ 0.30216157, -1.85148027,  0.78303073,  0.52865488],\n",
       "       [-0.33878721, -1.64677564,  0.24532722,  0.26432744],\n",
       "       [ 0.04578206, -0.82795712,  0.83680108,  1.05730976],\n",
       "       [ 0.8149206 , -0.0091386 ,  1.05188248,  0.92514604],\n",
       "       [-1.49249502,  0.60497529, -1.15270189, -1.05730976],\n",
       "       [-0.979736  ,  0.80967992, -1.20647224, -1.05730976],\n",
       "       [-0.72335648,  2.0379077 , -1.09893154, -1.3216372 ],\n",
       "       [ 0.04578206, -0.82795712,  0.19155687,  0.13216372],\n",
       "       [-0.33878721, -1.64677564,  0.24532722,  0.26432744],\n",
       "       [-1.62068478, -1.64677564, -1.20647224, -1.05730976],\n",
       "       [-0.21059746, -0.21384323,  0.51417898,  0.52865488],\n",
       "       [-1.62068478, -1.64677564, -1.20647224, -1.05730976],\n",
       "       [-0.21059746, -0.62325249,  0.72926038,  1.18947348],\n",
       "       [ 0.30216157, -0.82795712,  0.83680108,  0.6608186 ],\n",
       "       [ 0.8149206 , -0.0091386 ,  1.05188248,  0.92514604],\n",
       "       [ 0.43035133, -0.41854786,  0.62171968,  0.39649116],\n",
       "       [ 0.04578206,  1.83320307, -1.26024259, -1.18947348],\n",
       "       [ 0.55854108, -0.41854786,  0.40663827,  0.26432744],\n",
       "       [ 0.43035133, -0.41854786,  0.62171968,  0.39649116],\n",
       "       [ 1.84043865, -0.21384323,  1.21319353,  0.6608186 ],\n",
       "       [ 1.19948987,  0.40027066,  1.15942318,  1.85029208],\n",
       "       [-0.33878721, -1.64677564,  0.24532722,  0.26432744],\n",
       "       [ 1.84043865, -0.21384323,  1.21319353,  0.6608186 ],\n",
       "       [-0.72335648,  0.60497529, -1.15270189, -1.18947348],\n",
       "       [-0.33878721, -1.64677564,  0.24532722,  0.26432744],\n",
       "       [ 0.43035133, -0.21384323,  0.56794933,  0.39649116],\n",
       "       [ 1.19948987, -0.0091386 ,  0.46040863,  0.39649116],\n",
       "       [-0.85154624,  0.40027066, -0.99139083, -0.79298232],\n",
       "       [ 0.68673084,  0.60497529,  1.10565283,  1.71812836],\n",
       "       [ 1.45586938, -0.0091386 ,  0.99811213,  1.3216372 ],\n",
       "       [-1.62068478, -1.64677564, -1.20647224, -1.05730976],\n",
       "       [-1.49249502,  0.60497529, -1.15270189, -1.05730976],\n",
       "       [-0.979736  ,  0.40027066, -1.15270189, -1.18947348],\n",
       "       [ 1.19948987,  0.40027066,  1.15942318,  1.3216372 ],\n",
       "       [-0.72335648,  0.60497529, -1.15270189, -1.18947348],\n",
       "       [ 2.48138743,  1.42379381,  1.69712668,  1.45380092],\n",
       "       [-0.33878721,  2.24261233, -1.15270189, -1.18947348],\n",
       "       [-0.979736  ,  0.40027066, -1.15270189, -1.18947348],\n",
       "       [ 0.04578206,  1.83320307, -1.26024259, -1.18947348],\n",
       "       [-1.10792575, -0.21384323, -1.15270189, -1.18947348],\n",
       "       [ 0.55854108,  0.60497529,  0.99811213,  1.58596464],\n",
       "       [ 0.43035133, -0.21384323,  0.72926038,  0.92514604],\n",
       "       [-0.979736  ,  0.80967992, -1.20647224, -1.05730976],\n",
       "       [-0.979736  ,  0.80967992, -1.20647224, -1.05730976],\n",
       "       [ 1.84043865, -0.21384323,  1.21319353,  0.6608186 ],\n",
       "       [ 0.43035133, -1.03266175,  1.10565283,  0.39649116],\n",
       "       [ 0.94311035,  0.19556603,  0.83680108,  1.18947348],\n",
       "       [-0.979736  ,  0.40027066, -1.15270189, -1.18947348],\n",
       "       [-0.33878721,  0.80967992, -1.20647224, -1.18947348],\n",
       "       [ 0.04578206,  1.83320307, -1.26024259, -1.18947348],\n",
       "       [ 0.8149206 , -0.62325249,  1.10565283,  1.45380092],\n",
       "       [ 0.43035133, -1.03266175,  1.10565283,  0.39649116],\n",
       "       [-0.33878721, -1.64677564,  0.24532722,  0.26432744],\n",
       "       [-0.33878721, -1.64677564,  0.24532722,  0.26432744],\n",
       "       [-0.72335648,  0.60497529, -1.15270189, -1.18947348],\n",
       "       [-0.33878721, -1.64677564,  0.24532722,  0.26432744],\n",
       "       [ 0.04578206, -0.82795712,  0.83680108,  1.05730976],\n",
       "       [-0.46697697, -0.21384323,  0.51417898,  0.52865488],\n",
       "       [ 1.19948987, -0.0091386 ,  1.10565283,  1.71812836],\n",
       "       [-1.49249502, -0.0091386 , -1.09893154, -1.18947348],\n",
       "       [ 1.45586938, -0.0091386 ,  0.99811213,  1.3216372 ],\n",
       "       [ 0.55854108, -0.41854786,  0.40663827,  0.26432744],\n",
       "       [-1.49249502,  0.60497529, -1.15270189, -1.05730976],\n",
       "       [ 2.48138743,  1.42379381,  1.69712668,  1.45380092],\n",
       "       [-1.49249502, -0.0091386 , -1.09893154, -1.18947348],\n",
       "       [-0.59516673,  1.21908918, -1.09893154, -1.18947348],\n",
       "       [ 0.30216157,  0.60497529,  0.51417898,  0.6608186 ],\n",
       "       [-0.59516673,  1.21908918, -1.09893154, -1.18947348],\n",
       "       [-0.46697697, -0.21384323,  0.51417898,  0.52865488],\n",
       "       [-1.10792575, -0.21384323, -1.15270189, -1.18947348],\n",
       "       [-0.85154624,  0.40027066, -0.99139083, -0.79298232],\n",
       "       [-0.21059746, -0.21384323,  0.51417898,  0.52865488],\n",
       "       [ 0.55854108, -0.41854786,  0.40663827,  0.26432744],\n",
       "       [-1.49249502,  0.60497529, -1.15270189, -1.05730976],\n",
       "       [ 0.43035133, -1.03266175,  1.10565283,  0.39649116],\n",
       "       [ 0.04578206, -0.62325249,  0.83680108,  1.71812836],\n",
       "       [-0.46697697,  1.62849844, -0.99139083, -0.92514604],\n",
       "       [-0.46697697,  1.62849844, -0.99139083, -0.92514604],\n",
       "       [ 0.43035133, -0.41854786,  0.62171968,  0.39649116],\n",
       "       [ 0.43035133, -1.03266175,  1.10565283,  0.39649116],\n",
       "       [-0.72335648,  0.60497529, -1.15270189, -1.18947348],\n",
       "       [-0.59516673,  1.21908918, -1.09893154, -1.18947348],\n",
       "       [ 0.43035133, -0.21384323,  0.72926038,  0.92514604],\n",
       "       [-0.33878721,  2.24261233, -1.15270189, -1.18947348],\n",
       "       [ 0.04578206,  1.83320307, -1.26024259, -1.18947348],\n",
       "       [ 0.55854108, -0.41854786,  0.40663827,  0.26432744]])"
      ]
     },
     "execution_count": 97,
     "metadata": {},
     "output_type": "execute_result"
    }
   ],
   "source": [
    "Xtrain"
   ]
  },
  {
   "cell_type": "code",
   "execution_count": 98,
   "id": "697e01a5",
   "metadata": {},
   "outputs": [
    {
     "name": "stdout",
     "output_type": "stream",
     "text": [
      "[2. 1. 2. 2. 1. 1. 0. 2. 0. 0. 1. 0. 0. 0. 1. 1. 1. 0. 2. 2. 1. 0. 1. 2.\n",
      " 2. 1. 0. 2. 0. 0. 1. 1. 1. 2. 2. 1. 2. 1. 0. 2. 0. 2. 1. 2. 2. 0. 0. 2.\n",
      " 0. 1. 2. 2. 2. 1. 0. 0. 1. 1. 1. 0. 1. 0. 1. 1. 1. 1. 0. 0. 1. 1. 0. 0.\n",
      " 0. 1. 1. 1. 0. 0. 2. 2. 1. 2. 0. 2. 0. 1. 0. 2. 1. 0. 1. 1. 2. 1. 2. 1.\n",
      " 1. 2. 2. 1. 0. 0. 1. 1. 2. 0. 1. 1. 0. 1. 1. 2.]\n",
      "[2. 1. 1. 1. 1. 2. 0. 2. 1. 1. 1. 2. 2. 0. 0. 2. 2. 0. 1. 1. 0. 0. 2. 1.\n",
      " 2. 2. 2. 1. 0. 0. 0. 1. 1. 2. 1. 1. 1. 0.]\n"
     ]
    }
   ],
   "source": [
    "print(y_train)\n",
    "print(y_test)"
   ]
  },
  {
   "attachments": {},
   "cell_type": "markdown",
   "id": "85b39ae1-f26c-468f-871f-f631876710c2",
   "metadata": {},
   "source": [
    "## Funciones auxiliares"
   ]
  },
  {
   "cell_type": "code",
   "execution_count": 99,
   "id": "b178f92e-820c-483b-80f4-54c5e3e1e6f6",
   "metadata": {},
   "outputs": [],
   "source": [
    "#=================================\n",
    "def bin(p=0.9):\n",
    "    '''\n",
    "    Esta función genera un bit al azar.\n",
    "    '''\n",
    "    if random.random() < p:\n",
    "        return 1\n",
    "    else:\n",
    "        return 0\n",
    "#=================================\n",
    "\n",
    "\n",
    "#=================================\n",
    "def fitness(features, Xtrain, Xtest, y_train, y_test):\n",
    "    '''\n",
    "    Función de aptitud empleada por nuestro algoritmo.\n",
    "    '''\n",
    "    if not isinstance(features, np.ndarray):\n",
    "        features = np.array(features)\n",
    "\n",
    "    if not isinstance(features[0], bool):\n",
    "        features = features.astype(bool)\n",
    "    \n",
    "    X_train = Xtrain[:,features]\n",
    "    X_test = Xtest[:,features]\n",
    "    \n",
    "    mlp = MLPClassifier(hidden_layer_sizes=(5,3),\n",
    "                        activation='tanh',\n",
    "                        solver='adam',\n",
    "                        alpha=0.0001,\n",
    "                        learning_rate_init=0.001,\n",
    "                        shuffle=True,\n",
    "                        momentum=0.9,\n",
    "                        validation_fraction=0.2,\n",
    "                        n_iter_no_change=10,\n",
    "                        random_state=42,\n",
    "                        max_iter=3000).fit(X_train, y_train)\n",
    "\n",
    "    yp = mlp.predict(X_test)\n",
    "\n",
    "    acc = (y_test == yp).sum()/len(y_test)\n",
    "\n",
    "    n_genes = 1 - (features.sum() / len(features))\n",
    "\n",
    "    alpha = 0.5\n",
    "\n",
    "    f = (alpha*acc + (1-alpha)*n_genes)\n",
    "    \n",
    "    return f, acc, n_genes\n",
    "#=================================\n",
    "\n",
    "    \n",
    "#=================================\n",
    "def mutation(ind, p):\n",
    "    '''\n",
    "    Esta función recorre el cromosoma y evalúa, para cada gen,\n",
    "    si debe aplicar el operador de mutación.\n",
    "    '''\n",
    "    return [abs(i-1) if random.random() < p else i for i in ind]\n",
    "#================================="
   ]
  },
  {
   "attachments": {},
   "cell_type": "markdown",
   "id": "b0b717bd-dfd7-4443-aa25-d2c3973479aa",
   "metadata": {},
   "source": [
    "## Inicializamos parámetros del experimento"
   ]
  },
  {
   "cell_type": "code",
   "execution_count": 100,
   "id": "f1d51f68-b17b-4e8d-939a-9e83f3245817",
   "metadata": {},
   "outputs": [],
   "source": [
    "IND_SIZE = Xtrain.shape[1]  # Cantidad de genes en el cromosoma\n",
    "\n",
    "POP_SIZE = 100  # Cantidad de individuos en la población\n",
    "PM = 20./IND_SIZE  # Probabilidad de mutación [aproximadamente 1 gen por cromosoma]\n",
    "#                   Experimento 4: con mayor probabilidad de mutación.\n",
    "# PM = 20./IND_SIZE __experimento 2 mejoró el fitness y acc en la segunda generación pero luego se estancó\n",
    "PX = 0.75  # Probabilidad de cruza\n",
    "# PX = 0.85  # Probabilidad de cruza\n",
    "GMAX = 20  # Cantidad máxima de generaciones que se ejecutará el algoritmo"
   ]
  },
  {
   "cell_type": "code",
   "execution_count": 101,
   "id": "0cc91526",
   "metadata": {},
   "outputs": [
    {
     "name": "stdout",
     "output_type": "stream",
     "text": [
      "4\n",
      "100\n",
      "5.0\n",
      "0.75\n",
      "20\n"
     ]
    }
   ],
   "source": [
    "print(IND_SIZE)\n",
    "print(POP_SIZE)\n",
    "print(PM)\n",
    "print(PX)\n",
    "print(GMAX)"
   ]
  },
  {
   "attachments": {},
   "cell_type": "markdown",
   "id": "fe0f6609-b27d-4746-a0bb-6b1be92ed286",
   "metadata": {},
   "source": [
    "## Creamos los componentes del algoritmo\n",
    "\n",
    "**Documentación**: https://deap.readthedocs.io/en/master/api/creator.html"
   ]
  },
  {
   "cell_type": "code",
   "execution_count": 102,
   "id": "44fb68e5-c4b4-4ac8-89c7-e8cc5a78f8e1",
   "metadata": {},
   "outputs": [
    {
     "name": "stderr",
     "output_type": "stream",
     "text": [
      "/home/sebacastillo/.neuralnets/lib/python3.9/site-packages/deap/creator.py:138: RuntimeWarning: A class named 'Fitness' has already been created and it will be overwritten. Consider deleting previous creation of that class or rename it.\n",
      "  warnings.warn(\"A class named '{0}' has already been created and it \"\n",
      "/home/sebacastillo/.neuralnets/lib/python3.9/site-packages/deap/creator.py:138: RuntimeWarning: A class named 'Individual' has already been created and it will be overwritten. Consider deleting previous creation of that class or rename it.\n",
      "  warnings.warn(\"A class named '{0}' has already been created and it \"\n"
     ]
    }
   ],
   "source": [
    "# CREAMOS LA FUNCION DE FITNESS\n",
    "# Esta función tiene \"1 OBJETIVO\" a \"MAXIMIZAR\"\n",
    "creator.create(\"Fitness\",  # Nombre con el que se registra el componente\n",
    "               base.Fitness,  # Clase de la que hereda\n",
    "               weights=(1.0,)) \n",
    "\n",
    "#---------------------\n",
    "\n",
    "# CREAMOS EL CONSTRUCTOR DE INDIVIDUOS\n",
    "creator.create(\"Individual\", # Nombre con el que se registra el componente\n",
    "               list,  # Clase de la que hereda [Tipo de contenedor en este caso]\n",
    "               fitness=creator.Fitness,\n",
    "               acc=0,\n",
    "               ngenes=0)  # Asignamos un método para evaluar el fitness del individuo"
   ]
  },
  {
   "attachments": {},
   "cell_type": "markdown",
   "id": "62fbdaa2-6ddc-4424-a0d9-4132069ff231",
   "metadata": {},
   "source": [
    "## REGISTRAMOS COMPONENTES"
   ]
  },
  {
   "cell_type": "code",
   "execution_count": 103,
   "id": "093e8901-ebf8-4bf0-b286-ab04571f5a55",
   "metadata": {},
   "outputs": [],
   "source": [
    "toolbox = base.Toolbox()\n",
    "\n",
    "#---------------------\n",
    "\n",
    "# DEFINIMOS COMO CONSTRUIR UN GEN\n",
    "# el algoritmo retenie la historia de fitnes de genes activos, contribuyendo !!!IMPORTANTE\n",
    "# a la selección de las variables que contribuyen a mejorar el fitness\n",
    "toolbox.register(\"attribute\",  # Nombre con el que se registra el componente\n",
    "                 bin,\n",
    "                 p=1)\n",
    "                        # Probabilidad de un \"1\":   exp1:0.1 =ELITE -- Fitness: 0.9513 -- NGENES: 694 -- Acc: 1.0\n",
    "                        #                           exp2:0.2 =ELITE -- Fitness: 0.8885 -- NGENES: 1380 -- Acc: 0.9706\n",
    "                        #                           exp3:0.05=ELITE -- Fitness: 0.9595 -- NGENES: 368 -- Acc: 0.9706\n",
    "                     #                              exp5:0.05 + 20/caracteristicas mutacion: ELITE -- Fitness: 0.9757 -- NGENES: 346 -- Acc: 1.0\n",
    "#---------------------\n",
    "\n",
    "# DEFINIMOS COMO CONSTRUIR UN INDIVIDUO/CROMOSOMA\n",
    "toolbox.register(\"individual\",  # Nombre con el que se registra el componente\n",
    "                 tools.initRepeat,  # Método usado para construir el cromosoma\n",
    "                 creator.Individual,  # ...\n",
    "                 toolbox.attribute,  # Función para construir cada gen\n",
    "                 n=IND_SIZE)  # Número de genes del cromosoma/individuo (se repetirá la función construir gen)\n",
    "\n",
    "#---------------------\n",
    "\n",
    "# DEFINIMOS COMO CONSTRUIR LA POBLACION\n",
    "toolbox.register(\"population\",  # Nombre con el que se registra el componente\n",
    "                 tools.initRepeat,  # Método usado para construir el cromosoma\n",
    "                 list,\n",
    "                 toolbox.individual)\n",
    "\n",
    "#---------------------\n",
    "\n",
    "# DEFINIMOS COMO REALIZAR LA CRUZA\n",
    "toolbox.register(\"mate\",  # Nombre con el que se registra el componente\n",
    "                 tools.cxTwoPoint)  # \n",
    "\n",
    "#---------------------\n",
    "\n",
    "# DEFINIMOS COMO REALIZAR LA MUTACION\n",
    "toolbox.register(\"mutate\",  # Nombre con el que se registra el componente\n",
    "                 mutation,  # Método de mutación (definido como función más arriba)\n",
    "                 p=PM)  # Parámetro que usa la mutación\n",
    "\n",
    "#toolbox.register(\"mutate\", tools.mutFlipBit, indpb=0.05)\n",
    "#toolbox.register(\"mutate\", tools.mutGaussian, mu=0, sigma=1, indpb=0.2)\n",
    "\n",
    "#---------------------\n",
    "\n",
    "# DEFINIMOS COMO REALIZAR LA SELECCION DE INDIVIDUOS\n",
    "toolbox.register(\"select\",  # Nombre con el que se registra el componente\n",
    "                 tools.selTournament,  # Método usado para selección [selRoulette | selTournament | ...]\n",
    "                 tournsize=5)  # Parámetro que usa el torneo"
   ]
  },
  {
   "attachments": {},
   "cell_type": "markdown",
   "id": "2cec6c90-35ca-4c0e-bd51-1342ed75fd99",
   "metadata": {},
   "source": [
    "## Definimos las estadísticas a calcular"
   ]
  },
  {
   "cell_type": "code",
   "execution_count": 104,
   "id": "1258a42b-47b6-4757-92e6-d83b49f08e66",
   "metadata": {},
   "outputs": [],
   "source": [
    "# EXTRAEMOS EL FITNESS DE TODOS LOS INDIVIDUOS\n",
    "stats_fit = tools.Statistics(key=lambda ind: ind.fitness.values[0])\n",
    "\n",
    "# EXTRAEMOS EL ACC DE TODOS LOS INDIVIDUOS\n",
    "stats_acc = tools.Statistics(key=lambda ind: ind.acc)\n",
    "\n",
    "# EXTRAEMOS LA FRACCION DE GENES ACTIVOS DE TODOS LOS INDIVIDUOS\n",
    "stats_frac_active_genes = tools.Statistics(key=lambda ind: ind.ngenes)\n",
    "\n",
    "# EXTRAEMOS EL NUMERO DE GENES ACTIVOS DE TODOS LOS INDIVIDUOS\n",
    "stats_active_genes = tools.Statistics(key=lambda ind: np.sum(ind))\n",
    "\n",
    "mstats = tools.MultiStatistics(fitness=stats_fit,\n",
    "                               acc=stats_acc,\n",
    "                               frac_ngenes=stats_frac_active_genes,\n",
    "                               ngenes=stats_active_genes)\n",
    "\n",
    "mstats.register(\"avg\", np.mean)\n",
    "mstats.register(\"std\", np.std)\n",
    "mstats.register(\"min\", np.min)\n",
    "mstats.register(\"max\", np.max)\n",
    "\n",
    "# INICIALIZAMOS UN LOGGER\n",
    "logbook = tools.Logbook()"
   ]
  },
  {
   "attachments": {},
   "cell_type": "markdown",
   "id": "aedc21a0-2f3c-4901-ae47-49a0c5551875",
   "metadata": {},
   "source": [
    "# Corremos el modelo con todas las features"
   ]
  },
  {
   "cell_type": "code",
   "execution_count": 105,
   "id": "cfcee139-df38-4855-a401-4124546166aa",
   "metadata": {},
   "outputs": [
    {
     "name": "stdout",
     "output_type": "stream",
     "text": [
      "FITNESS: 0.5 -- NGENES: 4 -- Acc: 1.0\n",
      "\n"
     ]
    }
   ],
   "source": [
    "f = fitness(np.ones(Xtrain.shape[1]), Xtrain, Xtest, y_train, y_test)\n",
    "\n",
    "print(f'FITNESS: {f[0]:.4} -- NGENES: {int(Xtrain.shape[1])} -- Acc: {f[1]:.4}\\n')"
   ]
  },
  {
   "cell_type": "code",
   "execution_count": 107,
   "id": "5b34a023-fdd4-441b-95e1-aef005c2ea91",
   "metadata": {
    "scrolled": true
   },
   "outputs": [
    {
     "ename": "AssertionError",
     "evalue": "Assigned values have not the same length than fitness weights",
     "output_type": "error",
     "traceback": [
      "\u001b[0;31m---------------------------------------------------------------------------\u001b[0m",
      "\u001b[0;31mAssertionError\u001b[0m                            Traceback (most recent call last)",
      "Cell \u001b[0;32mIn[107], line 19\u001b[0m\n\u001b[1;32m     13\u001b[0m \u001b[39m#================================================\u001b[39;00m\n\u001b[1;32m     14\u001b[0m \n\u001b[1;32m     15\u001b[0m \u001b[39m#================================================\u001b[39;00m\n\u001b[1;32m     16\u001b[0m \u001b[39m# ASIGNAMOS A CADA INDIVIDUO SU FITNESS\u001b[39;00m\n\u001b[1;32m     17\u001b[0m \u001b[39m#========================================\u001b[39;00m\n\u001b[1;32m     18\u001b[0m \u001b[39mfor\u001b[39;00m ind,fit \u001b[39min\u001b[39;00m \u001b[39mzip\u001b[39m(pop, fitnesses):\n\u001b[0;32m---> 19\u001b[0m     ind\u001b[39m.\u001b[39;49mfitness\u001b[39m.\u001b[39;49mvalues \u001b[39m=\u001b[39m fit  \u001b[39m# Guardamos el fitness para cada individuo (en el individuo)\u001b[39;00m\n\u001b[1;32m     20\u001b[0m     ind\u001b[39m.\u001b[39macc \u001b[39m=\u001b[39m fit[\u001b[39m1\u001b[39m]\n\u001b[1;32m     21\u001b[0m     ind\u001b[39m.\u001b[39mngenes \u001b[39m=\u001b[39m fit[\u001b[39m2\u001b[39m]\n",
      "File \u001b[0;32m~/.neuralnets/lib/python3.9/site-packages/deap/base.py:188\u001b[0m, in \u001b[0;36mFitness.setValues\u001b[0;34m(self, values)\u001b[0m\n\u001b[1;32m    187\u001b[0m \u001b[39mdef\u001b[39;00m \u001b[39msetValues\u001b[39m(\u001b[39mself\u001b[39m, values):\n\u001b[0;32m--> 188\u001b[0m     \u001b[39massert\u001b[39;00m \u001b[39mlen\u001b[39m(values) \u001b[39m==\u001b[39m \u001b[39mlen\u001b[39m(\u001b[39mself\u001b[39m\u001b[39m.\u001b[39mweights), \u001b[39m\"\u001b[39m\u001b[39mAssigned values have not the same length than fitness weights\u001b[39m\u001b[39m\"\u001b[39m\n\u001b[1;32m    189\u001b[0m     \u001b[39mtry\u001b[39;00m:\n\u001b[1;32m    190\u001b[0m         \u001b[39mself\u001b[39m\u001b[39m.\u001b[39mwvalues \u001b[39m=\u001b[39m \u001b[39mtuple\u001b[39m(\u001b[39mmap\u001b[39m(mul, values, \u001b[39mself\u001b[39m\u001b[39m.\u001b[39mweights))\n",
      "\u001b[0;31mAssertionError\u001b[0m: Assigned values have not the same length than fitness weights"
     ]
    }
   ],
   "source": [
    "#================================================\n",
    "# INICIALIZAMOS LA POBLACIÓN\n",
    "#================================================\n",
    "pop = toolbox.population(n=POP_SIZE)  # Inicializamos una población\n",
    "#================================================\n",
    "\n",
    "\n",
    "#================================================\n",
    "# EVALUAMOS EL FITNESS DE LA POBLACION\n",
    "#======================================\n",
    "#fitnesses = list(map(toolbox.evaluate, pop))\n",
    "fitnesses = Parallel(n_jobs=4, backend='multiprocessing')(delayed(fitness)(ind, Xtrain, Xtest, y_train, y_test) for ind in pop)\n",
    "#================================================\n",
    "\n",
    "#================================================\n",
    "# ASIGNAMOS A CADA INDIVIDUO SU FITNESS\n",
    "#========================================\n",
    "for ind,fit in zip(pop, fitnesses):\n",
    "    ind.fitness.values = fit  # Guardamos el fitness para cada individuo (en el individuo)\n",
    "    ind.acc = fit[1]\n",
    "    ind.ngenes = fit[2]\n",
    "#================================================\n",
    "\n",
    "records = mstats.compile(pop)\n",
    "logbook.record(gen=0, **records)"
   ]
  },
  {
   "cell_type": "code",
   "execution_count": 108,
   "id": "31952a0b-791f-42e2-8cf8-689aa95d267c",
   "metadata": {},
   "outputs": [
    {
     "ename": "AttributeError",
     "evalue": "acc",
     "output_type": "error",
     "traceback": [
      "\u001b[0;31m---------------------------------------------------------------------------\u001b[0m",
      "\u001b[0;31mAttributeError\u001b[0m                            Traceback (most recent call last)",
      "Cell \u001b[0;32mIn[108], line 12\u001b[0m\n\u001b[1;32m     10\u001b[0m idx_elite \u001b[39m=\u001b[39m np\u001b[39m.\u001b[39margmax(fitnesses, axis\u001b[39m=\u001b[39m\u001b[39m0\u001b[39m)[\u001b[39m0\u001b[39m]  \u001b[39m# Si maximizamos, hay que usar \".argmax()\". El indiv. con mejor fitness\u001b[39;00m\n\u001b[1;32m     11\u001b[0m elite \u001b[39m=\u001b[39m toolbox\u001b[39m.\u001b[39mclone(pop[idx_elite])\n\u001b[0;32m---> 12\u001b[0m \u001b[39mdel\u001b[39;00m elite\u001b[39m.\u001b[39mfitness\u001b[39m.\u001b[39mvalues, elite\u001b[39m.\u001b[39macc, elite\u001b[39m.\u001b[39mngenes\n\u001b[1;32m     13\u001b[0m \u001b[39m#================================================\u001b[39;00m\n\u001b[1;32m     14\u001b[0m \n\u001b[1;32m     15\u001b[0m \n\u001b[0;32m   (...)\u001b[0m\n\u001b[1;32m     19\u001b[0m \u001b[39m#offspring = toolbox.select(pop, POP_SIZE)  # Seleccionamos individuos para alcanzar\u001b[39;00m\n\u001b[1;32m     20\u001b[0m                                            \u001b[39m# el tamaño de la población\u001b[39;00m\n\u001b[1;32m     22\u001b[0m offspring \u001b[39m=\u001b[39m \u001b[39mlist\u001b[39m(\u001b[39mmap\u001b[39m(toolbox\u001b[39m.\u001b[39mclone, pop))  \u001b[39m# Clonamos para tener nuevos individuos\u001b[39;00m\n",
      "\u001b[0;31mAttributeError\u001b[0m: acc"
     ]
    }
   ],
   "source": [
    "#################################################################################\n",
    "# COMENZAMOS LA EVOLUCION\n",
    "################################\n",
    "\n",
    "for g in range(1,GMAX):#tqdm(range(GMAX)):\n",
    "\n",
    "    #================================================\n",
    "    # SELECCIONAMOS INDIVIDUO ELITE\n",
    "    #================================\n",
    "    idx_elite = np.argmax(fitnesses, axis=0)[0]  # Si maximizamos, hay que usar \".argmax()\". El indiv. con mejor fitness\n",
    "    elite = toolbox.clone(pop[idx_elite])\n",
    "    del elite.fitness.values, elite.acc, elite.ngenes\n",
    "    #================================================\n",
    "\n",
    "    \n",
    "    #================================================\n",
    "    # HACEMOS UNA COPIA DE LA POBLACION ACTUAL\n",
    "    #==========================================\n",
    "    #offspring = toolbox.select(pop, POP_SIZE)  # Seleccionamos individuos para alcanzar\n",
    "                                               # el tamaño de la población\n",
    "    \n",
    "    offspring = list(map(toolbox.clone, pop))  # Clonamos para tener nuevos individuos\n",
    "                                                     # (contenedores independientes)\n",
    "    #================================================\n",
    "\n",
    "\n",
    "    #================================================\n",
    "    # REALIZAMOS LA CRUZA DE LOS PADRES\n",
    "    #====================================\n",
    "    for child1, child2 in zip(offspring[::2], offspring[1::2]):\n",
    "        if random.random() < PX:\n",
    "            toolbox.mate(child1, child2)\n",
    "            del child1.fitness.values, child1.acc, child1.ngenes\n",
    "            del child2.fitness.values, child2.acc, child2.ngenes\n",
    "    #================================================\n",
    "\n",
    "\n",
    "    #================================================\n",
    "    # MUTAMOS LOS HIJOS\n",
    "    #=================================\n",
    "    for mutant in offspring:\n",
    "        toolbox.mutate(mutant)\n",
    "        del mutant.fitness.values  #, mutant.acc, mutant.ngenes\n",
    "    #================================================\n",
    "    \n",
    "    \n",
    "    #================================================\n",
    "    # EVALUAMOS EL FITNESS\n",
    "    # Y SE LO ASIGNAMOS A CADA INDIVIDUO\n",
    "    #======================================\n",
    "    offspring[0] = elite\n",
    "    \n",
    "    fitnesses = Parallel(n_jobs=4, backend='multiprocessing')(delayed(fitness)(ind, Xtrain, Xtest, y_train, y_test) for ind in offspring)\n",
    "\n",
    "    for ind, fit in zip(offspring, fitnesses):\n",
    "        ind.fitness.values = (fit[0],)  # Guardamos el fitness para cada individuo (en el individuo)\n",
    "        ind.acc = fit[1]\n",
    "        ind.ngenes = fit[2]\n",
    "    #================================================\n",
    "\n",
    "    \n",
    "    #================================================\n",
    "    # CONSTRUIMOS LA NUEVA POBLACION\n",
    "    #================================\n",
    "    pop = toolbox.clone(offspring)\n",
    "    #================================================\n",
    "\n",
    "    \n",
    "    #================================================\n",
    "    # CALCULAMOS ESTADÏSTICAS\n",
    "    #============================\n",
    "    records = mstats.compile(pop)\n",
    "    logbook.record(gen=g, **records)\n",
    "\n",
    "    if (g%1 == 0):\n",
    "        print('='*79)\n",
    "        print(f'GENERATION: {g}')\n",
    "        print(f'ELITE -- Fitness: {elite.fitness.values[0]:.4} -- NGENES: {np.sum(elite)} -- Acc: {elite.acc:.4}')\n",
    "        print('FITNES: ', records['fitness'])\n",
    "        print('ACC: ', records['acc'])\n",
    "        print('GENES: ', records['ngenes'])\n",
    "    #================================================"
   ]
  },
  {
   "attachments": {},
   "cell_type": "markdown",
   "id": "5637fdcb-3b3d-448f-84a3-adddb25d5691",
   "metadata": {},
   "source": [
    "## Graficamos la evolución del fitness"
   ]
  },
  {
   "cell_type": "code",
   "execution_count": 15,
   "id": "d47dc5fa-475c-4c79-8b6b-99d0387ac648",
   "metadata": {},
   "outputs": [
    {
     "data": {
      "image/png": "[encoded data removed]",
      "text/plain": [
       "<Figure size 2000x600 with 1 Axes>"
      ]
     },
     "metadata": {},
     "output_type": "display_data"
    }
   ],
   "source": [
    "f_avg = logbook.chapters['fitness'].select('avg')  # Extraemos fitness promedio a lo largo de las épocas\n",
    "f_max = logbook.chapters['fitness'].select('max')  # Extraemos fitness máximo a lo largo de las épocas\n",
    "f_min = logbook.chapters['fitness'].select('min')  # Extraemos fitness mínimo a lo largo de las épocas\n",
    "\n",
    "N = 30 if GMAX > 200 else GMAX \n",
    "fig, ax = plt.subplots(1, 1, figsize=(20,6)) \n",
    "ax.plot(range(N), f_avg[:N], '-or')\n",
    "ax.plot(range(N), f_max[:N], '-og')\n",
    "ax.plot(range(N), f_min[:N], '-ob')\n",
    "ax.set_xlabel('Generaciones', fontsize=16)\n",
    "ax.set_ylabel('Fitness', fontsize=16)\n",
    "ax.grid(True)"
   ]
  },
  {
   "attachments": {},
   "cell_type": "markdown",
   "id": "a7a78aa9-200a-43f1-983c-32da2156a574",
   "metadata": {},
   "source": [
    "## Graficamos la evolución del accuracy"
   ]
  },
  {
   "cell_type": "code",
   "execution_count": 16,
   "id": "2fca4397-58eb-44c9-97e2-6eaea01c8213",
   "metadata": {},
   "outputs": [
    {
     "data": {
      "image/png": "[encoded data removed]",
      "text/plain": [
       "<Figure size 2000x600 with 1 Axes>"
      ]
     },
     "metadata": {},
     "output_type": "display_data"
    }
   ],
   "source": [
    "f_avg = logbook.chapters['acc'].select('avg')  # Extraemos fitness promedio a lo largo de las épocas\n",
    "f_max = logbook.chapters['acc'].select('max')  # Extraemos fitness máximo a lo largo de las épocas\n",
    "f_min = logbook.chapters['acc'].select('min')  # Extraemos fitness mínimo (elite) a lo largo de las épocas\n",
    "\n",
    "N = 30 if GMAX > 200 else GMAX \n",
    "fig, ax = plt.subplots(1, 1, figsize=(20,6)) \n",
    "ax.plot(range(N), f_avg[:N], '-or')\n",
    "ax.plot(range(N), f_max[:N], '-og')\n",
    "ax.plot(range(N), f_min[:N], '-ob')\n",
    "ax.set_xlabel('Generaciones', fontsize=16)\n",
    "ax.set_ylabel('Accuracy', fontsize=16)\n",
    "ax.grid(True)"
   ]
  },
  {
   "attachments": {},
   "cell_type": "markdown",
   "id": "cbedca2e-4da5-4f11-8f6d-990653eefd3f",
   "metadata": {},
   "source": [
    "## Graficamos la evolución del número de genes"
   ]
  },
  {
   "cell_type": "code",
   "execution_count": 17,
   "id": "a5cf27ea-c07d-4663-95d7-354dcfa98a40",
   "metadata": {},
   "outputs": [
    {
     "data": {
      "image/png": "[encoded data removed]",
      "text/plain": [
       "<Figure size 2000x600 with 1 Axes>"
      ]
     },
     "metadata": {},
     "output_type": "display_data"
    }
   ],
   "source": [
    "ngenes_avg = logbook.chapters['ngenes'].select('avg')  # Extraemos fitness promedio a lo largo de las épocas\n",
    "ngenes_max = logbook.chapters['ngenes'].select('max')  # Extraemos fitness máximo a lo largo de las épocas\n",
    "ngenes_min = logbook.chapters['ngenes'].select('min')  # Extraemos fitness mínimo (elite) a lo largo de las épocas\n",
    "\n",
    "N = 100 if GMAX > 2000 else GMAX \n",
    "fig, ax = plt.subplots(1, 1, figsize=(20,6)) \n",
    "ax.plot(range(N), ngenes_avg[:N], '-or')\n",
    "ax.plot(range(N), ngenes_max[:N], '-og')\n",
    "ax.plot(range(N), ngenes_min[:N], '-ob')\n",
    "ax.set_xlabel('Generaciones', fontsize=16)\n",
    "ax.set_ylabel('Número de genes', fontsize=16)\n",
    "ax.grid(True)"
   ]
  }
 ],
 "metadata": {
  "kernelspec": {
   "display_name": "Python 3 (ipykernel)",
   "language": "python",
   "name": "python3"
  },
  "language_info": {
   "codemirror_mode": {
    "name": "ipython",
    "version": 3
   },
   "file_extension": ".py",
   "mimetype": "text/x-python",
   "name": "python",
   "nbconvert_exporter": "python",
   "pygments_lexer": "ipython3",
   "version": "3.9.13"
  }
 },
 "nbformat": 4,
 "nbformat_minor": 5
}
