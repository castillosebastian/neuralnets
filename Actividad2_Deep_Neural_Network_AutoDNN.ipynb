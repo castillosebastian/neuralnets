{
 "cells": [
  {
   "attachments": {},
   "cell_type": "markdown",
   "metadata": {},
   "source": [
    "# Redes Neuronales"
   ]
  },
  {
   "cell_type": "code",
   "execution_count": 5,
   "metadata": {},
   "outputs": [],
   "source": [
    "from IPython.display import Image\n",
    "import polars as pl\n",
    "import os\n",
    "import sys\n",
    "import numpy as np\n",
    "import seaborn as sns\n",
    "import matplotlib.pyplot as plt\n",
    "device = 'cpu'\n",
    "sys.path.append('/home/sebacastillo/neuralnets/')\n",
    "from src.utils import get_project_root\n",
    "root = get_project_root()"
   ]
  },
  {
   "cell_type": "code",
   "execution_count": 2,
   "metadata": {},
   "outputs": [],
   "source": [
    "OR_problem = False\n",
    "if OR_problem:\n",
    "   df = np.loadtxt(str(root) + '/data/OR.csv',\n",
    "                 delimiter=\",\")\n",
    "else:\n",
    "   df = np.loadtxt(str(root) + '/data/XOR.csv',\n",
    "                 delimiter=\",\")"
   ]
  },
  {
   "attachments": {},
   "cell_type": "markdown",
   "metadata": {},
   "source": [
    "# Bib\n",
    "- https://github.com/automl/Auto-PyTorch\n",
    "- https://pytorch.org/blog/effective-multi-objective-nueral-architecture/ \n",
    "- https://ax.dev/tutorials/tune_cnn.html"
   ]
  },
  {
   "attachments": {},
   "cell_type": "markdown",
   "metadata": {},
   "source": [
    "# First DNN"
   ]
  },
  {
   "cell_type": "code",
   "execution_count": null,
   "metadata": {},
   "outputs": [],
   "source": [
    "params = torch.tensor([1.0, 0.0], requires_grad=True)\n",
    "learning_rate = 1e-2\n",
    "optimizer = optim.SGD([params], lr=learning_rate)\n",
    "\n",
    "\n",
    "\n"
   ]
  },
  {
   "cell_type": "code",
   "execution_count": 1,
   "metadata": {},
   "outputs": [
    {
     "name": "stdout",
     "output_type": "stream",
     "text": [
      "MLP(\n",
      "  (layers): ModuleList(\n",
      "    (0): Linear(in_features=784, out_features=64, bias=True)\n",
      "    (1): Linear(in_features=64, out_features=32, bias=True)\n",
      "    (2): Linear(in_features=32, out_features=10, bias=True)\n",
      "  )\n",
      ")\n"
     ]
    }
   ],
   "source": [
    "import torch\n",
    "import torch.nn as nn\n",
    "import torch.nn.functional as F\n",
    "\n",
    "class MLP(nn.Module):\n",
    "    def __init__(self, input_size, layer_config, output_size):\n",
    "        super(MLP, self).__init__()\n",
    "        \n",
    "        self.layers = nn.ModuleList()\n",
    "        \n",
    "        # Añade la primera capa (capa de entrada)\n",
    "        self.layers.append(nn.Linear(input_size, layer_config[0]))\n",
    "        \n",
    "        # Añade las capas ocultas\n",
    "        for i in range(1, len(layer_config)):\n",
    "            self.layers.append(nn.Linear(layer_config[i-1], layer_config[i]))\n",
    "        \n",
    "        # Añade la capa de salida\n",
    "        self.layers.append(nn.Linear(layer_config[-1], output_size))\n",
    "    \n",
    "    def forward(self, x):\n",
    "        for layer in self.layers[:-1]:\n",
    "            x = F.relu(layer(x))  # Utiliza la función de activación ReLU para las capas de entrada y ocultas\n",
    "        x = self.layers[-1](x)  # No aplicar función de activación en la capa de salida\n",
    "        return x\n",
    "\n",
    "# Ejemplo de uso:\n",
    "# Define la configuración de capas y neuronas en la forma de una lista\n",
    "# Por ejemplo, [64, 32] creará 2 capas ocultas con 64 y 32 neuronas respectivamente\n",
    "layer_config = [64, 32]\n",
    "\n",
    "# Define el tamaño de entrada y salida\n",
    "input_size = 784  # Por ejemplo, para imágenes de MNIST (28x28)\n",
    "output_size = 10  # Por ejemplo, para clasificación de dígitos del 0 al 9\n",
    "\n",
    "# Crea una instancia del perceptrón multicapa\n",
    "model = MLP(input_size, layer_config, output_size)\n",
    "print(model)\n"
   ]
  },
  {
   "attachments": {},
   "cell_type": "markdown",
   "metadata": {},
   "source": [
    "# RandomSearch"
   ]
  },
  {
   "cell_type": "code",
   "execution_count": 10,
   "metadata": {},
   "outputs": [],
   "source": [
    "import random\n",
    "\n",
    "def random_search_mlp(train_loader, test_loader, input_size, output_size, n_iterations, device):\n",
    "    best_model = None\n",
    "    best_accuracy = 0\n",
    "\n",
    "    for i in range(n_iterations):\n",
    "        # Generate random hyperparameters\n",
    "        layer_config = [random.choice([10, 12, 14, 16]) for _ in range(random.choice([1, 2, 3]))]\n",
    "        learning_rate = 10**random.uniform(-4, -1)\n",
    "        batch_size = random.choice([32, 64, 128, 160])\n",
    "        num_epochs = random.choice([10, 20, 30, 50])\n",
    "\n",
    "        print(f\"Trial {i + 1}/{n_iterations}:\")\n",
    "        print(f\"  Layer config: {layer_config}\")\n",
    "        print(f\"  Learning rate: {learning_rate}\")\n",
    "        print(f\"  Batch size: {batch_size}\")\n",
    "        print(f\"  Num epochs: {num_epochs}\")\n",
    "\n",
    "        # Create the model with the current hyperparameters\n",
    "        model = MLP(input_size, layer_config, output_size).to(device)\n",
    "        \n",
    "        # Set the loss function and optimizer\n",
    "        criterion = nn.CrossEntropyLoss()\n",
    "        optimizer = torch.optim.Adam(model.parameters(), lr=learning_rate)\n",
    "\n",
    "        # Train the model\n",
    "        for epoch in range(num_epochs):\n",
    "            for batch_idx, (data, target) in enumerate(train_loader):\n",
    "                data, target = data.to(device), target.to(device)\n",
    "                optimizer.zero_grad()\n",
    "                output = model(data)\n",
    "                loss = criterion(output, target)\n",
    "                loss.backward()\n",
    "                optimizer.step()\n",
    "\n",
    "        # Test the model\n",
    "        correct = 0\n",
    "        total = 0\n",
    "        with torch.no_grad():\n",
    "            for data, target in test_loader:\n",
    "                data, target = data.to(device), target.to(device)\n",
    "                output = model(data)\n",
    "                _, predicted = torch.max(output.data, 1)\n",
    "                total += target.size(0)\n",
    "                correct += (predicted == target).sum().item()\n",
    "\n",
    "        accuracy = correct / total\n",
    "        print(f\"  Accuracy: {accuracy * 100:.2f}%\")\n",
    "\n",
    "        if accuracy > best_accuracy:\n",
    "            best_accuracy = accuracy\n",
    "            best_model = model\n",
    "\n",
    "    return best_model, best_accuracy\n"
   ]
  },
  {
   "attachments": {},
   "cell_type": "markdown",
   "metadata": {},
   "source": [
    "# Bayesian Optimization"
   ]
  },
  {
   "cell_type": "code",
   "execution_count": null,
   "metadata": {},
   "outputs": [],
   "source": [
    "pip install bayesian-optimization\n"
   ]
  },
  {
   "cell_type": "code",
   "execution_count": null,
   "metadata": {},
   "outputs": [],
   "source": [
    "import torch\n",
    "import torch.nn as nn\n",
    "import torch.nn.functional as F\n",
    "\n",
    "# MLP class definition goes here\n",
    "\n",
    "def train_evaluate_mlp(layer_config, learning_rate, batch_size, num_epochs, train_loader, test_loader, device):\n",
    "    layer_config = [int(x) for x in layer_config]\n",
    "    input_size = 784  # For example, for MNIST dataset (28x28)\n",
    "    output_size = 10  # For example, for digit classification (0-9)\n",
    "\n",
    "    model = MLP(input_size, layer_config, output_size).to(device)\n",
    "\n",
    "    criterion = nn.CrossEntropyLoss()\n",
    "    optimizer = torch.optim.Adam(model.parameters(), lr=learning_rate)\n",
    "\n",
    "    # Training the model\n",
    "    for epoch in range(int(num_epochs)):\n",
    "        for batch_idx, (data, target) in enumerate(train_loader):\n",
    "            data, target = data.to(device), target.to(device)\n",
    "            optimizer.zero_grad()\n",
    "            output = model(data)\n",
    "            loss = criterion(output, target)\n",
    "            loss.backward()\n",
    "            optimizer.step()\n",
    "\n",
    "    # Evaluating the model\n",
    "    correct = 0\n",
    "    total = 0\n",
    "    with torch.no_grad():\n",
    "        for data, target in test_loader:\n",
    "            data, target = data.to(device), target.to(device)\n",
    "            output = model(data)\n",
    "            _, predicted = torch.max(output.data, 1)\n",
    "            total += target.size(0)\n",
    "            correct += (predicted == target).sum().item()\n",
    "\n",
    "    accuracy = correct / total\n",
    "    return accuracy\n"
   ]
  },
  {
   "cell_type": "code",
   "execution_count": null,
   "metadata": {},
   "outputs": [],
   "source": [
    "from bayes_opt import BayesianOptimization\n",
    "import numpy as np\n",
    "\n",
    "# Load your train and test datasets here\n",
    "train_loader = ...\n",
    "test_loader = ...\n",
    "\n",
    "device = torch.device('cuda' if torch.cuda.is_available() else 'cpu')\n",
    "\n",
    "def optimize_mlp(n_iter, init_points, train_loader, test_loader, device):\n",
    "    def objective_function(layer1, layer2, layer3, learning_rate, batch_size, num_epochs):\n",
    "        layer_config = [layer1, layer2, layer3]\n",
    "        layer_config = [int(x) for x in layer_config if x >= 1]  # Remove any layers with size < 1\n",
    "        return train_evaluate_mlp(layer_config, 10**learning_rate, int(batch_size), int(num_epochs), train_loader, test_loader, device)\n",
    "\n",
    "    pbounds = {'layer1': (16, 512),\n",
    "               'layer2': (0, 512),\n",
    "               'layer3': (0, 512),\n",
    "               'learning_rate': (-4, -1),\n",
    "               'batch_size': (16, 256),\n",
    "               'num_epochs': (10, 100)}\n",
    "\n",
    "    optimizer = BayesianOptimization(\n",
    "        f=objective_function,\n",
    "        pbounds=pbounds,\n",
    "        random_state=42,\n",
    "    )\n",
    "\n",
    "    optimizer.maximize(init_points=init_points, n_iter=n_iter)\n",
    "\n",
    "    print(\"Best hyperparameters found:\")\n",
    "    print(optimizer.max)\n",
    "\n",
    "optimize_mlp(n_iter=10, init_points=2, train_loader=train_loader, test_loader=test_loader, device=device)\n"
   ]
  },
  {
   "cell_type": "code",
   "execution_count": 13,
   "metadata": {},
   "outputs": [],
   "source": [
    "import torch\n",
    "from torchvision import datasets, transforms\n",
    "\n",
    "def get_mnist_data_loaders(batch_size):\n",
    "    transform = transforms.Compose([\n",
    "        transforms.ToTensor(),\n",
    "        transforms.Normalize((0.1307,), (0.3081,))\n",
    "    ])\n",
    "\n",
    "    train_dataset = datasets.MNIST('./data', train=True, download=True, transform=transform)\n",
    "    test_dataset = datasets.MNIST('./data', train=False, transform=transform)\n",
    "\n",
    "    train_loader = torch.utils.data.DataLoader(train_dataset, batch_size=batch_size, shuffle=True)\n",
    "    test_loader = torch.utils.data.DataLoader(test_dataset, batch_size=batch_size, shuffle=False)\n",
    "\n",
    "    return train_loader, test_loader\n"
   ]
  },
  {
   "cell_type": "code",
   "execution_count": null,
   "metadata": {},
   "outputs": [],
   "source": [
    "# Load the dataset with a temporary batch_size (will be optimized later)\n",
    "train_loader, test_loader = get_mnist_data_loaders(batch_size=100)\n",
    "\n",
    "# Use the random_search_mlp function to find the best model and its accuracy\n",
    "best_model_random, best_accuracy_random = random_search_mlp(train_loader, test_loader, input_size=784, output_size=10, n_iterations=10, device=device)\n",
    "\n",
    "print(f\"Best model found with Random Search: {best_model_random}\")\n",
    "print(f\"Best accuracy with Random Search: {best_accuracy_random * 100:.2f}%\")\n"
   ]
  },
  {
   "cell_type": "code",
   "execution_count": null,
   "metadata": {},
   "outputs": [],
   "source": [
    "# Use the optimize_mlp function to find the best hyperparameters\n",
    "optimize_mlp(n_iter=10, init_points=2, train_loader=train_loader, test_loader=test_loader, device=device)\n"
   ]
  },
  {
   "cell_type": "code",
   "execution_count": null,
   "metadata": {},
   "outputs": [],
   "source": [
    "import matplotlib.pyplot as plt\n",
    "\n",
    "# Assuming we have run both random_search_mlp and optimize_mlp, and have the best_model_random and best_accuracy_random variables available\n",
    "batch_size = 100\n",
    "_, test_loader = get_mnist_data_loaders(batch_size)\n",
    "\n",
    "with torch.no_grad():\n",
    "    correct = 0\n",
    "    total = 0\n",
    "    for data, target in test_loader:\n",
    "        data, target = data.to(device), target.to(device)\n",
    "        output = best_model_random(data)\n",
    "        _, predicted = torch.max(output.data, 1)\n",
    "        total += target.size(0)\n",
    "        correct += (predicted == target).sum().item()\n",
    "\n",
    "    accuracy = correct / total\n",
    "\n",
    "    fig, ax = plt.subplots()\n",
    "    ax.bar(['Random Search'], [accuracy * 100])\n",
    "    ax.set_ylim([0, 100])\n",
    "    ax.set_ylabel('Accuracy (%)')\n",
    "    plt.show()\n"
   ]
  }
 ],
 "metadata": {
  "kernelspec": {
   "display_name": ".neuralnets",
   "language": "python",
   "name": "python3"
  },
  "language_info": {
   "codemirror_mode": {
    "name": "ipython",
    "version": 3
   },
   "file_extension": ".py",
   "mimetype": "text/x-python",
   "name": "python",
   "nbconvert_exporter": "python",
   "pygments_lexer": "ipython3",
   "version": "3.9.13"
  },
  "orig_nbformat": 4
 },
 "nbformat": 4,
 "nbformat_minor": 2
}
