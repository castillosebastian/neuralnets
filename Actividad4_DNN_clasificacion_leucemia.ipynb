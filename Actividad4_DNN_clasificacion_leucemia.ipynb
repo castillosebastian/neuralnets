{
 "cells": [
  {
   "attachments": {},
   "cell_type": "markdown",
   "id": "14bdfc16-bd96-4d61-bd25-dfe041304734",
   "metadata": {
    "id": "14bdfc16-bd96-4d61-bd25-dfe041304734",
    "jp-MarkdownHeadingCollapsed": true,
    "tags": []
   },
   "source": [
    "# CARGA DE LIBRERIAS"
   ]
  },
  {
   "cell_type": "code",
   "execution_count": 1,
   "id": "8e3f748c-3008-42c6-9052-f20045f074b0",
   "metadata": {
    "executionInfo": {
     "elapsed": 1761,
     "status": "ok",
     "timestamp": 1683137396792,
     "user": {
      "displayName": "Matias Gerard",
      "userId": "14742050363958170468"
     },
     "user_tz": 180
    },
    "id": "8e3f748c-3008-42c6-9052-f20045f074b0",
    "jupyter": {
     "source_hidden": true
    }
   },
   "outputs": [],
   "source": [
    "import numpy as np\n",
    "import matplotlib.pyplot as plt\n",
    "import pandas as pd\n",
    "from copy import deepcopy\n",
    "import sys\n",
    "import torch\n",
    "from torch import nn  # Modelos neuronales y funciones de Loss\n",
    "\n",
    "from torch import optim # (3er paso BACKPROPAGATION) Optimizadores ---> Gradiente descendiente, Adam, AdaDelta, etc\n",
    "from torch.utils.data import Dataset, DataLoader\n",
    "\n",
    "device = torch.device(\"cuda:0\" if torch.cuda.is_available() else \"cpu\")  # Elige el dispositivo. Utilizará GPU si está disponible"
   ]
  },
  {
   "attachments": {},
   "cell_type": "markdown",
   "id": "9d0ba14b-e9d8-47c6-8ca2-716a5648aad4",
   "metadata": {
    "id": "9d0ba14b-e9d8-47c6-8ca2-716a5648aad4",
    "jp-MarkdownHeadingCollapsed": true,
    "tags": []
   },
   "source": [
    "# CONSTRUCCION DEL DATASET"
   ]
  },
  {
   "cell_type": "code",
   "execution_count": 2,
   "id": "82855b1b-0d03-46c0-b577-b30284903515",
   "metadata": {
    "executionInfo": {
     "elapsed": 1090,
     "status": "ok",
     "timestamp": 1683137397879,
     "user": {
      "displayName": "Matias Gerard",
      "userId": "14742050363958170468"
     },
     "user_tz": 180
    },
    "id": "82855b1b-0d03-46c0-b577-b30284903515",
    "jupyter": {
     "source_hidden": true
    }
   },
   "outputs": [],
   "source": [
    "class DATASET(Dataset):  # <----------------\n",
    "    '''\n",
    "    Esta clase maneja la lectura de los datos y provee un mecanismo\n",
    "    para alimentar los modelos con los patrones.\n",
    "    '''\n",
    "    \n",
    "    #===================================================\n",
    "    def __init__(self, filename):\n",
    "        \n",
    "        #------------------------------------\n",
    "        # LECTURA DE LOS DATOS\n",
    "        data = pd.read_csv(filename, header=None).to_numpy() # Levanta los datos en formato numpy\n",
    "        \n",
    "        #------------------------------------\n",
    "        # INSERTAMOS COLUMNA DEL \"BIAS\"\n",
    "        #bias = -np.ones((len(data), 1))\n",
    "        #data = np.concatenate((bias, data), axis=1)  # Insertamos el \"bias\" en la primera columna\n",
    "        \n",
    "        #------------------------------------\n",
    "        # ALEATORIZO LOS PATRONES (filas)\n",
    "        idxs = np.arange(len(data))  # Genero un vector de índices\n",
    "        np.random.shuffle(idxs)\n",
    "        data = data[idxs,:]\n",
    "        \n",
    "        #------------------------------------\n",
    "        # SEPARO LOS DATOS\n",
    "        self.x = data[:,:-1].astype(np.float32)\n",
    "        self.y = data[:,-1]  # La clase está en la última columna\n",
    "        self.y = np.where(np.array(self.y) == 2, 1, 0).astype('int64')\n",
    "    \n",
    "    #===================================================\n",
    "    def __len__(self):\n",
    "        '''\n",
    "        Devuelve el número de patrones en el dataset.\n",
    "        '''\n",
    "        return len(self.x)\n",
    "    \n",
    "    \n",
    "    #===================================================\n",
    "    def __getitem__(self, idx):\n",
    "        '''\n",
    "        Devuelve el/los patrones indicados.\n",
    "        '''\n",
    "        return self.x[idx,:], self.y[idx]"
   ]
  },
  {
   "attachments": {},
   "cell_type": "markdown",
   "id": "8e258bf4-a9a2-4e37-b967-be80cfb97bd1",
   "metadata": {
    "id": "8e258bf4-a9a2-4e37-b967-be80cfb97bd1",
    "jp-MarkdownHeadingCollapsed": true,
    "tags": []
   },
   "source": [
    "# CONSTRUCCION DEL MODELO"
   ]
  },
  {
   "attachments": {},
   "cell_type": "markdown",
   "id": "005168df-89e6-4127-ad13-c16b23b84826",
   "metadata": {
    "id": "005168df-89e6-4127-ad13-c16b23b84826"
   },
   "source": [
    "## PERCEPTRON SIMPLE"
   ]
  },
  {
   "cell_type": "code",
   "execution_count": 3,
   "id": "9a5fe2a2-ed88-44a0-aa31-76924a899133",
   "metadata": {
    "executionInfo": {
     "elapsed": 4,
     "status": "ok",
     "timestamp": 1683137397880,
     "user": {
      "displayName": "Matias Gerard",
      "userId": "14742050363958170468"
     },
     "user_tz": 180
    },
    "id": "9a5fe2a2-ed88-44a0-aa31-76924a899133",
    "jupyter": {
     "source_hidden": true
    }
   },
   "outputs": [],
   "source": [
    "class PERCEPTRON(nn.Module):  # <----------------------------\n",
    "\n",
    "    #====================================\n",
    "    def __init__(self, n_features, n_outputs):\n",
    "        '''\n",
    "        Esta función inicializa/construye el perceptrón.\n",
    "        n_features: features de cada patrón (2 para OR y XOR)\n",
    "        n_outputs: cantidad de salidas esperadas.\n",
    "        '''\n",
    "        \n",
    "        super().__init__()\n",
    "        \n",
    "        self.fc1 = nn.Linear(n_features, 128)\n",
    "        self.fc2 = nn.Linear(128, 64)\n",
    "        self.fc3 = nn.Linear(64,n_outputs)\n",
    "\n",
    "    #====================================\n",
    "    def forward(self, x):\n",
    "        '''\n",
    "        Esta función realiza la pasada hacia adelante.\n",
    "        '''        \n",
    "        x = torch.relu(self.fc1(x))\n",
    "        x = torch.relu(self.fc2(x))\n",
    "        x = self.fc3(x)\n",
    "        return x\n",
    "\n",
    "\n",
    "    #===================================="
   ]
  },
  {
   "attachments": {},
   "cell_type": "markdown",
   "id": "8485ea4c-eb90-4631-aaa7-f0644433b0c4",
   "metadata": {
    "id": "8485ea4c-eb90-4631-aaa7-f0644433b0c4",
    "jp-MarkdownHeadingCollapsed": true,
    "tags": []
   },
   "source": [
    "# LOOPS"
   ]
  },
  {
   "attachments": {},
   "cell_type": "markdown",
   "id": "0d3f8e61-1a63-4b42-a417-60205e3368a4",
   "metadata": {
    "id": "0d3f8e61-1a63-4b42-a417-60205e3368a4"
   },
   "source": [
    "## ENTRENAMIENTO"
   ]
  },
  {
   "cell_type": "code",
   "execution_count": 4,
   "id": "afa767ee-273e-4e79-b944-0e54b1e48830",
   "metadata": {
    "executionInfo": {
     "elapsed": 4,
     "status": "ok",
     "timestamp": 1683137397880,
     "user": {
      "displayName": "Matias Gerard",
      "userId": "14742050363958170468"
     },
     "user_tz": 180
    },
    "id": "afa767ee-273e-4e79-b944-0e54b1e48830",
    "jupyter": {
     "source_hidden": true
    }
   },
   "outputs": [],
   "source": [
    "def train_step(model, data, loss_function, optimizer, device):\n",
    "    \n",
    "    model.train()  # Calcula gradientes\n",
    "    \n",
    "    N_batches = len(data)  # Número de batches = N_patrones/N_patrones_x_batch\n",
    "    \n",
    "    error = 0\n",
    "    \n",
    "    #==============================================================\n",
    "    for idx,(X,y) in enumerate(data):\n",
    "\n",
    "        #-----------------------------------------------------\n",
    "        # Convierto los datos en tensores diferenciables\n",
    "        #-----------------------------------------------------\n",
    "        X = X.to(device)\n",
    "        y = y.to(device)\n",
    "\n",
    "        optimizer.zero_grad()  # Se limpia el caché del optimizador\n",
    "        \n",
    "        #----------------\n",
    "        # Forward pass\n",
    "        #----------------\n",
    "        y_pred = model(X)\n",
    "\n",
    "        #----------------\n",
    "        # Compute Loss\n",
    "        #----------------\n",
    "        if (data.batch_size == 1):\n",
    "            loss = loss_function(y_pred.squeeze(), y.squeeze())\n",
    "        else:\n",
    "            loss = loss_function(y_pred.squeeze(), y)\n",
    "        \n",
    "        error += loss.item()\n",
    "        \n",
    "        #----------------\n",
    "        # Backward pass\n",
    "        #----------------\n",
    "        loss.backward()\n",
    "        optimizer.step()\n",
    "    #==============================================================\n",
    "    \n",
    "    error /= N_batches\n",
    "    \n",
    "    return error, model"
   ]
  },
  {
   "attachments": {},
   "cell_type": "markdown",
   "id": "77c55181-cbbb-459d-bdf7-38458fcecd56",
   "metadata": {
    "id": "77c55181-cbbb-459d-bdf7-38458fcecd56"
   },
   "source": [
    "## VALIDACION / TEST"
   ]
  },
  {
   "cell_type": "code",
   "execution_count": 5,
   "id": "cb54b03c-0418-4a6f-8739-718dca662380",
   "metadata": {
    "executionInfo": {
     "elapsed": 3,
     "status": "ok",
     "timestamp": 1683137397880,
     "user": {
      "displayName": "Matias Gerard",
      "userId": "14742050363958170468"
     },
     "user_tz": 180
    },
    "id": "cb54b03c-0418-4a6f-8739-718dca662380",
    "jupyter": {
     "source_hidden": true
    }
   },
   "outputs": [],
   "source": [
    "def predict_step(model, data, loss_function, device):\n",
    "    \n",
    "    model.eval()  # Turn off Dropouts Layers, BatchNorm Layers etc\n",
    "    \n",
    "    N_batches = len(data)  # Número de batches = N_patrones/N_patrones_x_batch\n",
    "    \n",
    "    error = 0\n",
    "    \n",
    "    Y = torch.tensor([])\n",
    "    Yp = torch.tensor([])\n",
    "    \n",
    "    #==============================================================\n",
    "    with torch.no_grad():  # Turn off gradients computation\n",
    "        \n",
    "        for idx,(X,y) in enumerate(data):\n",
    "\n",
    "            Y = torch.hstack( (Y, y.flatten()) )\n",
    "\n",
    "            #-----------------------------------------------------\n",
    "            # Convierto los datos en tensores diferenciables\n",
    "            #-----------------------------------------------------\n",
    "            X = X.to(device)\n",
    "            y = y.to(device)\n",
    "\n",
    "            #----------------\n",
    "            # Forward pass\n",
    "            #----------------\n",
    "            y_pred = model(X)\n",
    "            \n",
    "            Yp = torch.hstack( (Yp, y_pred.flatten().cpu()) )\n",
    "\n",
    "            #----------------\n",
    "            # Compute Loss\n",
    "            #----------------\n",
    "            loss = loss_function(y_pred.squeeze(), y.squeeze())\n",
    "\n",
    "            error += loss.item()\n",
    "    #==============================================================\n",
    "    \n",
    "    error /= N_batches\n",
    "    \n",
    "    #------------------\n",
    "    \n",
    "    return error, Y, Yp"
   ]
  },
  {
   "attachments": {},
   "cell_type": "markdown",
   "id": "cc05240d-d9a7-447a-a825-6463128a5b5c",
   "metadata": {
    "id": "cc05240d-d9a7-447a-a825-6463128a5b5c",
    "jp-MarkdownHeadingCollapsed": true,
    "tags": []
   },
   "source": [
    "# EXPERIMENTO"
   ]
  },
  {
   "cell_type": "code",
   "execution_count": 7,
   "id": "9c8178b0-fdd6-4a49-a44b-ab0e0691e8a3",
   "metadata": {
    "executionInfo": {
     "elapsed": 1914,
     "status": "ok",
     "timestamp": 1683137399791,
     "user": {
      "displayName": "Matias Gerard",
      "userId": "14742050363958170468"
     },
     "user_tz": 180
    },
    "id": "9c8178b0-fdd6-4a49-a44b-ab0e0691e8a3",
    "jupyter": {
     "source_hidden": true
    }
   },
   "outputs": [],
   "source": [
    "#=================================\n",
    "# Definimos los archivos de datos\n",
    "#=================================\n",
    "\n",
    "sys.path.append('/home/sebacastillo/neuralnets/')\n",
    "from src.utils import get_project_root\n",
    "root = get_project_root()\n",
    "\n",
    "filename_train_data = str(root) + '/Ejercicio 2_Algo_Geneticos/data_trn.csv'\n",
    "filename_validation_data = str(root) +'/Ejercicio 2_Algo_Geneticos/data_trn.csv'\n",
    "filename_test_data = str(root) + '/Ejercicio 2_Algo_Geneticos/data_test.csv'\n",
    "\n",
    "\n",
    "#==========================================\n",
    "# Inicializamos parámetros del experimento\n",
    "#==========================================\n",
    "learning_rate = 0.01\n",
    "\n",
    "\n",
    "acc = 0.  # Inicializo el accuracy inicial\n",
    "epoca = 0  # Inicializo contador de épocas\n",
    "\n",
    "MIN_ACC = 1.0  # Defino mínimo accuracy deseado\n",
    "\n",
    "MIN_ERROR = 1E6   # Inicializo la variable para\n",
    "                  # registrar el mínimo error cometido.\n",
    "    \n",
    "MAX_EPOCAS = 100  # Defino el número máximo de épocas\n",
    "                  # de entrenamiento.\n",
    "\n",
    "MAX_COUNTER = 100  # Defino el máximo número de épocas\n",
    "                  # sin mejorar el error de validación\n",
    "                  # para detener el entrenamiento.\n",
    "\n",
    "BATCH_SIZE = 20  # Número de patrones en cada batch\n",
    "\n",
    "\n",
    "#===========================================================\n",
    "# Construimos los datasets para entrenamiento y validación\n",
    "#===========================================================\n",
    "trn = DATASET(filename_train_data)\n",
    "val = DATASET(filename_validation_data)\n",
    "\n",
    "\n",
    "#=============================================================\n",
    "# Construimos los dataloaders para entrenamiento y validación\n",
    "#=============================================================\n",
    "train_data = DataLoader(trn, batch_size=BATCH_SIZE, shuffle=True)\n",
    "validation_data = DataLoader(val, batch_size=BATCH_SIZE, shuffle=False)\n",
    "\n",
    "\n",
    "#=============================================\n",
    "# Inicializamos el modelo\n",
    "#=============================================\n",
    "modelo = PERCEPTRON(2000,2)\n",
    "modelo.to(device)\n",
    "\n",
    "\n",
    "#=============================================\n",
    "# Definimos la función de LOSS a utilizar\n",
    "#=============================================\n",
    "#loss_function = nn.MSELoss(reduction='mean').to(device)\n",
    "# loss_function = nn.BCELoss().to(device)\n",
    "#loss_function = nn.BCEWithLogitsLoss(reduction='mean').to(device)\n",
    "loss_function = nn.CrossEntropyLoss()\n",
    "#=============================================\n",
    "# Definimos el optimizador a utilizar\n",
    "# >>> 3er paso del bacpropagation\n",
    "#=============================================\n",
    "optimizer = optim.SGD(modelo.parameters(), lr=learning_rate, momentum=0)  # 0.9)"
   ]
  },
  {
   "cell_type": "code",
   "execution_count": 8,
   "id": "b56dc9a6",
   "metadata": {},
   "outputs": [
    {
     "name": "stdout",
     "output_type": "stream",
     "text": [
      "[[ 2.  2.  2. ...  2.  2.  0.]\n",
      " [-2. -2. -2. ... -2. -2. -2.]\n",
      " [-2. -2. -2. ... -2.  0.  0.]\n",
      " ...\n",
      " [-2.  0.  0. ... -2.  0. -2.]\n",
      " [-2.  2.  2. ...  0.  0. -2.]\n",
      " [ 0.  0.  0. ...  0.  0.  0.]]\n",
      "[0 0 0 0 0 0 0 0 0 0 0 0 0 0 0 0 0 0 0 0 0 0 0 0 0 0 0 0 0 0 0 0 0 0 0 0 0\n",
      " 0 0 0 0 0 0 0 0 0 0 0 0]\n"
     ]
    }
   ],
   "source": [
    "print(trn.x)\n",
    "print(trn.y)"
   ]
  },
  {
   "attachments": {},
   "cell_type": "markdown",
   "id": "4799c811-9ee7-4d0a-8ae9-f376129f4930",
   "metadata": {
    "id": "4799c811-9ee7-4d0a-8ae9-f376129f4930"
   },
   "source": [
    "## ENTRENAMIENTO DEL MODELO"
   ]
  },
  {
   "cell_type": "code",
   "execution_count": 9,
   "id": "21313ae0-3004-4a9c-8e43-0964a335d975",
   "metadata": {
    "colab": {
     "base_uri": "https://localhost:8080/"
    },
    "executionInfo": {
     "elapsed": 15780,
     "status": "ok",
     "timestamp": 1683137415568,
     "user": {
      "displayName": "Matias Gerard",
      "userId": "14742050363958170468"
     },
     "user_tz": 180
    },
    "id": "21313ae0-3004-4a9c-8e43-0964a335d975",
    "jupyter": {
     "source_hidden": true
    },
    "outputId": "f2478ff2-71ac-48a9-b798-5a9208a91307"
   },
   "outputs": [
    {
     "ename": "RuntimeError",
     "evalue": "The size of tensor a (98) must match the size of tensor b (49) at non-singleton dimension 0",
     "output_type": "error",
     "traceback": [
      "\u001b[0;31m---------------------------------------------------------------------------\u001b[0m",
      "\u001b[0;31mRuntimeError\u001b[0m                              Traceback (most recent call last)",
      "Cell \u001b[0;32mIn[9], line 26\u001b[0m\n\u001b[1;32m     22\u001b[0m \u001b[39m#----------------------\u001b[39;00m\n\u001b[1;32m     23\u001b[0m \u001b[39m# VALIDACION\u001b[39;00m\n\u001b[1;32m     24\u001b[0m \u001b[39m#----------------------\u001b[39;00m\n\u001b[1;32m     25\u001b[0m e,Y,Yp \u001b[39m=\u001b[39m predict_step(modelo, validation_data, loss_function, device)\n\u001b[0;32m---> 26\u001b[0m acc \u001b[39m=\u001b[39m torch\u001b[39m.\u001b[39msum(Yp\u001b[39m.\u001b[39;49msign() \u001b[39m==\u001b[39;49m Y\u001b[39m.\u001b[39;49msign())\u001b[39m/\u001b[39m \u001b[39mlen\u001b[39m(Y)\n\u001b[1;32m     28\u001b[0m \u001b[39m#----------------------\u001b[39;00m\n\u001b[1;32m     29\u001b[0m \u001b[39m# ALMACENO MEDIDAS\u001b[39;00m\n\u001b[1;32m     30\u001b[0m \u001b[39m#----------------------\u001b[39;00m\n\u001b[1;32m     31\u001b[0m error\u001b[39m.\u001b[39mappend(e)\n",
      "\u001b[0;31mRuntimeError\u001b[0m: The size of tensor a (98) must match the size of tensor b (49) at non-singleton dimension 0"
     ]
    }
   ],
   "source": [
    "error = []  # Inicializo estructura para almacenar\n",
    "            # los errores en el tiempo\n",
    "accuracy = []  # Inicializo estructura para almacenar\n",
    "               # el accuracy en el tiempo\n",
    "\n",
    "STOP = False\n",
    "counter = 0\n",
    "\n",
    "best_model = None\n",
    "best_model_weights = None\n",
    "\n",
    "#===============================================================\n",
    "while (epoca < MAX_EPOCAS) and (acc < MIN_ACC) and (not STOP):\n",
    "\n",
    "    epoca += 1\n",
    "    \n",
    "    #----------------------\n",
    "    # ENTRENAMIENTO\n",
    "    #----------------------\n",
    "    _,modelo = train_step(modelo, train_data, loss_function, optimizer, device)\n",
    "    \n",
    "    #----------------------\n",
    "    # VALIDACION\n",
    "    #----------------------\n",
    "    e,Y,Yp = predict_step(modelo, validation_data, loss_function, device)\n",
    "    acc = torch.sum(Yp.sign() == Y.sign())/ len(Y)\n",
    "    \n",
    "    #----------------------\n",
    "    # ALMACENO MEDIDAS\n",
    "    #----------------------\n",
    "    error.append(e)\n",
    "    accuracy.append(acc)\n",
    "    \n",
    "    #-----------------------------------------------\n",
    "    # CRITERIO DE CORTE Y ALMACENAMIENTO DEL MODELO\n",
    "    #-----------------------------------------------\n",
    "    if (e < MIN_ERROR):\n",
    "        MIN_ERROR = e\n",
    "        counter = 0\n",
    "        \n",
    "        #·······················\n",
    "        # Almaceno el modelo\n",
    "        #·······················\n",
    "        best_model = deepcopy(modelo)  # Genero una copia independiente\n",
    "        best_model_weights = best_model.state_dict()\n",
    "        \n",
    "    else:\n",
    "        counter += 1\n",
    "        if counter > MAX_COUNTER:\n",
    "            STOP = True\n",
    "    \n",
    "    #--------------------------------------------\n",
    "    # MUESTRO REPORTE POR PANTALLA (POR EPOCA)\n",
    "    #--------------------------------------------\n",
    "    if (epoca % 10) == 0:\n",
    "        print('Epoca: {} -- Error: {:.4}\\t--\\tTasa acierto [train]: {}\\n'.format(epoca, e, acc))\n",
    "#===============================================================\n",
    "\n",
    "#--------------------------------------------\n",
    "# MUESTRO REPORTE POR PANTALLA (FINAL)\n",
    "#--------------------------------------------\n",
    "print('='*79)\n",
    "print('FINAL -- Epoca: {} -- Error: {:.4}\\t--\\tTasa acierto [train]: {}'.format(epoca, e, acc))\n",
    "print('='*79)\n",
    "\n",
    "#-----------------------------\n",
    "# GUARDO MEJOR MODELO A DISCO\n",
    "#-----------------------------\n",
    "torch.save(best_model,\n",
    "           'best_model.pt',\n",
    "           _use_new_zipfile_serialization=True)\n",
    "        \n",
    "#----------------------------------------------\n",
    "# GUARDAMOS LOS PESOS DEL MEJOR MODELO A DISCO\n",
    "#----------------------------------------------\n",
    "torch.save(best_model.state_dict(),\n",
    "           'best_model_state_dict.pt',\n",
    "           _use_new_zipfile_serialization=True)\n",
    "\n",
    "B = best_model.fc.bias.detach().cpu().numpy()\n",
    "W = best_model.fc.weight.flatten().detach().cpu().numpy()\n",
    "\n",
    "print(f'Bias: {B} -- W: {W}')"
   ]
  },
  {
   "attachments": {},
   "cell_type": "markdown",
   "id": "ec22aa64-3830-4e57-a508-60b1d3d463e8",
   "metadata": {
    "id": "ec22aa64-3830-4e57-a508-60b1d3d463e8"
   },
   "source": [
    "## GRAFICAMOS LAS SALIDAS"
   ]
  },
  {
   "cell_type": "code",
   "execution_count": 9,
   "id": "5f97e0b4-52a6-4e93-83c9-3bfefe583654",
   "metadata": {
    "colab": {
     "base_uri": "https://localhost:8080/",
     "height": 374
    },
    "executionInfo": {
     "elapsed": 1799,
     "status": "ok",
     "timestamp": 1683137457795,
     "user": {
      "displayName": "Matias Gerard",
      "userId": "14742050363958170468"
     },
     "user_tz": 180
    },
    "id": "5f97e0b4-52a6-4e93-83c9-3bfefe583654",
    "jupyter": {
     "source_hidden": true
    },
    "outputId": "3d22c457-97bf-48af-9a7c-a595c060a019"
   },
   "outputs": [
    {
     "ename": "ValueError",
     "evalue": "'c' argument has 27 elements, which is inconsistent with 'x' and 'y' with size 46.",
     "output_type": "error",
     "traceback": [
      "\u001b[0;31m---------------------------------------------------------------------------\u001b[0m",
      "\u001b[0;31mValueError\u001b[0m                                Traceback (most recent call last)",
      "Cell \u001b[0;32mIn[9], line 32\u001b[0m\n\u001b[1;32m     29\u001b[0m     \u001b[39mif\u001b[39;00m (np\u001b[39m.\u001b[39msign(Y[i]) \u001b[39m!=\u001b[39m np\u001b[39m.\u001b[39msign(Yp[i])) \u001b[39mand\u001b[39;00m (Y[i] \u001b[39m==\u001b[39m \u001b[39m-\u001b[39m\u001b[39m1\u001b[39m):\n\u001b[1;32m     30\u001b[0m         C\u001b[39m.\u001b[39mappend(\u001b[39m'\u001b[39m\u001b[39mmagenta\u001b[39m\u001b[39m'\u001b[39m)\n\u001b[0;32m---> 32\u001b[0m ax[\u001b[39m2\u001b[39;49m]\u001b[39m.\u001b[39;49mscatter(validation_data\u001b[39m.\u001b[39;49mdataset\u001b[39m.\u001b[39;49mx[:,\u001b[39m0\u001b[39;49m], validation_data\u001b[39m.\u001b[39;49mdataset\u001b[39m.\u001b[39;49mx[:,\u001b[39m1\u001b[39;49m], \u001b[39m20\u001b[39;49m, C)  \u001b[39m# <<<<<<<<<<<<<<<<<<<<<<<<<<<<<<<<<<<<<<<<<<<<<<<\u001b[39;00m\n\u001b[1;32m     34\u001b[0m \u001b[39m#-----------------------------------------------\u001b[39;00m\n\u001b[1;32m     35\u001b[0m \u001b[39m# CONSTRUCCION DE LA FRONTERA DE DECISION\u001b[39;00m\n\u001b[1;32m     36\u001b[0m x \u001b[39m=\u001b[39m torch\u001b[39m.\u001b[39mtensor([\u001b[39m-\u001b[39m\u001b[39m1.5\u001b[39m, \u001b[39m1.5\u001b[39m])\n",
      "File \u001b[0;32m~/.neuralnets/lib/python3.9/site-packages/matplotlib/__init__.py:1442\u001b[0m, in \u001b[0;36m_preprocess_data.<locals>.inner\u001b[0;34m(ax, data, *args, **kwargs)\u001b[0m\n\u001b[1;32m   1439\u001b[0m \u001b[39m@functools\u001b[39m\u001b[39m.\u001b[39mwraps(func)\n\u001b[1;32m   1440\u001b[0m \u001b[39mdef\u001b[39;00m \u001b[39minner\u001b[39m(ax, \u001b[39m*\u001b[39margs, data\u001b[39m=\u001b[39m\u001b[39mNone\u001b[39;00m, \u001b[39m*\u001b[39m\u001b[39m*\u001b[39mkwargs):\n\u001b[1;32m   1441\u001b[0m     \u001b[39mif\u001b[39;00m data \u001b[39mis\u001b[39;00m \u001b[39mNone\u001b[39;00m:\n\u001b[0;32m-> 1442\u001b[0m         \u001b[39mreturn\u001b[39;00m func(ax, \u001b[39m*\u001b[39;49m\u001b[39mmap\u001b[39;49m(sanitize_sequence, args), \u001b[39m*\u001b[39;49m\u001b[39m*\u001b[39;49mkwargs)\n\u001b[1;32m   1444\u001b[0m     bound \u001b[39m=\u001b[39m new_sig\u001b[39m.\u001b[39mbind(ax, \u001b[39m*\u001b[39margs, \u001b[39m*\u001b[39m\u001b[39m*\u001b[39mkwargs)\n\u001b[1;32m   1445\u001b[0m     auto_label \u001b[39m=\u001b[39m (bound\u001b[39m.\u001b[39marguments\u001b[39m.\u001b[39mget(label_namer)\n\u001b[1;32m   1446\u001b[0m                   \u001b[39mor\u001b[39;00m bound\u001b[39m.\u001b[39mkwargs\u001b[39m.\u001b[39mget(label_namer))\n",
      "File \u001b[0;32m~/.neuralnets/lib/python3.9/site-packages/matplotlib/axes/_axes.py:4602\u001b[0m, in \u001b[0;36mAxes.scatter\u001b[0;34m(self, x, y, s, c, marker, cmap, norm, vmin, vmax, alpha, linewidths, edgecolors, plotnonfinite, **kwargs)\u001b[0m\n\u001b[1;32m   4599\u001b[0m \u001b[39mif\u001b[39;00m edgecolors \u001b[39mis\u001b[39;00m \u001b[39mNone\u001b[39;00m:\n\u001b[1;32m   4600\u001b[0m     orig_edgecolor \u001b[39m=\u001b[39m kwargs\u001b[39m.\u001b[39mget(\u001b[39m'\u001b[39m\u001b[39medgecolor\u001b[39m\u001b[39m'\u001b[39m, \u001b[39mNone\u001b[39;00m)\n\u001b[1;32m   4601\u001b[0m c, colors, edgecolors \u001b[39m=\u001b[39m \\\n\u001b[0;32m-> 4602\u001b[0m     \u001b[39mself\u001b[39;49m\u001b[39m.\u001b[39;49m_parse_scatter_color_args(\n\u001b[1;32m   4603\u001b[0m         c, edgecolors, kwargs, x\u001b[39m.\u001b[39;49msize,\n\u001b[1;32m   4604\u001b[0m         get_next_color_func\u001b[39m=\u001b[39;49m\u001b[39mself\u001b[39;49m\u001b[39m.\u001b[39;49m_get_patches_for_fill\u001b[39m.\u001b[39;49mget_next_color)\n\u001b[1;32m   4606\u001b[0m \u001b[39mif\u001b[39;00m plotnonfinite \u001b[39mand\u001b[39;00m colors \u001b[39mis\u001b[39;00m \u001b[39mNone\u001b[39;00m:\n\u001b[1;32m   4607\u001b[0m     c \u001b[39m=\u001b[39m np\u001b[39m.\u001b[39mma\u001b[39m.\u001b[39mmasked_invalid(c)\n",
      "File \u001b[0;32m~/.neuralnets/lib/python3.9/site-packages/matplotlib/axes/_axes.py:4455\u001b[0m, in \u001b[0;36mAxes._parse_scatter_color_args\u001b[0;34m(c, edgecolors, kwargs, xsize, get_next_color_func)\u001b[0m\n\u001b[1;32m   4451\u001b[0m     \u001b[39melse\u001b[39;00m:\n\u001b[1;32m   4452\u001b[0m         \u001b[39mif\u001b[39;00m \u001b[39mlen\u001b[39m(colors) \u001b[39mnot\u001b[39;00m \u001b[39min\u001b[39;00m (\u001b[39m0\u001b[39m, \u001b[39m1\u001b[39m, xsize):\n\u001b[1;32m   4453\u001b[0m             \u001b[39m# NB: remember that a single color is also acceptable.\u001b[39;00m\n\u001b[1;32m   4454\u001b[0m             \u001b[39m# Besides *colors* will be an empty array if c == 'none'.\u001b[39;00m\n\u001b[0;32m-> 4455\u001b[0m             \u001b[39mraise\u001b[39;00m invalid_shape_exception(\u001b[39mlen\u001b[39m(colors), xsize)\n\u001b[1;32m   4456\u001b[0m \u001b[39melse\u001b[39;00m:\n\u001b[1;32m   4457\u001b[0m     colors \u001b[39m=\u001b[39m \u001b[39mNone\u001b[39;00m  \u001b[39m# use cmap, norm after collection is created\u001b[39;00m\n",
      "\u001b[0;31mValueError\u001b[0m: 'c' argument has 27 elements, which is inconsistent with 'x' and 'y' with size 46."
     ]
    },
    {
     "data": {
      "image/png": "[encoded data removed]",
      "text/plain": [
       "<Figure size 3000x600 with 3 Axes>"
      ]
     },
     "metadata": {},
     "output_type": "display_data"
    }
   ],
   "source": [
    "fig, ax = plt.subplots(1, 3, figsize=(30,6))\n",
    "\n",
    "epocas = np.arange(epoca)\n",
    "\n",
    "# ERROR\n",
    "ax[0].plot(epocas, error, 'o-r', lw=2)\n",
    "ax[0].grid(True)\n",
    "ax[0].set_xlim(0,MAX_EPOCAS)\n",
    "ax[0].set_xlabel('Epocas', fontsize=12)\n",
    "ax[0].set_ylabel('MSE', fontsize=12)\n",
    "\n",
    "# ACC\n",
    "ax[1].plot(epocas, accuracy, 'o-b', lw=2)\n",
    "ax[1].grid(True)\n",
    "ax[1].set_xlim(0,MAX_EPOCAS)\n",
    "ax[1].set_xlabel('Epocas', fontsize=12)\n",
    "ax[1].set_ylabel('Acc', fontsize=12)\n",
    "\n",
    "# CLASIFICACION\n",
    "\n",
    "C = []\n",
    "for i in range(len(Y)):\n",
    "    if (np.sign(Y[i]) == np.sign(Yp[i])) and (Y[i] == 1):\n",
    "        C.append('blue')\n",
    "    if (np.sign(Y[i]) == np.sign(Yp[i])) and (Y[i] == -1):\n",
    "        C.append('red')\n",
    "    if (np.sign(Y[i]) != np.sign(Yp[i])) and (Y[i] == 1):\n",
    "        C.append('cyan')\n",
    "    if (np.sign(Y[i]) != np.sign(Yp[i])) and (Y[i] == -1):\n",
    "        C.append('magenta')\n",
    "        \n",
    "ax[2].scatter(validation_data.dataset.x[:,0], validation_data.dataset.x[:,1], 20, C)  # <<<<<<<<<<<<<<<<<<<<<<<<<<<<<<<<<<<<<<<<<<<<<<<\n",
    "\n",
    "#-----------------------------------------------\n",
    "# CONSTRUCCION DE LA FRONTERA DE DECISION\n",
    "x = torch.tensor([-1.5, 1.5])\n",
    "W = modelo.fc.weight.flatten().detach().cpu()\n",
    "B = modelo.fc.bias.detach().cpu()\n",
    "b = -B/W[1]\n",
    "m = W[0]/W[1]\n",
    "\n",
    "ax[2].plot(x, b - m * x, '-k', lw=2)\n",
    "ax[2].set_xlim(-1.1,1.1)\n",
    "ax[2].set_ylim(-1.1,1.1)\n",
    "ax[2].grid(True)"
   ]
  },
  {
   "attachments": {},
   "cell_type": "markdown",
   "id": "0d25b98b-59e1-4a45-9318-36fd7e622baf",
   "metadata": {
    "id": "0d25b98b-59e1-4a45-9318-36fd7e622baf"
   },
   "source": [
    "---"
   ]
  },
  {
   "attachments": {},
   "cell_type": "markdown",
   "id": "6527b157-f89d-4fd7-a7d1-e3a8fbc2d16f",
   "metadata": {
    "id": "6527b157-f89d-4fd7-a7d1-e3a8fbc2d16f"
   },
   "source": [
    "## LECTURA DE DATOS DE EVALUACION"
   ]
  },
  {
   "cell_type": "code",
   "execution_count": 32,
   "id": "90041501-1f0b-4fc5-80b2-d9dfc6e8cad2",
   "metadata": {
    "executionInfo": {
     "elapsed": 553,
     "status": "ok",
     "timestamp": 1683137474812,
     "user": {
      "displayName": "Matias Gerard",
      "userId": "14742050363958170468"
     },
     "user_tz": 180
    },
    "id": "90041501-1f0b-4fc5-80b2-d9dfc6e8cad2",
    "jupyter": {
     "source_hidden": true
    }
   },
   "outputs": [],
   "source": [
    "#=====================================\n",
    "# LEVANTAMOS DE DISCO EL MEJOR MODELO\n",
    "#=====================================\n",
    "\n",
    "del modelo  # Eliminamos de memoria\n",
    "            # para asegurarnos de usar\n",
    "            # el modelo guardado en disco\n",
    "\n",
    "#--------------------------------------\n",
    "# Modelo completo (archivo binario)\n",
    "#--------------------------------------\n",
    "modelo = torch.load('best_model.pt').to(device)\n",
    "\n",
    "#-----------------------\n",
    "# A partir de los pesos\n",
    "#-----------------------\n",
    "#best_model = torch.load('best_model_state_dict.pt')\n",
    "#modelo = PERCEPTRON(n_features=2, lr=learning_rate)\n",
    "#modelo.load_state_dict(best_model)\n",
    "#modelo.to(device)"
   ]
  },
  {
   "cell_type": "code",
   "execution_count": 33,
   "id": "b182dec5-bebf-46b6-9d68-4c6487d31e12",
   "metadata": {
    "colab": {
     "base_uri": "https://localhost:8080/"
    },
    "executionInfo": {
     "elapsed": 1135,
     "status": "ok",
     "timestamp": 1683137477255,
     "user": {
      "displayName": "Matias Gerard",
      "userId": "14742050363958170468"
     },
     "user_tz": 180
    },
    "id": "b182dec5-bebf-46b6-9d68-4c6487d31e12",
    "jupyter": {
     "source_hidden": true
    },
    "outputId": "e4f49683-043f-4539-8716-0c9697c3a4f1"
   },
   "outputs": [
    {
     "name": "stdout",
     "output_type": "stream",
     "text": [
      "\n",
      "Tasa acierto [test]: 0.7531818151473999\n",
      "\n"
     ]
    }
   ],
   "source": [
    "#=====================================\n",
    "# CONSTRUIMOS EL DATASET PARA TEST\n",
    "#=====================================\n",
    "tst = DATASET(filename_test_data)\n",
    "\n",
    "test_data = DataLoader(tst, batch_size=1, shuffle=False)\n",
    "\n",
    "#=====================================\n",
    "# EVALUAMOS EL MODELO ENTRENADO\n",
    "#=====================================\n",
    "error,Y,Yp = predict_step(modelo, test_data, loss_function, device)\n",
    "acc = torch.sum(Yp.sign() == Y.sign())/ len(Y)\n",
    "\n",
    "print('\\nTasa acierto [test]: {}\\n'.format(acc))"
   ]
  },
  {
   "attachments": {},
   "cell_type": "markdown",
   "id": "f515442f-8b82-4f8b-8104-42d2e814b77c",
   "metadata": {
    "id": "f515442f-8b82-4f8b-8104-42d2e814b77c"
   },
   "source": [
    "## GRAFICAMOS LAS SALIDAS"
   ]
  },
  {
   "cell_type": "code",
   "execution_count": 34,
   "id": "4bf57847-b232-4137-85d4-a44710f7e748",
   "metadata": {
    "colab": {
     "base_uri": "https://localhost:8080/",
     "height": 522
    },
    "executionInfo": {
     "elapsed": 664,
     "status": "ok",
     "timestamp": 1683137482185,
     "user": {
      "displayName": "Matias Gerard",
      "userId": "14742050363958170468"
     },
     "user_tz": 180
    },
    "id": "4bf57847-b232-4137-85d4-a44710f7e748",
    "jupyter": {
     "source_hidden": true
    },
    "outputId": "a82d7916-85b5-4f32-a223-b96cc600fc90"
   },
   "outputs": [
    {
     "data": {
      "image/png": "[encoded data removed]",
      "text/plain": [
       "<Figure size 1000x600 with 1 Axes>"
      ]
     },
     "metadata": {},
     "output_type": "display_data"
    }
   ],
   "source": [
    "fig, ax = plt.subplots(1, 1, figsize=(10,6))\n",
    "\n",
    "# CLASIFICACION\n",
    "\n",
    "C = []\n",
    "for i in range(len(Y)):\n",
    "    if (np.sign(Y[i]) == np.sign(Yp[i])) and (Y[i] == 1):\n",
    "        C.append('blue')\n",
    "    if (np.sign(Y[i]) == np.sign(Yp[i])) and (Y[i] == -1):\n",
    "        C.append('red')\n",
    "    if (np.sign(Y[i]) != np.sign(Yp[i])) and (Y[i] == 1):\n",
    "        C.append('cyan')\n",
    "    if (np.sign(Y[i]) != np.sign(Yp[i])) and (Y[i] == -1):\n",
    "        C.append('magenta')\n",
    "        \n",
    "ax.scatter(test_data.dataset.x[:,0], test_data.dataset.x[:,1], 20, C)\n",
    "\n",
    "#-----------------------------------------------\n",
    "# CONSTRUCCION DE LA FRONTERA DE DECISION\n",
    "# CONSTRUCCION DE LA FRONTERA DE DECISION\n",
    "x = torch.tensor([-1.5, 1.5])\n",
    "W = modelo.fc.weight.flatten().detach().cpu()\n",
    "B = modelo.fc.bias.detach().cpu()\n",
    "b = -B/W[1]\n",
    "m = W[0]/W[1]\n",
    "\n",
    "ax.plot(x, b - m * x, '-k', lw=2)  # FRONTERA DE DECISION\n",
    "ax.set_xlim(-1.1,1.1)\n",
    "ax.set_ylim(-1.1,1.1)\n",
    "ax.grid(True)"
   ]
  }
 ],
 "metadata": {
  "accelerator": "GPU",
  "colab": {
   "provenance": []
  },
  "gpuClass": "standard",
  "kernelspec": {
   "display_name": "Python 3 (ipykernel)",
   "language": "python",
   "name": "python3"
  },
  "language_info": {
   "codemirror_mode": {
    "name": "ipython",
    "version": 3
   },
   "file_extension": ".py",
   "mimetype": "text/x-python",
   "name": "python",
   "nbconvert_exporter": "python",
   "pygments_lexer": "ipython3",
   "version": "3.9.13"
  }
 },
 "nbformat": 4,
 "nbformat_minor": 5
}
