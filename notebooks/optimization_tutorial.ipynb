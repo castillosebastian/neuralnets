{
  "cells": [
    {
      "cell_type": "code",
      "execution_count": null,
      "metadata": {
        "id": "H0v6NJqvgyOu"
      },
      "outputs": [],
      "source": [
        "# For tips on running notebooks in Google Colab, see\n",
        "# https://pytorch.org/tutorials/beginner/colab\n",
        "%matplotlib inline"
      ]
    },
    {
      "cell_type": "markdown",
      "metadata": {
        "id": "_rj-SAEfgyOz"
      },
      "source": [
        "\n",
        "[Learn the Basics](intro.html) ||\n",
        "[Quickstart](quickstart_tutorial.html) ||\n",
        "[Tensors](tensorqs_tutorial.html) ||\n",
        "[Datasets & DataLoaders](data_tutorial.html) ||\n",
        "[Transforms](transforms_tutorial.html) ||\n",
        "[Build Model](buildmodel_tutorial.html) ||\n",
        "[Autograd](autogradqs_tutorial.html) ||\n",
        "**Optimization** ||\n",
        "[Save & Load Model](saveloadrun_tutorial.html)\n",
        "\n",
        "# Optimizing Model Parameters\n",
        "\n",
        "Now that we have a model and data it's time to train, validate and test our model by optimizing its parameters on\n",
        "our data. Training a model is an iterative process; in each iteration the model makes a guess about the output, calculates\n",
        "the error in its guess (*loss*), collects the derivatives of the error with respect to its parameters (as we saw in\n",
        "the [previous section](autograd_tutorial.html)), and **optimizes** these parameters using gradient descent. For a more\n",
        "detailed walkthrough of this process, check out this video on [backpropagation from 3Blue1Brown](https://www.youtube.com/watch?v=tIeHLnjs5U8)_.\n",
        "\n",
        "## Prerequisite Code\n",
        "We load the code from the previous sections on [Datasets & DataLoaders](data_tutorial.html)\n",
        "and [Build Model](buildmodel_tutorial.html).\n"
      ]
    },
    {
      "cell_type": "code",
      "execution_count": 2,
      "metadata": {
        "id": "ahMeMKV1gyO1"
      },
      "outputs": [],
      "source": [
        "import torch\n",
        "from torch import nn\n",
        "from torch.utils.data import DataLoader\n",
        "from torchvision import datasets\n",
        "from torchvision.transforms import ToTensor\n",
        "\n",
        "training_data = datasets.FashionMNIST(\n",
        "    root=\"data\",\n",
        "    train=True,\n",
        "    download=True,\n",
        "    transform=ToTensor()\n",
        ")\n",
        "\n",
        "test_data = datasets.FashionMNIST(\n",
        "    root=\"data\",\n",
        "    train=False,\n",
        "    download=True,\n",
        "    transform=ToTensor()\n",
        ")\n",
        "\n",
        "train_dataloader = DataLoader(training_data, batch_size=64)\n",
        "test_dataloader = DataLoader(test_data, batch_size=64)\n",
        "\n",
        "class NeuralNetwork(nn.Module):\n",
        "    def __init__(self):\n",
        "        super(NeuralNetwork, self).__init__()\n",
        "        self.flatten = nn.Flatten()\n",
        "        self.linear_relu_stack = nn.Sequential(\n",
        "            nn.Linear(28*28, 512),\n",
        "            nn.ReLU(),\n",
        "            nn.Linear(512, 512),\n",
        "            nn.ReLU(),\n",
        "            nn.Linear(512, 10),\n",
        "        )\n",
        "\n",
        "    def forward(self, x):\n",
        "        x = self.flatten(x)\n",
        "        logits = self.linear_relu_stack(x)\n",
        "        return logits\n",
        "\n",
        "model = NeuralNetwork()"
      ]
    },
    {
      "cell_type": "markdown",
      "metadata": {
        "id": "rnKKBb2jgyO9"
      },
      "source": [
        "## Hyperparameters\n",
        "\n",
        "Hyperparameters are adjustable parameters that let you control the model optimization process.\n",
        "Different hyperparameter values can impact model training and convergence rates\n",
        "([read more](https://pytorch.org/tutorials/beginner/hyperparameter_tuning_tutorial.html)_ about hyperparameter tuning)\n",
        "\n",
        "We define the following hyperparameters for training:\n",
        " - **Number of Epochs** - the number times to iterate over the dataset\n",
        " - **Batch Size** - the number of data samples propagated through the network before the parameters are updated\n",
        " - **Learning Rate** - how much to update models parameters at each batch/epoch. Smaller values yield slow learning speed, while large values may result in unpredictable behavior during training.\n",
        "\n",
        "\n"
      ]
    },
    {
      "cell_type": "code",
      "execution_count": 4,
      "metadata": {
        "id": "nXoRaix9gyO-"
      },
      "outputs": [
        {
          "name": "stdout",
          "output_type": "stream",
          "text": [
            "0.001\n"
          ]
        }
      ],
      "source": [
        "learning_rate = 1e-3\n",
        "batch_size = 64\n",
        "epochs = 5\n",
        "print(learning_rate)"
      ]
    },
    {
      "cell_type": "markdown",
      "metadata": {
        "id": "POMAZOMIgyO_"
      },
      "source": [
        "## Optimization Loop\n",
        "\n",
        "Once we set our hyperparameters, we can then train and optimize our model with an optimization loop. Each\n",
        "iteration of the optimization loop is called an **epoch**.\n",
        "\n",
        "Each epoch consists of two main parts:\n",
        " - **The Train Loop** - iterate over the training dataset and try to converge to optimal parameters.\n",
        " - **The Validation/Test Loop** - iterate over the test dataset to check if model performance is improving.\n",
        "\n",
        "Let's briefly familiarize ourselves with some of the concepts used in the training loop. Jump ahead to\n",
        "see the `full-impl-label` of the optimization loop.\n",
        "\n",
        "### Loss Function\n",
        "\n",
        "When presented with some training data, our untrained network is likely not to give the correct\n",
        "answer. **Loss function** measures the degree of dissimilarity of obtained result to the target value,\n",
        "and it is the loss function that we want to minimize during training. To calculate the loss we make a\n",
        "prediction using the inputs of our given data sample and compare it against the true data label value.\n",
        "\n",
        "Common loss functions include [nn.MSELoss](https://pytorch.org/docs/stable/generated/torch.nn.MSELoss.html#torch.nn.MSELoss) (Mean Square Error) for regression tasks, and\n",
        "[nn.NLLLoss](https://pytorch.org/docs/stable/generated/torch.nn.NLLLoss.html#torch.nn.NLLLoss) (Negative Log Likelihood) for classification.\n",
        "[nn.CrossEntropyLoss](https://pytorch.org/docs/stable/generated/torch.nn.CrossEntropyLoss.html#torch.nn.CrossEntropyLoss) combines ``nn.LogSoftmax`` and ``nn.NLLLoss``.\n",
        "\n",
        "We pass our model's output logits to ``nn.CrossEntropyLoss``, which will normalize the logits and compute the prediction error.\n",
        "\n"
      ]
    },
    {
      "cell_type": "code",
      "execution_count": 5,
      "metadata": {
        "id": "X8NrNbdDgyPA"
      },
      "outputs": [],
      "source": [
        "# Initialize the loss function\n",
        "loss_fn = nn.CrossEntropyLoss()"
      ]
    },
    {
      "cell_type": "markdown",
      "metadata": {
        "id": "6KRsOpBIgyPB"
      },
      "source": [
        "### Optimizer\n",
        "\n",
        "Optimization is the process of adjusting model parameters to reduce model error in each training step. **Optimization algorithms** define how this process is performed (in this example we use Stochastic Gradient Descent).\n",
        "All optimization logic is encapsulated in  the ``optimizer`` object. Here, we use the SGD optimizer; additionally, there are many [different optimizers](https://pytorch.org/docs/stable/optim.html)\n",
        "available in PyTorch such as ADAM and RMSProp, that work better for different kinds of models and data.\n",
        "\n",
        "We initialize the optimizer by registering the model's parameters that need to be trained, and passing in the learning rate hyperparameter.\n",
        "\n"
      ]
    },
    {
      "cell_type": "code",
      "execution_count": 6,
      "metadata": {
        "id": "RW0rVOvCgyPC"
      },
      "outputs": [],
      "source": [
        "optimizer = torch.optim.SGD(model.parameters(), lr=learning_rate)"
      ]
    },
    {
      "cell_type": "markdown",
      "metadata": {
        "id": "tXrTmM5OgyPD"
      },
      "source": [
        "Inside the training loop, optimization happens in three steps:\n",
        " * Call ``optimizer.zero_grad()`` to reset the gradients of model parameters. Gradients by default add up; to prevent double-counting, we explicitly zero them at each iteration.\n",
        " * Backpropagate the prediction loss with a call to ``loss.backward()``. PyTorch deposits the gradients of the loss w.r.t. each parameter.\n",
        " * Once we have our gradients, we call ``optimizer.step()`` to adjust the parameters by the gradients collected in the backward pass.\n",
        "\n"
      ]
    },
    {
      "cell_type": "markdown",
      "metadata": {
        "id": "uqFfvK4UgyPD"
      },
      "source": [
        "\n",
        "## Full Implementation\n",
        "We define ``train_loop`` that loops over our optimization code, and ``test_loop`` that\n",
        "evaluates the model's performance against our test data.\n",
        "\n"
      ]
    },
    {
      "cell_type": "code",
      "execution_count": 7,
      "metadata": {
        "id": "xfsA1P09gyPE"
      },
      "outputs": [],
      "source": [
        "def train_loop(dataloader, model, loss_fn, optimizer):\n",
        "    size = len(dataloader.dataset)\n",
        "    for batch, (X, y) in enumerate(dataloader):\n",
        "        # Compute prediction and loss\n",
        "        pred = model(X)\n",
        "        loss = loss_fn(pred, y)\n",
        "\n",
        "        # Backpropagation\n",
        "        optimizer.zero_grad()\n",
        "        loss.backward()\n",
        "        optimizer.step()\n",
        "\n",
        "        # Print intermediate step\n",
        "        #this code snippet prints the loss and progress information every 100 batches in a format like: \n",
        "        # \"loss: 0.123456 [ 500/10000]\", \n",
        "        #where the loss is 0.123456, 500 samples have been processed so far, \n",
        "        # and there are a total of 10,000 samples.\n",
        "        if batch % 100 == 0:\n",
        "            loss, current = loss.item(), (batch + 1) * len(X)\n",
        "            print(f\"loss: {loss:>7f}  [{current:>5d}/{size:>5d}]\")\n",
        "\n",
        "\n",
        "def test_loop(dataloader, model, loss_fn):\n",
        "    size = len(dataloader.dataset)\n",
        "    num_batches = len(dataloader)\n",
        "    test_loss, correct = 0, 0\n",
        "\n",
        "    with torch.no_grad():\n",
        "        for X, y in dataloader:\n",
        "            pred = model(X)\n",
        "            test_loss += loss_fn(pred, y).item()\n",
        "            correct += (pred.argmax(1) == y).type(torch.float).sum().item()\n",
        "\n",
        "    test_loss /= num_batches\n",
        "    correct /= size\n",
        "    print(f\"Test Error: \\n Accuracy: {(100*correct):>0.1f}%, Avg loss: {test_loss:>8f} \\n\")"
      ]
    },
    {
      "cell_type": "markdown",
      "metadata": {
        "id": "cXb03W-JgyPE"
      },
      "source": [
        "We initialize the loss function and optimizer, and pass it to ``train_loop`` and ``test_loop``.\n",
        "Feel free to increase the number of epochs to track the model's improving performance.\n",
        "\n"
      ]
    },
    {
      "cell_type": "code",
      "execution_count": 8,
      "metadata": {
        "id": "IaWAs06hgyPH"
      },
      "outputs": [
        {
          "name": "stdout",
          "output_type": "stream",
          "text": [
            "Epoch 1\n",
            "-------------------------------\n",
            "loss: 2.309591  [   64/60000]\n",
            "loss: 2.290272  [ 6464/60000]\n",
            "loss: 2.267848  [12864/60000]\n",
            "loss: 2.264456  [19264/60000]\n",
            "loss: 2.247795  [25664/60000]\n",
            "loss: 2.220869  [32064/60000]\n",
            "loss: 2.238083  [38464/60000]\n",
            "loss: 2.206832  [44864/60000]\n",
            "loss: 2.196343  [51264/60000]\n",
            "loss: 2.171107  [57664/60000]\n",
            "Test Error: \n",
            " Accuracy: 40.7%, Avg loss: 2.159157 \n",
            "\n",
            "Epoch 2\n",
            "-------------------------------\n",
            "loss: 2.171654  [   64/60000]\n",
            "loss: 2.156885  [ 6464/60000]\n",
            "loss: 2.102417  [12864/60000]\n",
            "loss: 2.121078  [19264/60000]\n",
            "loss: 2.069935  [25664/60000]\n",
            "loss: 2.017666  [32064/60000]\n",
            "loss: 2.049223  [38464/60000]\n",
            "loss: 1.977029  [44864/60000]\n",
            "loss: 1.968482  [51264/60000]\n",
            "loss: 1.908037  [57664/60000]\n",
            "Test Error: \n",
            " Accuracy: 55.5%, Avg loss: 1.899398 \n",
            "\n",
            "Epoch 3\n",
            "-------------------------------\n",
            "loss: 1.932101  [   64/60000]\n",
            "loss: 1.897227  [ 6464/60000]\n",
            "loss: 1.783085  [12864/60000]\n",
            "loss: 1.828496  [19264/60000]\n",
            "loss: 1.719032  [25664/60000]\n",
            "loss: 1.673524  [32064/60000]\n",
            "loss: 1.700327  [38464/60000]\n",
            "loss: 1.603648  [44864/60000]\n",
            "loss: 1.612905  [51264/60000]\n",
            "loss: 1.520026  [57664/60000]\n",
            "Test Error: \n",
            " Accuracy: 60.7%, Avg loss: 1.531732 \n",
            "\n",
            "Epoch 4\n",
            "-------------------------------\n",
            "loss: 1.596144  [   64/60000]\n",
            "loss: 1.558067  [ 6464/60000]\n",
            "loss: 1.406698  [12864/60000]\n",
            "loss: 1.486798  [19264/60000]\n",
            "loss: 1.368803  [25664/60000]\n",
            "loss: 1.359332  [32064/60000]\n",
            "loss: 1.381801  [38464/60000]\n",
            "loss: 1.306726  [44864/60000]\n",
            "loss: 1.326984  [51264/60000]\n",
            "loss: 1.240814  [57664/60000]\n",
            "Test Error: \n",
            " Accuracy: 64.2%, Avg loss: 1.260896 \n",
            "\n",
            "Epoch 5\n",
            "-------------------------------\n",
            "loss: 1.334850  [   64/60000]\n",
            "loss: 1.313652  [ 6464/60000]\n",
            "loss: 1.147564  [12864/60000]\n",
            "loss: 1.259556  [19264/60000]\n",
            "loss: 1.134716  [25664/60000]\n",
            "loss: 1.154283  [32064/60000]\n",
            "loss: 1.183427  [38464/60000]\n",
            "loss: 1.120821  [44864/60000]\n",
            "loss: 1.145920  [51264/60000]\n",
            "loss: 1.075464  [57664/60000]\n",
            "Test Error: \n",
            " Accuracy: 65.7%, Avg loss: 1.089953 \n",
            "\n",
            "Epoch 6\n",
            "-------------------------------\n",
            "loss: 1.158282  [   64/60000]\n",
            "loss: 1.158399  [ 6464/60000]\n",
            "loss: 0.975170  [12864/60000]\n",
            "loss: 1.114239  [19264/60000]\n",
            "loss: 0.984553  [25664/60000]\n",
            "loss: 1.014714  [32064/60000]\n",
            "loss: 1.059838  [38464/60000]\n",
            "loss: 1.000696  [44864/60000]\n",
            "loss: 1.026508  [51264/60000]\n",
            "loss: 0.971558  [57664/60000]\n",
            "Test Error: \n",
            " Accuracy: 66.6%, Avg loss: 0.978759 \n",
            "\n",
            "Epoch 7\n",
            "-------------------------------\n",
            "loss: 1.034985  [   64/60000]\n",
            "loss: 1.058122  [ 6464/60000]\n",
            "loss: 0.857002  [12864/60000]\n",
            "loss: 1.017224  [19264/60000]\n",
            "loss: 0.889123  [25664/60000]\n",
            "loss: 0.917143  [32064/60000]\n",
            "loss: 0.980329  [38464/60000]\n",
            "loss: 0.923142  [44864/60000]\n",
            "loss: 0.945210  [51264/60000]\n",
            "loss: 0.903108  [57664/60000]\n",
            "Test Error: \n",
            " Accuracy: 67.8%, Avg loss: 0.904280 \n",
            "\n",
            "Epoch 8\n",
            "-------------------------------\n",
            "loss: 0.945830  [   64/60000]\n",
            "loss: 0.989949  [ 6464/60000]\n",
            "loss: 0.774081  [12864/60000]\n",
            "loss: 0.949892  [19264/60000]\n",
            "loss: 0.826433  [25664/60000]\n",
            "loss: 0.847821  [32064/60000]\n",
            "loss: 0.925910  [38464/60000]\n",
            "loss: 0.872446  [44864/60000]\n",
            "loss: 0.888240  [51264/60000]\n",
            "loss: 0.854840  [57664/60000]\n",
            "Test Error: \n",
            " Accuracy: 68.7%, Avg loss: 0.851968 \n",
            "\n",
            "Epoch 9\n",
            "-------------------------------\n",
            "loss: 0.878777  [   64/60000]\n",
            "loss: 0.939969  [ 6464/60000]\n",
            "loss: 0.713281  [12864/60000]\n",
            "loss: 0.900760  [19264/60000]\n",
            "loss: 0.782503  [25664/60000]\n",
            "loss: 0.796976  [32064/60000]\n",
            "loss: 0.885542  [38464/60000]\n",
            "loss: 0.837879  [44864/60000]\n",
            "loss: 0.846521  [51264/60000]\n",
            "loss: 0.818391  [57664/60000]\n",
            "Test Error: \n",
            " Accuracy: 69.9%, Avg loss: 0.813102 \n",
            "\n",
            "Epoch 10\n",
            "-------------------------------\n",
            "loss: 0.826053  [   64/60000]\n",
            "loss: 0.900339  [ 6464/60000]\n",
            "loss: 0.666615  [12864/60000]\n",
            "loss: 0.863510  [19264/60000]\n",
            "loss: 0.749595  [25664/60000]\n",
            "loss: 0.758581  [32064/60000]\n",
            "loss: 0.853390  [38464/60000]\n",
            "loss: 0.812795  [44864/60000]\n",
            "loss: 0.814449  [51264/60000]\n",
            "loss: 0.789162  [57664/60000]\n",
            "Test Error: \n",
            " Accuracy: 71.2%, Avg loss: 0.782514 \n",
            "\n",
            "Done!\n"
          ]
        }
      ],
      "source": [
        "loss_fn = nn.CrossEntropyLoss()\n",
        "optimizer = torch.optim.SGD(model.parameters(), lr=learning_rate)\n",
        "\n",
        "epochs = 10\n",
        "for t in range(epochs):\n",
        "    print(f\"Epoch {t+1}\\n-------------------------------\")\n",
        "    train_loop(train_dataloader, model, loss_fn, optimizer)\n",
        "    test_loop(test_dataloader, model, loss_fn)\n",
        "print(\"Done!\")"
      ]
    },
    {
      "cell_type": "markdown",
      "metadata": {
        "id": "DBPwhcRBgyPH"
      },
      "source": [
        "## Further Reading\n",
        "- [Loss Functions](https://pytorch.org/docs/stable/nn.html#loss-functions)\n",
        "- [torch.optim](https://pytorch.org/docs/stable/optim.html)\n",
        "- [Warmstart Training a Model](https://pytorch.org/tutorials/recipes/recipes/warmstarting_model_using_parameters_from_a_different_model.html)\n",
        "\n",
        "\n"
      ]
    }
  ],
  "metadata": {
    "colab": {
      "provenance": []
    },
    "kernelspec": {
      "display_name": "Python 3",
      "language": "python",
      "name": "python3"
    },
    "language_info": {
      "codemirror_mode": {
        "name": "ipython",
        "version": 3
      },
      "file_extension": ".py",
      "mimetype": "text/x-python",
      "name": "python",
      "nbconvert_exporter": "python",
      "pygments_lexer": "ipython3",
      "version": "3.9.13"
    }
  },
  "nbformat": 4,
  "nbformat_minor": 0
}
