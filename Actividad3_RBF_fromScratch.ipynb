{
 "cells": [
  {
   "attachments": {},
   "cell_type": "markdown",
   "metadata": {},
   "source": [
    "# RBF NN from scratch\n",
    "\n",
    "- https://towardsdatascience.com/most-effective-way-to-implement-radial-basis-function-neural-network-for-classification-problem-33c467803319 "
   ]
  },
  {
   "cell_type": "code",
   "execution_count": 147,
   "metadata": {},
   "outputs": [],
   "source": [
    "import pandas as pd\n",
    "import numpy as np\n",
    "import sys\n",
    "sys.path.append('/home/sebacastillo/neuralnets/')\n",
    "from src.utils import get_project_root\n",
    "root = get_project_root()\n",
    "from scipy.spatial import distance\n",
    "from sklearn.model_selection import train_test_split"
   ]
  },
  {
   "cell_type": "code",
   "execution_count": 148,
   "metadata": {},
   "outputs": [],
   "source": [
    "# Function to compute Euclidean distance\n",
    "def get_distance(c, x):\n",
    "    return distance.euclidean(c, x)\n",
    "\n",
    "def kmeans(X, k, max_iters):\n",
    "    \"\"\"\n",
    "    Performs k-means clustering.\n",
    "\n",
    "    Parameters\n",
    "    ----------\n",
    "    X : array-like, shape (n_samples, n_features)\n",
    "        The input samples.\n",
    "    k : int\n",
    "        The number of clusters.\n",
    "    max_iters : int\n",
    "        Maximum number of iterations.\n",
    "\n",
    "    Returns\n",
    "    -------\n",
    "    centroids : array, shape (k, n_features)\n",
    "        The final centroids.\n",
    "    std_devs : list\n",
    "        The standard deviation of each cluster.\n",
    "    \"\"\"\n",
    "\n",
    "    # Step 1: Initialize the centroids randomly from the data points\n",
    "    centroids = X[np.random.choice(range(len(X)), k, replace=False)]\n",
    "    \n",
    "    converged = False\n",
    "    current_iter = 0\n",
    "\n",
    "    # Step 2: Run the main k-means algorithm\n",
    "    while (not converged) and (current_iter < max_iters):\n",
    "\n",
    "        # Create empty list for each cluster\n",
    "        cluster_list = [[] for i in range(len(centroids))]\n",
    "\n",
    "        # Go through each data point\n",
    "        for x in X:  \n",
    "            distances_list = []\n",
    "\n",
    "            # Compute distance of 'x' from each centroid\n",
    "            for c in centroids:\n",
    "                distances_list.append(get_distance(c, x))\n",
    "\n",
    "            # Assign 'x' to closest centroid\n",
    "            cluster_list[int(np.argmin(distances_list))].append(x)\n",
    "\n",
    "        # Remove empty clusters\n",
    "        cluster_list = list((filter(None, cluster_list)))\n",
    "\n",
    "        # Deep copy of the current centroids for convergence check later\n",
    "        prev_centroids = centroids.copy()\n",
    "\n",
    "        centroids = []\n",
    "\n",
    "        # Step 3: Update each centroid to the mean of points in its cluster\n",
    "        for j in range(len(cluster_list)):\n",
    "            centroids.append(np.mean(cluster_list[j], axis=0))\n",
    "\n",
    "        # Step 4: Check for convergence\n",
    "        # (if the centroids haven't moved, we're done)\n",
    "        pattern = np.abs(np.sum(prev_centroids) - np.sum(centroids))\n",
    "\n",
    "        print('K-MEANS: ', pattern)\n",
    "\n",
    "        converged = (pattern == 0)\n",
    "\n",
    "        current_iter += 1\n",
    "\n",
    "    # Return final centroids, and standard deviation of each cluster\n",
    "    return np.array(centroids), [np.std(x) for x in cluster_list]\n"
   ]
  },
  {
   "cell_type": "code",
   "execution_count": 149,
   "metadata": {},
   "outputs": [
    {
     "data": {
      "text/plain": [
       "(832, 3)"
      ]
     },
     "execution_count": 149,
     "metadata": {},
     "output_type": "execute_result"
    }
   ],
   "source": [
    "#data = np.load(str(root) + '/data/mnist_data.npy').astype(float)\n",
    "data = pd.read_csv(str(root) + '/data/concentlite.csv', header=0).to_numpy()\n",
    "data.shape"
   ]
  },
  {
   "cell_type": "code",
   "execution_count": 150,
   "metadata": {},
   "outputs": [],
   "source": [
    "X = data[:, :-1]\n",
    "k = 2"
   ]
  },
  {
   "cell_type": "code",
   "execution_count": 151,
   "metadata": {},
   "outputs": [
    {
     "name": "stdout",
     "output_type": "stream",
     "text": [
      "K-MEANS:  0.35598725488826766\n",
      "K-MEANS:  0.21401944134925532\n",
      "K-MEANS:  0.10265381904309345\n",
      "K-MEANS:  0.027114187999586425\n",
      "K-MEANS:  0.029365872969709272\n",
      "K-MEANS:  0.007376131803113806\n",
      "K-MEANS:  0.0008021652716827532\n",
      "K-MEANS:  0.006178629518859502\n",
      "K-MEANS:  0.009266024477504686\n",
      "K-MEANS:  0.010475872233983718\n",
      "K-MEANS:  0.008155361307220055\n",
      "K-MEANS:  0.011682589773487795\n",
      "K-MEANS:  0.0026273189709566935\n",
      "K-MEANS:  0.004813386230330785\n",
      "K-MEANS:  4.884961888995676e-05\n",
      "K-MEANS:  0.0007630696835105866\n",
      "K-MEANS:  0.0\n"
     ]
    },
    {
     "data": {
      "text/plain": [
       "(array([[0.55961816, 0.30189673],\n",
       "        [0.45188827, 0.72886926]]),\n",
       " [0.23107856338425442, 0.23654167408275018])"
      ]
     },
     "execution_count": 151,
     "metadata": {},
     "output_type": "execute_result"
    }
   ],
   "source": [
    "kmeans(X, k, 100)"
   ]
  },
  {
   "cell_type": "code",
   "execution_count": 152,
   "metadata": {},
   "outputs": [],
   "source": [
    "class RBF:\n",
    "\n",
    "    def __init__(self, X, y, tX, ty, num_of_classes,\n",
    "                 k, std_from_clusters=True):\n",
    "        self.X = X\n",
    "        self.y = y\n",
    "\n",
    "        self.tX = tX\n",
    "        self.ty = ty\n",
    "\n",
    "        self.number_of_classes = num_of_classes\n",
    "        self.k = k\n",
    "        self.std_from_clusters = std_from_clusters\n",
    "\n",
    "    def convert_to_one_hot(self, x, num_of_classes):\n",
    "        arr = np.zeros((len(x), num_of_classes))\n",
    "        for i in range(len(x)):\n",
    "            c = int(x[i])\n",
    "            arr[i][c] = 1\n",
    "        return arr\n",
    "\n",
    "    def rbf(self, x, c, s):\n",
    "        distance = get_distance(x, c)\n",
    "        return 1 / np.exp(-distance / s ** 2)\n",
    "\n",
    "    def rbf_list(self, X, centroids, std_list):\n",
    "        RBF_list = []\n",
    "        for x in X:\n",
    "            RBF_list.append([self.rbf(x, c, s) for (c, s) in zip(centroids, std_list)])\n",
    "        return np.array(RBF_list)\n",
    "    \n",
    "    def fit(self):\n",
    "\n",
    "        self.centroids, self.std_list = kmeans(self.X, self.k, max_iters=1000)\n",
    "\n",
    "        if not self.std_from_clusters:\n",
    "            dMax = np.max([get_distance(c1, c2) for c1 in self.centroids for c2 in self.centroids])\n",
    "            self.std_list = np.repeat(dMax / np.sqrt(2 * self.k), self.k)\n",
    "\n",
    "        RBF_X = self.rbf_list(self.X, self.centroids, self.std_list)\n",
    "\n",
    "        self.w = np.linalg.pinv(RBF_X.T @ RBF_X) @ RBF_X.T @ self.convert_to_one_hot(self.y, self.number_of_classes)\n",
    "\n",
    "        RBF_list_tst = self.rbf_list(self.tX, self.centroids, self.std_list)\n",
    "\n",
    "        self.pred_ty = RBF_list_tst @ self.w\n",
    "\n",
    "        self.pred_ty = np.array([np.argmax(x) for x in self.pred_ty])\n",
    "\n",
    "        diff = self.pred_ty - self.ty\n",
    "\n",
    "        print('Accuracy: ', len(np.where(diff == 0)[0]) / len(diff))"
   ]
  },
  {
   "cell_type": "code",
   "execution_count": 153,
   "metadata": {},
   "outputs": [],
   "source": [
    "X_train, X_test = train_test_split(data, test_size=0.2, random_state=42, shuffle=True)  # 80% train - 20% test\n",
    "\n",
    "train_x = X_train[:,:-1]\n",
    "train_y = X_train[:, -1]\n",
    "test_x = X_test[:,:-1]\n",
    "test_y = X_test[:, -1]"
   ]
  },
  {
   "cell_type": "code",
   "execution_count": 154,
   "metadata": {},
   "outputs": [],
   "source": [
    "RBF_CLASSIFIER = RBF(train_x, train_y, test_x, test_y, num_of_classes=2,\n",
    "                    k=2, std_from_clusters=False)"
   ]
  },
  {
   "cell_type": "code",
   "execution_count": 158,
   "metadata": {},
   "outputs": [
    {
     "name": "stdout",
     "output_type": "stream",
     "text": [
      "K-MEANS:  0.2526280194075077\n",
      "K-MEANS:  0.0404855762246763\n",
      "K-MEANS:  0.026730718551489563\n",
      "K-MEANS:  0.015891313547805375\n",
      "K-MEANS:  0.04481242024612442\n",
      "K-MEANS:  0.02552519375879081\n",
      "K-MEANS:  0.014933725507408457\n",
      "K-MEANS:  0.022646418708979876\n",
      "K-MEANS:  0.02473271737168581\n",
      "K-MEANS:  0.010960796295592434\n",
      "K-MEANS:  0.007548659348658671\n",
      "K-MEANS:  0.0012201575431487477\n",
      "K-MEANS:  0.01831271261580114\n",
      "K-MEANS:  0.005620857495008513\n",
      "K-MEANS:  0.0010314778559585847\n",
      "K-MEANS:  0.012480683415249327\n",
      "K-MEANS:  0.016035326797346983\n",
      "K-MEANS:  0.011489214255194113\n",
      "K-MEANS:  0.00137615606676178\n",
      "K-MEANS:  0.004493180173426037\n",
      "K-MEANS:  0.0019728484172785166\n",
      "K-MEANS:  0.0037705751312135938\n",
      "K-MEANS:  0.004466679517950212\n",
      "K-MEANS:  0.0\n",
      "Accuracy:  0.6167664670658682\n"
     ]
    }
   ],
   "source": [
    "RBF_CLASSIFIER.fit()"
   ]
  }
 ],
 "metadata": {
  "kernelspec": {
   "display_name": ".neuralnets",
   "language": "python",
   "name": "python3"
  },
  "language_info": {
   "codemirror_mode": {
    "name": "ipython",
    "version": 3
   },
   "file_extension": ".py",
   "mimetype": "text/x-python",
   "name": "python",
   "nbconvert_exporter": "python",
   "pygments_lexer": "ipython3",
   "version": "3.9.13"
  },
  "orig_nbformat": 4
 },
 "nbformat": 4,
 "nbformat_minor": 2
}
