{
 "cells": [
  {
   "cell_type": "markdown",
   "id": "6041ddc0-14f9-4c97-acab-2eea5be3c7ed",
   "metadata": {},
   "source": [
    "## Instalación de librerías"
   ]
  },
  {
   "cell_type": "code",
   "execution_count": null,
   "id": "b177ce68-ef5c-4568-9149-dc05b0d8f626",
   "metadata": {
    "tags": []
   },
   "outputs": [],
   "source": [
    "#!pip install sklearn"
   ]
  },
  {
   "cell_type": "markdown",
   "id": "f31710c2-e593-4e16-989e-1386d47f15a0",
   "metadata": {},
   "source": [
    "# Importamos librerías"
   ]
  },
  {
   "cell_type": "code",
   "execution_count": null,
   "id": "28b9a3ff-6da3-4a11-8e76-2d264a7feeb3",
   "metadata": {},
   "outputs": [],
   "source": [
    "import numpy as np\n",
    "import matplotlib.pyplot as plt\n",
    "import pandas as pd\n",
    "from copy import deepcopy"
   ]
  },
  {
   "cell_type": "markdown",
   "id": "7c336d5c-7c96-40c4-aa48-4409c9e29fee",
   "metadata": {},
   "source": [
    "# Leemos los datos"
   ]
  },
  {
   "cell_type": "code",
   "execution_count": null,
   "id": "481a9dda-e5f8-4ae2-a1d9-2dbb27809c22",
   "metadata": {},
   "outputs": [],
   "source": [
    "data = pd.read_csv('data_0p6Kcnsr.csv', header=None).to_numpy()"
   ]
  },
  {
   "cell_type": "code",
   "execution_count": null,
   "id": "a01eba8f-fd4e-4657-afa8-0876269e5bd0",
   "metadata": {},
   "outputs": [],
   "source": [
    "fig, ax = plt.subplots(1, 1, figsize=(10,6))\n",
    "ax.scatter(data[:,0], data[:,1], 20, [f'C{int(i)+1}' for i in data[:,2]])\n",
    "plt.grid(True)\n",
    "plt.show();"
   ]
  },
  {
   "cell_type": "markdown",
   "id": "0c5334b8-dd00-43bc-b339-3fe494dba76c",
   "metadata": {},
   "source": [
    "# PARTICIONAMOS LOS DATOS Y GUARDAMOS A DISCO\n",
    "\n",
    "**CONSIGNA 1:** Escriba el código que le permita verificar si los datos están balanceados."
   ]
  },
  {
   "cell_type": "code",
   "execution_count": null,
   "id": "b0bde75d-51f0-48c1-a7e0-e767186ab552",
   "metadata": {},
   "outputs": [],
   "source": []
  },
  {
   "cell_type": "markdown",
   "id": "1b480899-2acf-4fcd-81a1-ca754d42fd94",
   "metadata": {},
   "source": [
    "**CONSIGNA 2:** Escriba el código para particionar los datos en `train`, `validation` y `test`, y guarde cada conjunto de datos con los nombres `data_trn.csv`, `data_val.csv` y `data_tst.csv` según corresponda. El código debe permitir generar archivos que contengan $65\\%$ de los datos para entrenamiento, $15\\%$ para validación y $10\\%$ para test."
   ]
  },
  {
   "cell_type": "code",
   "execution_count": null,
   "id": "4a99311a-bddc-402c-9fab-b63a460f9d71",
   "metadata": {},
   "outputs": [],
   "source": []
  },
  {
   "cell_type": "markdown",
   "id": "7fd5470d-e429-4b5e-8f81-17d9b85779dd",
   "metadata": {},
   "source": [
    "# LEVANTAMOS LOS DATOS DE DISCO\n",
    "\n",
    "**NOTA**: Verifique que la carga de datos se realice correctamente de acuerdo a lo visto en la teoría."
   ]
  },
  {
   "cell_type": "code",
   "execution_count": null,
   "id": "4c3b817f-01b1-4577-a4c5-be430ec32045",
   "metadata": {},
   "outputs": [],
   "source": [
    "filename_train = 'data_trn.csv'\n",
    "filename_validation = 'data_val.csv'\n",
    "filename_test = 'data_tst.csv'"
   ]
  },
  {
   "cell_type": "markdown",
   "id": "03a97d38-f15d-4c93-996d-6c92f0c77bb5",
   "metadata": {},
   "source": [
    "### Entrenamiento"
   ]
  },
  {
   "cell_type": "code",
   "execution_count": null,
   "id": "ca9aacc9-fbee-44f6-b961-3245bf327487",
   "metadata": {},
   "outputs": [],
   "source": [
    "data = pd.read_csv(filename_train, header=None).to_numpy() # Levanta los datos en formato numpy\n",
    "\n",
    "#------------------------------------\n",
    "# INSERTAMOS COLUMNA DEL \"BIAS\"\n",
    "#------------------------------------\n",
    "bias = -np.ones((len(data), 1))\n",
    "data = np.concatenate((data, bias), axis=1)  # Insertamos el \"bias\"\n",
    "\n",
    "#------------------------------------\n",
    "# ALEATORIZO LOS PATRONES (filas)\n",
    "#------------------------------------\n",
    "idxs = np.arange(len(data))  # Genero un vector de índices\n",
    "np.random.shuffle(idxs)\n",
    "data = data[idxs,:]\n",
    "\n",
    "#------------------------------------\n",
    "# SEPARO LOS DATOS\n",
    "#------------------------------------\n",
    "X_trn = data[:,:-1]\n",
    "Y_trn = data[:,-1]  # La clase está en la última columna"
   ]
  },
  {
   "cell_type": "markdown",
   "id": "4fa6a500-26c2-4ceb-89f2-14f28f8be895",
   "metadata": {},
   "source": [
    "### Validación"
   ]
  },
  {
   "cell_type": "code",
   "execution_count": null,
   "id": "eac1f5e1-cd15-4367-9088-a25dba962de4",
   "metadata": {},
   "outputs": [],
   "source": [
    "data = pd.read_csv(filename_validation, header=None).to_numpy() # Levanta los datos en formato numpy\n",
    "\n",
    "#------------------------------------\n",
    "# INSERTAMOS COLUMNA DEL \"BIAS\"\n",
    "#------------------------------------\n",
    "bias = -np.ones((len(data), 1))\n",
    "data = np.concatenate((bias, data), axis=1)  # Insertamos el \"bias\" en la primera columna\n",
    "\n",
    "#------------------------------------\n",
    "# ALEATORIZO LOS PATRONES (filas)\n",
    "#------------------------------------\n",
    "idxs = np.arange(len(data))  # Genero un vector de índices\n",
    "np.random.shuffle(idxs)\n",
    "data = data[idxs,:]\n",
    "\n",
    "#------------------------------------\n",
    "# SEPARO LOS DATOS\n",
    "#------------------------------------\n",
    "X_val = data[:,:-1]\n",
    "Y_val = data[:,-1]  # La clase está en la última columna"
   ]
  },
  {
   "cell_type": "markdown",
   "id": "eafb5ef6-668c-44a3-9133-5b8adbf2a494",
   "metadata": {},
   "source": [
    "### Test"
   ]
  },
  {
   "cell_type": "code",
   "execution_count": null,
   "id": "28f93dec-2c74-495b-99de-abfad4e46cfa",
   "metadata": {},
   "outputs": [],
   "source": [
    "data = pd.read_csv(filename_test, header=None).to_numpy() # Levanta los datos en formato numpy\n",
    "\n",
    "#------------------------------------\n",
    "# INSERTAMOS COLUMNA DEL \"BIAS\"\n",
    "#------------------------------------\n",
    "bias = -np.ones((len(data), 1))\n",
    "data = np.concatenate((bias, data), axis=1)  # Insertamos el \"bias\" en la primera columna\n",
    "\n",
    "#------------------------------------\n",
    "# ALEATORIZO LOS PATRONES (filas)\n",
    "#------------------------------------\n",
    "idxs = np.arange(len(data))  # Genero un vector de índices\n",
    "np.random.shuffle(idxs)\n",
    "data = data[idxs,:]\n",
    "\n",
    "#------------------------------------\n",
    "# SEPARO LOS DATOS\n",
    "#------------------------------------\n",
    "X_tst = data[:,:-1]\n",
    "Y_tst = data[:,-1]  # La clase está en la última columna"
   ]
  },
  {
   "cell_type": "markdown",
   "id": "129111ee-3c4d-4043-a68a-898469a13d83",
   "metadata": {},
   "source": [
    "# FUNCIONES AUXILIARES"
   ]
  },
  {
   "cell_type": "code",
   "execution_count": null,
   "id": "f1acc858-0728-4e0d-9d58-72b8accca292",
   "metadata": {},
   "outputs": [],
   "source": [
    "def Tanh(x):\n",
    "    '''\n",
    "    Función tangente hiperbólica [-1,1].\n",
    "    '''\n",
    "    return np.tanh(x)\n",
    "\n",
    "#======================================================\n",
    "def dTanh(x):\n",
    "    '''\n",
    "    Derivada de la función tangente hiperbólica.\n",
    "    '''\n",
    "    return 0.5 * (1 - x) * (1 + x)"
   ]
  },
  {
   "cell_type": "markdown",
   "id": "dc0e4bb7-47b3-4fa5-a12e-f86470be97bf",
   "metadata": {},
   "source": [
    "**CONSIGNA 3:** Escriba el código para una función que le permita calcular, a partir de las salidas deseadas (`Yd`) y predichas (`Yp`) las siguientes medidas:\n",
    "- TP (Verdaderos Positivos)\n",
    "- TN (Verdaderos Negativos)\n",
    "- FP (Falsos positivos)\n",
    "- FN (Falsos Negativos)\n",
    "- Accuracy"
   ]
  },
  {
   "cell_type": "code",
   "execution_count": null,
   "id": "b1440ce1-e73e-450c-b6fe-4ef239fa664c",
   "metadata": {},
   "outputs": [],
   "source": [
    "def medidas(Yd, Yp):\n",
    "    pass"
   ]
  },
  {
   "cell_type": "markdown",
   "id": "dbedf5d2-e987-4c29-acce-f8809eccc624",
   "metadata": {},
   "source": [
    "# SETUP EXPERIMENTAL"
   ]
  },
  {
   "cell_type": "code",
   "execution_count": null,
   "id": "dc54c140-193b-4529-ba1b-89bb2435f6a3",
   "metadata": {},
   "outputs": [],
   "source": [
    "learning_rate = 1E-10\n",
    "\n",
    "\n",
    "acc = 0.  # Inicializo el accuracy inicial\n",
    "epoca = 0  # Inicializo contador de épocas\n",
    "\n",
    "MIN_ACC = 1.0  # Defino mínimo accuracy deseado\n",
    "\n",
    "MIN_ERROR = 1E6  # Inicializo la variable para\n",
    "                  # registrar el mínimo error cometido.\n",
    "    \n",
    "MAX_EPOCAS = 100  # Defino el número máximo de épocas\n",
    "                  # de entrenamiento.\n",
    "\n",
    "MAX_COUNTER = 10  # Defino el máximo número de épocas\n",
    "                  # sin mejorar el error de validación\n",
    "                  # para detener el entrenamiento.\n",
    "\n",
    "\n",
    "#=============================================\n",
    "# ENTRENAMIENTO\n",
    "#=============================================\n",
    "error = []  # Inicializo estructura para almacenar\n",
    "            # los errores en el tiempo\n",
    "accuracy = []  # Inicializo estructura para almacenar\n",
    "               # el accuracy en el tiempo\n",
    "\n",
    "STOP = False\n",
    "counter = 0\n",
    "\n",
    "best_model_weights = None"
   ]
  },
  {
   "cell_type": "markdown",
   "id": "fd247f88-8a5c-4e2f-a205-fbbc03b26e1c",
   "metadata": {},
   "source": [
    "**CONSIGNA 4:** Escriba el código para inicializar correctamente el perceptrón"
   ]
  },
  {
   "cell_type": "code",
   "execution_count": null,
   "id": "ca118719-197a-4d0e-90c2-f35c298253d3",
   "metadata": {},
   "outputs": [],
   "source": [
    "W = ..."
   ]
  },
  {
   "cell_type": "markdown",
   "id": "36a63e03-0cd3-42a4-b0c6-60982807a3b9",
   "metadata": {},
   "source": [
    "# ENTRENAMIENTO"
   ]
  },
  {
   "cell_type": "code",
   "execution_count": null,
   "id": "7fe870af-d5c7-48c9-9c77-8017f38210d6",
   "metadata": {
    "tags": []
   },
   "outputs": [],
   "source": [
    "while (epoca < MAX_EPOCAS) and (acc < MIN_ACC) and (not STOP):\n",
    "\n",
    "    epoca += 1\n",
    "    \n",
    "    #====================================================\n",
    "    # ENTRENAMIENTO\n",
    "    #======================\n",
    "    for idx,(x,yd) in enumerate(zip(X_trn,Y_trn)):\n",
    "        \n",
    "        # Pasada hacia adelante        \n",
    "        yp = np.tanh(W @ x)\n",
    "        \n",
    "        W = W + 0.5 * learning_rate * dTanh(yp) * (yd - yp) * x\n",
    "        \n",
    "    #====================================================\n",
    "    \n",
    "    \n",
    "    #====================================================\n",
    "    # VALIDACION\n",
    "    #======================\n",
    "    N = len(Y_val)\n",
    "    Yd = np.zeros(N)\n",
    "    Yp = np.zeros(N)\n",
    "    e = 0\n",
    "    for idx,(x,yd) in enumerate(zip(X_val,Y_val)):\n",
    "\n",
    "        # Cálculo de la salida        \n",
    "        yp = np.tanh(W @ x)\n",
    "        \n",
    "        # Almaceno las salidas\n",
    "        Yd[idx] = yd\n",
    "        Yp[idx] = yp\n",
    "\n",
    "        e += (yp - yd)**2\n",
    "    \n",
    "    e /= N\n",
    "    #====================================================\n",
    "    \n",
    "    \n",
    "    #====================================================\n",
    "    # CALCULO DE MEDIDAS\n",
    "    # (TP, TN, FP, FN, ACCURACY)\n",
    "    #=============================\n",
    "    tp, tn, fp, fn, acc = medidas(Yd, Yp)\n",
    "    \n",
    "    #====================================================\n",
    "    \n",
    "    \n",
    "    #----------------------\n",
    "    # ALMACENO MEDIDAS\n",
    "    #----------------------\n",
    "    error.append(e)\n",
    "    accuracy.append(acc)\n",
    "    \n",
    "    \n",
    "    #-----------------------------------------------\n",
    "    # CRITERIO DE CORTE Y ALMACENAMIENTO DEL MODELO\n",
    "    #-----------------------------------------------\n",
    "    if (e < MIN_ERROR):\n",
    "        MIN_ERROR = e\n",
    "        counter = 0\n",
    "        \n",
    "        #·······················\n",
    "        # Almaceno el modelo\n",
    "        #·······················\n",
    "        best_model_weights = W.copy()\n",
    "        \n",
    "    else:\n",
    "        counter += 1\n",
    "        if counter > MAX_COUNTER:\n",
    "            STOP = True\n",
    "    \n",
    "    #--------------------------------------------\n",
    "    # MUESTRO REPORTE POR PANTALLA (POR EPOCA)\n",
    "    #--------------------------------------------\n",
    "    if (epoca % 10) == 0:\n",
    "        print(f'Epoca: {epoca} -- Error: {e:.4} -- Tasa acierto [train]: {acc}\\n')\n",
    "#===============================================================\n",
    "\n",
    "#--------------------------------------------\n",
    "# MUESTRO REPORTE POR PANTALLA (FINAL)\n",
    "#--------------------------------------------\n",
    "print('='*83)\n",
    "print(f'FINAL -- Epoca: {epoca} -- Error: {e:.4} -- Tasa acierto [train]: {acc:.4} -- Contador: {counter}')\n",
    "print('='*83)\n",
    "\n",
    "#----------------------------------------------\n",
    "# GUARDAMOS LOS PESOS DEL MEJOR MODELO A DISCO\n",
    "#----------------------------------------------\n",
    "np.savetxt('best_model_weights.csv', best_model_weights, delimiter=',')"
   ]
  },
  {
   "cell_type": "markdown",
   "id": "2a91a149-0350-400c-a584-49139788bfca",
   "metadata": {},
   "source": [
    "### Graficación"
   ]
  },
  {
   "cell_type": "code",
   "execution_count": null,
   "id": "821f1059-c4f3-493e-afb5-9d5425514b4a",
   "metadata": {},
   "outputs": [],
   "source": [
    "fig, ax = plt.subplots(1, 3, figsize=(30,6))\n",
    "\n",
    "epocas = np.arange(epoca)\n",
    "\n",
    "# ERROR\n",
    "ax[0].plot(epocas, error, 'o-r', lw=2)\n",
    "ax[0].grid(True)\n",
    "ax[0].set_xlim(0,MAX_EPOCAS)\n",
    "ax[0].set_xlabel('Epocas', fontsize=12)\n",
    "ax[0].set_ylabel('MSE', fontsize=12)\n",
    "\n",
    "# ACC\n",
    "ax[1].plot(epocas, accuracy, 'o-b', lw=2)\n",
    "ax[1].grid(True)\n",
    "ax[1].set_xlim(0,MAX_EPOCAS)\n",
    "ax[1].set_xlabel('Epocas', fontsize=12)\n",
    "ax[1].set_ylabel('Acc', fontsize=12)\n",
    "\n",
    "# CLASIFICACION\n",
    "\n",
    "C = []\n",
    "for i in range(len(Yd)):\n",
    "    if (np.sign(Yd[i]) == np.sign(Yp[i])) and (Yd[i] == 1):\n",
    "        C.append('blue')\n",
    "    if (np.sign(Yd[i]) == np.sign(Yp[i])) and (Yd[i] == -1):\n",
    "        C.append('red')\n",
    "    if (np.sign(Yd[i]) != np.sign(Yp[i])) and (Yd[i] == 1):\n",
    "        C.append('cyan')\n",
    "    if (np.sign(Yd[i]) != np.sign(Yp[i])) and (Yd[i] == -1):\n",
    "        C.append('magenta')\n",
    "        \n",
    "ax[2].scatter(X_val[:,1], X_val[:,2], 20, C)\n",
    "\n",
    "#-----------------------------------------------\n",
    "# CONSTRUCCION DE LA FRONTERA DE DECISION\n",
    "x = np.array([X_val[:,1].min(), X_val[:,1].max()])\n",
    "b = W[0]/W[2]\n",
    "m = W[1]/W[2]\n",
    "\n",
    "ax[2].plot(x, b - m * x, '-k', lw=2)\n",
    "ax[2].set_xlim(X_val[:,1].min(), X_val[:,1].max())\n",
    "ax[2].set_ylim(X_val[:,2].min(), X_val[:,2].max())\n",
    "ax[2].grid(True)"
   ]
  },
  {
   "cell_type": "markdown",
   "id": "4f73877c-72dc-4d32-ad0c-a924a64d19a9",
   "metadata": {},
   "source": [
    "# TEST"
   ]
  },
  {
   "cell_type": "code",
   "execution_count": null,
   "id": "c10cb182-4982-4155-94a6-515c739cf11a",
   "metadata": {
    "tags": []
   },
   "outputs": [],
   "source": [
    "#=====================================\n",
    "# LEVANTAMOS DE DISCO EL MEJOR MODELO\n",
    "#=====================================\n",
    "w = np.loadtxt('best_model_weights.csv', delimiter=',')\n",
    "\n",
    "\n",
    "#====================================================\n",
    "# TESTEO\n",
    "#======================\n",
    "N = len(Y_tst)\n",
    "Yd = np.zeros(N)\n",
    "Yp = np.zeros(N)\n",
    "\n",
    "for idx,(x,yd) in enumerate(zip(X_tst,Y_tst)):\n",
    "\n",
    "    # Cálculo de la salida\n",
    "    yp = np.tanh(w @ x)\n",
    "\n",
    "    # Cálculo de las métricas\n",
    "    Yd[idx] = yd\n",
    "    Yp[idx] = yp\n",
    "\n",
    "    \n",
    "#====================================================\n",
    "# CALCULO DE MEDIDAS\n",
    "# (TP, TN, FP, FN, ACCURACY)\n",
    "#=============================\n",
    "tp, tn, fp, fn, acc = medidas(Yd, Yp)\n",
    "\n",
    "\n",
    "print('\\nTasa acierto [test]: {}\\n'.format(acc))\n",
    "\n",
    "print('Pesos [W]: {}\\n\\n'.format(W))"
   ]
  },
  {
   "cell_type": "markdown",
   "id": "1806862e-5d9a-4604-9fb8-f6988463e6b1",
   "metadata": {},
   "source": [
    "### Graficación"
   ]
  },
  {
   "cell_type": "code",
   "execution_count": null,
   "id": "346a6b8a-4fc4-49b1-8306-e4ac3b77820e",
   "metadata": {},
   "outputs": [],
   "source": [
    "fig, ax = plt.subplots(1, 1, figsize=(10,6))\n",
    "\n",
    "C = []\n",
    "for i in range(len(Yd)):\n",
    "    if (np.sign(Yd[i]) == np.sign(Yp[i])) and (Yd[i] == 1):\n",
    "        C.append('blue')\n",
    "    if (np.sign(Yd[i]) == np.sign(Yp[i])) and (Yd[i] == -1):\n",
    "        C.append('red')\n",
    "    if (np.sign(Yd[i]) != np.sign(Yp[i])) and (Yd[i] == 1):\n",
    "        C.append('cyan')\n",
    "    if (np.sign(Yd[i]) != np.sign(Yp[i])) and (Yd[i] == -1):\n",
    "        C.append('magenta')\n",
    "        \n",
    "ax.scatter(X_tst[:,1], X_tst[:,2], 20, C)\n",
    "\n",
    "#-----------------------------------------------\n",
    "# CONSTRUCCION DE LA FRONTERA DE DECISION\n",
    "x = np.array([X_tst[:,1].min(), X_tst[:,1].max()])\n",
    "b = W[0]/W[2]\n",
    "m = W[1]/W[2]\n",
    "\n",
    "ax.plot(x, b - m * x, '-k', lw=2)\n",
    "ax.set_xlim(X_tst[:,1].min(), X_tst[:,1].max())\n",
    "ax.set_ylim(X_tst[:,2].min(), X_tst[:,2].max())\n",
    "ax.grid(True)"
   ]
  },
  {
   "cell_type": "code",
   "execution_count": null,
   "id": "aa9679d4-6d66-449a-92e8-68af57363ed8",
   "metadata": {},
   "outputs": [],
   "source": []
  }
 ],
 "metadata": {
  "colab": {
   "provenance": []
  },
  "kernelspec": {
   "display_name": "Python 3 (ipykernel)",
   "language": "python",
   "name": "python3"
  },
  "language_info": {
   "codemirror_mode": {
    "name": "ipython",
    "version": 3
   },
   "file_extension": ".py",
   "mimetype": "text/x-python",
   "name": "python",
   "nbconvert_exporter": "python",
   "pygments_lexer": "ipython3",
   "version": "3.10.8"
  }
 },
 "nbformat": 4,
 "nbformat_minor": 5
}
