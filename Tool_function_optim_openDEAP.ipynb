{
 "cells": [
  {
   "attachments": {},
   "cell_type": "markdown",
   "id": "0fff24d8-a88b-4e2a-8fc6-49c0251cccab",
   "metadata": {},
   "source": [
    "## Castillo Sebastian"
   ]
  },
  {
   "attachments": {},
   "cell_type": "markdown",
   "id": "36770985-f171-4897-8da7-6fdda5f3ed05",
   "metadata": {},
   "source": [
    "## Importamos librerías"
   ]
  },
  {
   "cell_type": "code",
   "execution_count": 1,
   "id": "1dd078ca-8a70-44fb-a1a5-b4c8c0a026af",
   "metadata": {},
   "outputs": [],
   "source": [
    "import math\n",
    "import random\n",
    "\n",
    "import matplotlib.pyplot as plt\n",
    "import numpy as np\n",
    "\n",
    "from tqdm import tqdm\n",
    "\n",
    "#from deap import algorithms\n",
    "from deap import base  # Estructura que permite agrupar todos los componentes de nuestro algoritmo en una misma bolsa\n",
    "from deap import creator  # Permite crear los componentes de nuestro algoritmo\n",
    "from deap import tools  # Contiene funciones precargadas\n",
    "\n",
    "from joblib import Parallel, delayed"
   ]
  },
  {
   "cell_type": "code",
   "execution_count": 2,
   "id": "d830cc56-7f71-48fb-bf97-f3aa9924ce01",
   "metadata": {},
   "outputs": [],
   "source": [
    "def F(x,y):\n",
    "    '''\n",
    "    Función a optimizar.\n",
    "    '''\n",
    "    z = 418.9829 * 2 - x * np.sin( np.sqrt( np.abs( x )))- y * np.sin( np.sqrt(np.abs(y)))\n",
    "\n",
    "    return z"
   ]
  },
  {
   "cell_type": "code",
   "execution_count": 4,
   "id": "a899e73b",
   "metadata": {},
   "outputs": [],
   "source": [
    "\n",
    "\n",
    "V = np.arange(-500, 500.1, 0.1)\n",
    "\n"
   ]
  },
  {
   "cell_type": "code",
   "execution_count": 5,
   "id": "67ab7da0",
   "metadata": {},
   "outputs": [
    {
     "data": {
      "text/plain": [
       "200040002"
      ]
     },
     "execution_count": 5,
     "metadata": {},
     "output_type": "execute_result"
    }
   ],
   "source": [
    "(len(V)*len(V))*2"
   ]
  },
  {
   "cell_type": "code",
   "execution_count": 6,
   "id": "89e6faea",
   "metadata": {},
   "outputs": [
    {
     "name": "stdout",
     "output_type": "stream",
     "text": [
      "1000\n"
     ]
    },
    {
     "data": {
      "text/plain": [
       "10"
      ]
     },
     "execution_count": 6,
     "metadata": {},
     "output_type": "execute_result"
    }
   ],
   "source": [
    "rango_datos = len(list(range(-500, 500)))\n",
    "print(rango_datos)\n",
    "math.ceil(math.log(rango_datos,2))"
   ]
  },
  {
   "cell_type": "code",
   "execution_count": 7,
   "id": "55b84916",
   "metadata": {},
   "outputs": [
    {
     "data": {
      "text/plain": [
       "20"
      ]
     },
     "execution_count": 7,
     "metadata": {},
     "output_type": "execute_result"
    }
   ],
   "source": [
    "10 * 2 # bits x ejes"
   ]
  },
  {
   "attachments": {},
   "cell_type": "markdown",
   "id": "85b39ae1-f26c-468f-871f-f631876710c2",
   "metadata": {},
   "source": [
    "## Funciones auxiliares"
   ]
  },
  {
   "cell_type": "code",
   "execution_count": 8,
   "id": "b178f92e-820c-483b-80f4-54c5e3e1e6f6",
   "metadata": {},
   "outputs": [],
   "source": [
    "#=================================\n",
    "def bin(p=0.5):\n",
    "    '''\n",
    "    Esta función genera un bit al azar.\n",
    "    '''\n",
    "    if random.random() < p:\n",
    "        return 1\n",
    "    else:\n",
    "        return 0\n",
    "#=================================\n",
    "\n",
    "\n",
    "#=================================\n",
    "def mutation(ind, p):\n",
    "    '''\n",
    "    Esta función recorre el cromosoma y evalúa, para cada gen,\n",
    "    si debe aplicar el operador de mutación.\n",
    "    '''\n",
    "    \n",
    "    return [abs(i-1) if random.random() < p else i for i in ind]\n",
    "#================================="
   ]
  },
  {
   "attachments": {},
   "cell_type": "markdown",
   "id": "33a71154-7f0d-441a-acad-854c339aa0ed",
   "metadata": {},
   "source": [
    "**CONSIGNA 1**: Implemente una función para realizar el mapeo del genotipo al fenotipo."
   ]
  },
  {
   "cell_type": "code",
   "execution_count": 9,
   "id": "8bf72ad1-e7df-4121-8609-4d1c39f939f3",
   "metadata": {},
   "outputs": [],
   "source": [
    "def bin2dec(ind, low, high):\n",
    "    \n",
    "    N = len(ind)  \n",
    "\n",
    "    part_gen = N // 2\n",
    "    \n",
    "    ind_x = ind[:part_gen]\n",
    "    ind_y = ind[part_gen:]\n",
    "\n",
    "    x = 0\n",
    "    for k,i in enumerate(ind_x[::-1]):\n",
    "        x += (i * 2**k)\n",
    "\n",
    "    x = low + ((high-low)/ (2**part_gen)) * x\n",
    "\n",
    "    y = 0\n",
    "    for k,i in enumerate(ind_y[::-1]):\n",
    "        y += (i * 2**k)\n",
    "\n",
    "    y = low + ((high-low)/ (2**part_gen)) * y\n",
    "\n",
    "    return x, y\n"
   ]
  },
  {
   "attachments": {},
   "cell_type": "markdown",
   "id": "b9008005-1d96-4769-aac7-9dc594ecd3ae",
   "metadata": {},
   "source": [
    "**CONSIGNA 2**: Implemente la función de fitness para guiar la optimización."
   ]
  },
  {
   "cell_type": "code",
   "execution_count": 18,
   "id": "98e6e48a-4cc8-4c35-a3bc-fb93404e0870",
   "metadata": {},
   "outputs": [],
   "source": [
    "def fitness(ind, low, high):\n",
    "    '''\n",
    "    Función de aptitud empleada por nuestro algoritmo.  \n",
    "      \n",
    "    '''\n",
    "    \n",
    "    dec = bin2dec(ind, low=low, high=high)\n",
    "    \n",
    "    z = F(dec[0], dec[1])\n",
    "    \n",
    "    return z"
   ]
  },
  {
   "attachments": {},
   "cell_type": "markdown",
   "id": "b0b717bd-dfd7-4443-aa25-d2c3973479aa",
   "metadata": {},
   "source": [
    "## Inicializamos parámetros del experimento"
   ]
  },
  {
   "attachments": {},
   "cell_type": "markdown",
   "id": "4e637e05-c644-465a-b4bc-02658d27823d",
   "metadata": {},
   "source": [
    "**CONSIGNA 3**: Proponga valores para los siguientes parámetros:\n",
    "- `IND_SIZE`   # Cantidad total de genes en el cromosoma\n",
    "- `LB`         # Límite inferior del rango a evaluar\n",
    "- `UB`         # Límite superior del rango a evaluar\n",
    "- `POP_SIZE`   # Cantidad de individuos en la población\n",
    "- `PM`         # Probabilidad de mutación\n",
    "- `N_PARENTS`  # Número de padres para la cruza\n",
    "- `PX`         # Probabilidad de cruza\n",
    "- `GMAX`       # Cantidad máxima de generaciones\n",
    "\n",
    "Justifique su elección."
   ]
  },
  {
   "cell_type": "code",
   "execution_count": 10,
   "id": "f1d51f68-b17b-4e8d-939a-9e83f3245817",
   "metadata": {},
   "outputs": [],
   "source": [
    "IND_SIZE = 20  # Cantidad total de genes en el cromosoma\n",
    "LB = -500        # Límite inferior del rango a evaluar\n",
    "UB = 500        # Límite superior del rango a evaluar\n",
    "\n",
    "POP_SIZE = 100  # Cantidad de individuos en la población\n",
    "PM = 1./IND_SIZE        # Probabilidad de mutación [aproximadamente 1 gen por cromosoma]\n",
    "N_PARENTS = POP_SIZE - 1 # Número de padres seleccionados para generar la descendencia\n",
    "PX = 0.9        # Probabilidad de cruza\n",
    "GMAX = 100      # Cantidad máxima de generaciones que se ejecutará el algoritmo"
   ]
  },
  {
   "attachments": {},
   "cell_type": "markdown",
   "id": "fe0f6609-b27d-4746-a0bb-6b1be92ed286",
   "metadata": {},
   "source": [
    "## Creamos los componentes del algoritmo"
   ]
  },
  {
   "cell_type": "code",
   "execution_count": 11,
   "id": "44fb68e5-c4b4-4ac8-89c7-e8cc5a78f8e1",
   "metadata": {},
   "outputs": [],
   "source": [
    "# CREAMOS LA FUNCION DE FITNESS\n",
    "# Esta función tiene \"1 OBJETIVO\" a \"MINIMIZAR\"\n",
    "creator.create(\"Fitness\",  # Nombre con el que se registra el componente\n",
    "               base.Fitness,  # Clase de la que hereda\n",
    "               weights=(-1.0,)) # Minimización de la función\n",
    "\n",
    "#---------------------\n",
    "\n",
    "# CREAMOS EL CONSTRUCTOR DE INDIVIDUOS\n",
    "creator.create(\"Individual\", # Nombre con el que se registra el componente\n",
    "               list,  # Clase de la que hereda [Tipo de contenedor en este caso]\n",
    "               fitness=creator.Fitness)  # Asignamos un método para evaluar el fitness del individuo"
   ]
  },
  {
   "attachments": {},
   "cell_type": "markdown",
   "id": "62fbdaa2-6ddc-4424-a0d9-4132069ff231",
   "metadata": {},
   "source": [
    "## REGISTRAMOS COMPONENTES"
   ]
  },
  {
   "cell_type": "code",
   "execution_count": 14,
   "id": "093e8901-ebf8-4bf0-b286-ab04571f5a55",
   "metadata": {},
   "outputs": [],
   "source": [
    "toolbox = base.Toolbox()\n",
    "\n",
    "#---------------------\n",
    "\n",
    "# DEFINIMOS COMO CONSTRUIR UN GEN\n",
    "toolbox.register(\"attribute\",  # Nombre con el que se registra el componente\n",
    "                 bin,\n",
    "                 p=0.5)  # Función asociada a ese componente\n",
    "\n",
    "#---------------------\n",
    "\n",
    "# DEFINIMOS COMO CONSTRUIR UN INDIVIDUO/CROMOSOMA\n",
    "toolbox.register(\"individual\",  # Nombre con el que se registra el componente\n",
    "                 tools.initRepeat,  # Método usado para construir el cromosoma\n",
    "                 creator.Individual,  # ...\n",
    "                 toolbox.attribute,  # Función para construir cada gen\n",
    "                 n=IND_SIZE)  # Número de genes del cromosoma/individuo (se repetirá la función construir gen)\n",
    "\n",
    "#---------------------\n",
    "\n",
    "# DEFINIMOS COMO CONSTRUIR LA POBLACION\n",
    "toolbox.register(\"population\",  # Nombre con el que se registra el componente\n",
    "                 tools.initRepeat,  # Método usado para construir el cromosoma\n",
    "                 list,\n",
    "                 toolbox.individual)\n",
    "\n",
    "#---------------------\n",
    "\n",
    "# DEFINIMOS COMO REALIZAR LA CRUZA\n",
    "toolbox.register(\"mate\",  # Nombre con el que se registra el componente\n",
    "                 tools.cxTwoPoint)  # \n",
    "\n",
    "#---------------------\n",
    "\n",
    "# DEFINIMOS COMO REALIZAR LA MUTACION\n",
    "toolbox.register(\"mutate\",  # Nombre con el que se registra el componente\n",
    "                 mutation,  # Método de mutación (definido como función más arriba)\n",
    "                 p=PM)  # Parámetro que usa la mutación\n",
    "\n",
    "#---------------------\n",
    "\n",
    "# DEFINIMOS COMO REALIZAR LA SELECCION DE INDIVIDUOS\n",
    "toolbox.register(\"select\",  # Nombre con el que se registra el componente\n",
    "                 tools.selTournament,  # Método usado para selección [selRoulette | selTournament | ...]\n",
    "                 tournsize=5)  # Parámetro que usa el torneo"
   ]
  },
  {
   "attachments": {},
   "cell_type": "markdown",
   "id": "2cec6c90-35ca-4c0e-bd51-1342ed75fd99",
   "metadata": {},
   "source": [
    "## Definimos las estadísticas a calcular"
   ]
  },
  {
   "cell_type": "code",
   "execution_count": 15,
   "id": "1258a42b-47b6-4757-92e6-d83b49f08e66",
   "metadata": {},
   "outputs": [],
   "source": [
    "# EXTRAEMOS EL FITNESS DE TODOS LOS INDIVIDUOS\n",
    "stats_fit = tools.Statistics(key=lambda ind: ind.fitness.values)\n",
    "\n",
    "# EXTRAEMOS EL TAMAÑO DE TODOS LOS INDIVIDUOS\n",
    "stats_size = tools.Statistics(key=len)\n",
    "\n",
    "# EXTRAEMOS EL TAMAÑO DE TODOS LOS INDIVIDUOS\n",
    "stats_active_genes = tools.Statistics(key=lambda ind: np.sum(ind))\n",
    "\n",
    "mstats = tools.MultiStatistics(fitness=stats_fit,\n",
    "                               size=stats_size,\n",
    "                               genes=stats_active_genes)\n",
    "\n",
    "mstats.register(\"avg\", np.mean)\n",
    "mstats.register(\"std\", np.std)\n",
    "mstats.register(\"min\", np.min)\n",
    "mstats.register(\"max\", np.max)\n",
    "\n",
    "# INICIALIZAMOS UN LOGGER\n",
    "logbook = tools.Logbook()"
   ]
  },
  {
   "cell_type": "code",
   "execution_count": 16,
   "id": "d784c2be-85f4-4772-b3b7-86a2697ff5cd",
   "metadata": {},
   "outputs": [],
   "source": [
    "#================================================\n",
    "# INICIALIZAMOS LA POBLACIÓN\n",
    "#================================================\n",
    "pop = toolbox.population(n=POP_SIZE)  # Inicializamos una población\n",
    "#================================================"
   ]
  },
  {
   "cell_type": "code",
   "execution_count": 21,
   "id": "5b34a023-fdd4-441b-95e1-aef005c2ea91",
   "metadata": {
    "editable": true,
    "slideshow": {
     "slide_type": ""
    },
    "tags": []
   },
   "outputs": [],
   "source": [
    "#================================================\n",
    "# EVALUAMOS EL FITNESS DE LA POBLACION\n",
    "#======================================\n",
    "fitnesses = Parallel(n_jobs=6, backend='multiprocessing')(delayed(fitness)(ind, LB, UB) for ind in pop)\n",
    "#================================================\n",
    "\n",
    "#================================================\n",
    "# ASIGNAMOS A CADA INDIVIDUO SU FITNESS\n",
    "#========================================\n",
    "for ind,fit in zip(pop, fitnesses):\n",
    "    ind.fitness.values = (fit,)  # Guardamos el fitness para cada individuo (en el individuo)\n",
    "#================================================\n",
    "\n",
    "records = mstats.compile(pop)\n",
    "logbook.record(gen=0, **records)"
   ]
  },
  {
   "attachments": {},
   "cell_type": "markdown",
   "id": "7384d0ed-fc66-4384-b570-9862639e157f",
   "metadata": {},
   "source": [
    "**CONSIGNA 4**: Proponga el ciclo de pasos a seguir por el algoritmo para realizar la evoluión."
   ]
  },
  {
   "cell_type": "code",
   "execution_count": 22,
   "id": "31952a0b-791f-42e2-8cf8-689aa95d267c",
   "metadata": {},
   "outputs": [
    {
     "name": "stdout",
     "output_type": "stream",
     "text": [
      "===============================================================================\n",
      "GENERATION: 10\n",
      "ELITE -- Fitness: 1.033\n",
      "FITNES:  {'avg': 1.0330431212080384, 'std': 0.0, 'min': 1.0330431212080384, 'max': 1.0330431212080384}\n",
      "===============================================================================\n",
      "GENERATION: 20\n",
      "ELITE -- Fitness: 1.033\n",
      "FITNES:  {'avg': 1.0330431212080384, 'std': 0.0, 'min': 1.0330431212080384, 'max': 1.0330431212080384}\n",
      "===============================================================================\n",
      "GENERATION: 30\n",
      "ELITE -- Fitness: 1.033\n",
      "FITNES:  {'avg': 1.0330431212080384, 'std': 0.0, 'min': 1.0330431212080384, 'max': 1.0330431212080384}\n",
      "===============================================================================\n",
      "GENERATION: 40\n",
      "ELITE -- Fitness: 1.033\n",
      "FITNES:  {'avg': 1.0330431212080384, 'std': 0.0, 'min': 1.0330431212080384, 'max': 1.0330431212080384}\n",
      "===============================================================================\n",
      "GENERATION: 50\n",
      "ELITE -- Fitness: 1.033\n",
      "FITNES:  {'avg': 1.0330431212080384, 'std': 0.0, 'min': 1.0330431212080384, 'max': 1.0330431212080384}\n",
      "===============================================================================\n",
      "GENERATION: 60\n",
      "ELITE -- Fitness: 1.033\n",
      "FITNES:  {'avg': 1.0330431212080384, 'std': 0.0, 'min': 1.0330431212080384, 'max': 1.0330431212080384}\n",
      "===============================================================================\n",
      "GENERATION: 70\n",
      "ELITE -- Fitness: 1.033\n",
      "FITNES:  {'avg': 1.0330431212080384, 'std': 0.0, 'min': 1.0330431212080384, 'max': 1.0330431212080384}\n",
      "===============================================================================\n",
      "GENERATION: 80\n",
      "ELITE -- Fitness: 1.033\n",
      "FITNES:  {'avg': 1.0330431212080384, 'std': 0.0, 'min': 1.0330431212080384, 'max': 1.0330431212080384}\n",
      "===============================================================================\n",
      "GENERATION: 90\n",
      "ELITE -- Fitness: 1.033\n",
      "FITNES:  {'avg': 1.0330431212080384, 'std': 0.0, 'min': 1.0330431212080384, 'max': 1.0330431212080384}\n"
     ]
    }
   ],
   "source": [
    "#################################################################################\n",
    "# COMENZAMOS LA EVOLUCION\n",
    "################################\n",
    "\n",
    "for g in range(1,GMAX):\n",
    "\n",
    "    #================================================\n",
    "    # SELECCIONAMOS INDIVIDUO ELITE\n",
    "    #================================\n",
    "    idx_elite = np.argmin(fitnesses)  # Si maximizamos, hay que usar \".argmax()\"\n",
    "    elite = toolbox.clone(pop[idx_elite])\n",
    "    del elite.fitness.values\n",
    "    #================================================\n",
    "\n",
    "    \n",
    "    #================================================\n",
    "    # HACEMOS UNA COPIA DE LA POBLACION ACTUAL\n",
    "    #==========================================\n",
    "    parents = toolbox.select(pop, POP_SIZE)  # Seleccionamos individuos para alcanzar\n",
    "                                               # el tamaño de la población\n",
    "    \n",
    "    offspring = list(map(toolbox.clone, pop))  # Clonamos para tener nuevos individuos\n",
    "                                                     # (contenedores independientes)\n",
    "    #================================================\n",
    "\n",
    "\n",
    "    #================================================\n",
    "    # REALIZAMOS LA CRUZA DE LOS PADRES\n",
    "    #====================================\n",
    "    for i in range(POP_SIZE//2):\n",
    "        parent1 = toolbox.clone(parents[random.randint(0,POP_SIZE-1)])\n",
    "        parent2 = toolbox.clone(parents[random.randint(0,POP_SIZE-1)])\n",
    "        \n",
    "        if random.random() < PX:\n",
    "            childs = toolbox.mate(parent1, parent2)\n",
    "        else:\n",
    "            childs = (parent1, parent2)\n",
    "        \n",
    "        offspring[2*i] = childs[0]\n",
    "        offspring[2*i+1] = childs[1]\n",
    "    #================================================\n",
    "\n",
    "\n",
    "    #================================================\n",
    "    # MUTAMOS LOS HIJOS\n",
    "    #=================================\n",
    "    for mutant in offspring:\n",
    "        toolbox.mutate(mutant)\n",
    "        del mutant.fitness.values\n",
    "    #================================================\n",
    "    \n",
    "    \n",
    "    #================================================\n",
    "    # EVALUAMOS EL FITNESS\n",
    "    # Y SE LO ASIGNAMOS A CADA INDIVIDUO\n",
    "    #======================================\n",
    "    offspring[0] = elite\n",
    "\n",
    "    fitnesses = Parallel(n_jobs=6, backend='multiprocessing')(delayed(fitness)(ind, LB, UB) for ind in offspring)\n",
    "    \n",
    "    for ind, fit in zip(offspring, fitnesses):\n",
    "        ind.fitness.values = (fit,)\n",
    "    #================================================\n",
    "\n",
    "    \n",
    "    #================================================\n",
    "    # CONSTRUIMOS LA NUEVA POBLACION\n",
    "    #================================\n",
    "    pop = toolbox.clone(offspring)\n",
    "    #================================================\n",
    "    \n",
    "    #================================================\n",
    "    # CALCULAMOS ESTADÏSTICAS\n",
    "    #============================\n",
    "    records = mstats.compile(pop)\n",
    "    logbook.record(gen=g, **records)\n",
    "\n",
    "    if (g%10 == 0):\n",
    "        print('='*79)\n",
    "        print(f'GENERATION: {g}')\n",
    "        print(f'ELITE -- Fitness: {elite.fitness.values[0]:.4}')\n",
    "        print('FITNES: ', records['fitness'])\n",
    "    #================================================"
   ]
  },
  {
   "attachments": {},
   "cell_type": "markdown",
   "id": "5637fdcb-3b3d-448f-84a3-adddb25d5691",
   "metadata": {},
   "source": [
    "## Graficamos la evolución del fitness"
   ]
  },
  {
   "cell_type": "code",
   "execution_count": 23,
   "id": "d47dc5fa-475c-4c79-8b6b-99d0387ac648",
   "metadata": {},
   "outputs": [
    {
     "data": {
      "image/png": "[encoded data removed]",
      "text/plain": [
       "<Figure size 2000x600 with 1 Axes>"
      ]
     },
     "metadata": {},
     "output_type": "display_data"
    }
   ],
   "source": [
    "f_avg = [f['avg'] for f in logbook.chapters['fitness']]  # Extraemos fitness promedio a lo largo de las épocas\n",
    "f_max = [f['max'] for f in logbook.chapters['fitness']]  # Extraemos fitness máximo a lo largo de las épocas\n",
    "f_min = [f['min'] for f in logbook.chapters['fitness']]  # Extraemos fitness mínimo (elite) a lo largo de las épocas\n",
    "\n",
    "fig, ax = plt.subplots(1, 1, figsize=(20,6)) \n",
    "ax.plot(range(GMAX), f_avg, '-r')\n",
    "ax.plot(range(GMAX), f_max, '-g')\n",
    "ax.plot(range(GMAX), f_min, '-b')\n",
    "ax.set_xlabel('Generaciones', fontsize=16)\n",
    "ax.set_ylabel('Fitness', fontsize=16)\n",
    "ax.grid(True)"
   ]
  },
  {
   "attachments": {},
   "cell_type": "markdown",
   "id": "c7a62228-7fb4-4fca-b682-cc56f1eade42",
   "metadata": {},
   "source": [
    "**CONSIGNA 5**: ¿Qué puede concluir de estas curvas de evolución?"
   ]
  },
  {
   "attachments": {},
   "cell_type": "markdown",
   "id": "8db7bdfd-962a-47f2-be01-49fa6c220507",
   "metadata": {},
   "source": [
    "**CONSIGNA 6**: ¿Cuáles son las coordenadas del mejor individuo?"
   ]
  },
  {
   "cell_type": "code",
   "execution_count": 24,
   "id": "0d6a53d4-c9d6-4b92-b8ca-7d1f03c7f919",
   "metadata": {},
   "outputs": [
    {
     "name": "stdout",
     "output_type": "stream",
     "text": [
      "423.828125\n",
      "420.8984375\n"
     ]
    },
    {
     "data": {
      "text/plain": [
       "(None, None)"
      ]
     },
     "execution_count": 24,
     "metadata": {},
     "output_type": "execute_result"
    }
   ],
   "source": [
    "x_elit = bin2dec(pop[0],LB,UB)[0]\n",
    "y_elit = bin2dec(pop[0],LB,UB)[1]\n",
    "print(x_elit), print(y_elit)"
   ]
  },
  {
   "attachments": {},
   "cell_type": "markdown",
   "id": "ad40364e-c699-472c-8f2a-6bb58d104a03",
   "metadata": {},
   "source": [
    "## Graficamos la solución"
   ]
  },
  {
   "cell_type": "code",
   "execution_count": 25,
   "id": "35e01970-15d9-4339-9903-eddacb30f1ef",
   "metadata": {},
   "outputs": [
    {
     "data": {
      "image/png": "[encoded data removed]",
      "text/plain": [
       "<Figure size 1000x800 with 2 Axes>"
      ]
     },
     "metadata": {},
     "output_type": "display_data"
    }
   ],
   "source": [
    "#====================================================\n",
    "# PLOT RESULTS\n",
    "#===================\n",
    "fig, ax = plt.subplots(1, 1, figsize=(10, 8))\n",
    "\n",
    "delta = 0.1\n",
    "V = np.arange(LB, UB+delta, delta)\n",
    "\n",
    "X,Y  = np.meshgrid(V, V)\n",
    "\n",
    "Z = F(X,Y)\n",
    "\n",
    "# GRAFICAMOS SUPERFICIE\n",
    "cs = ax.contourf(X,Y,Z, cmap='cool')\n",
    "\n",
    "ax.scatter(x_elit, y_elit, s=30, c='k')\n",
    "\n",
    "ax.grid(True)\n",
    "ax.set_xlabel('X', fontsize=16)\n",
    "ax.set_ylabel('Y', fontsize=16)\n",
    "\n",
    "fig.colorbar(cs)\n",
    "plt.show()"
   ]
  },
  {
   "cell_type": "code",
   "execution_count": null,
   "id": "04356f32",
   "metadata": {},
   "outputs": [],
   "source": []
  },
  {
   "attachments": {},
   "cell_type": "markdown",
   "id": "c6c12e9e-9459-42bc-8684-cd1fb2341886",
   "metadata": {},
   "source": [
    "**CONSIGNA 7**: ¿Cómo modificaría la función de mapeo de genotipo a fenotipo para que sea capaz de representar con diferente resolución los valores de `x` e `y`? Por ejemplo, `x` usando 8 bits e `y` usando 16 bits."
   ]
  },
  {
   "attachments": {},
   "cell_type": "markdown",
   "id": "9e764706-da89-49ab-80a8-99d4a08c177b",
   "metadata": {},
   "source": [
    "La funcion de mapeo implementada solamente requiere cambiar IND_SIZE al valor de resolución requerido multiplicado por 2. Es decir 2*Resolucion = IND_SIZE"
   ]
  },
  {
   "attachments": {},
   "cell_type": "markdown",
   "id": "9d193f12-5613-46a8-9bcb-8d53b80e9d1b",
   "metadata": {},
   "source": [
    "**CONSIGNA 8**: Ejecute el algoritmo 5 veces, empleando en cada caso 8 y 32 bits para representar cada variable. Construya una tabla con las coordenadas obtenidas en cada caso. ¿Se conserva la solución? Comente al respecto."
   ]
  }
 ],
 "metadata": {
  "kernelspec": {
   "display_name": "Python 3 (ipykernel)",
   "language": "python",
   "name": "python3"
  },
  "language_info": {
   "codemirror_mode": {
    "name": "ipython",
    "version": 3
   },
   "file_extension": ".py",
   "mimetype": "text/x-python",
   "name": "python",
   "nbconvert_exporter": "python",
   "pygments_lexer": "ipython3",
   "version": "3.9.13"
  }
 },
 "nbformat": 4,
 "nbformat_minor": 5
}
